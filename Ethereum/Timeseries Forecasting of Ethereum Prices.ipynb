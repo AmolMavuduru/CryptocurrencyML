{
 "cells": [
  {
   "cell_type": "markdown",
   "metadata": {},
   "source": [
    "# Timeseries Forecasting of Cryptocurrency Prices\n",
    "\n",
    "In this exploration, I make an attempt to train recurrent neural networks to predict the price of cryptocurrencies such as bitcoin."
   ]
  },
  {
   "cell_type": "markdown",
   "metadata": {},
   "source": [
    "## Importing Libraries and Reading in the Data"
   ]
  },
  {
   "cell_type": "code",
   "execution_count": 1,
   "metadata": {
    "collapsed": false
   },
   "outputs": [],
   "source": [
    "import numpy as np\n",
    "import pandas as pd\n",
    "import matplotlib.pyplot as plt\n",
    "%matplotlib inline"
   ]
  },
  {
   "cell_type": "code",
   "execution_count": 2,
   "metadata": {
    "collapsed": false
   },
   "outputs": [
    {
     "data": {
      "text/html": [
       "<div>\n",
       "<style scoped>\n",
       "    .dataframe tbody tr th:only-of-type {\n",
       "        vertical-align: middle;\n",
       "    }\n",
       "\n",
       "    .dataframe tbody tr th {\n",
       "        vertical-align: top;\n",
       "    }\n",
       "\n",
       "    .dataframe thead th {\n",
       "        text-align: right;\n",
       "    }\n",
       "</style>\n",
       "<table border=\"1\" class=\"dataframe\">\n",
       "  <thead>\n",
       "    <tr style=\"text-align: right;\">\n",
       "      <th></th>\n",
       "      <th>Date</th>\n",
       "      <th>Price</th>\n",
       "      <th>Open</th>\n",
       "      <th>High</th>\n",
       "      <th>Low</th>\n",
       "      <th>Vol.</th>\n",
       "      <th>Change %</th>\n",
       "    </tr>\n",
       "  </thead>\n",
       "  <tbody>\n",
       "    <tr>\n",
       "      <th>0</th>\n",
       "      <td>Jan 11, 2018</td>\n",
       "      <td>1,229.10</td>\n",
       "      <td>1,245.90</td>\n",
       "      <td>1,331.80</td>\n",
       "      <td>1,109.80</td>\n",
       "      <td>364.76K</td>\n",
       "      <td>-1.51</td>\n",
       "    </tr>\n",
       "    <tr>\n",
       "      <th>1</th>\n",
       "      <td>Jan 10, 2018</td>\n",
       "      <td>1,248.00</td>\n",
       "      <td>1,285.70</td>\n",
       "      <td>1,381.90</td>\n",
       "      <td>1,203.20</td>\n",
       "      <td>380.43K</td>\n",
       "      <td>-2.78</td>\n",
       "    </tr>\n",
       "    <tr>\n",
       "      <th>2</th>\n",
       "      <td>Jan 09, 2018</td>\n",
       "      <td>1,283.70</td>\n",
       "      <td>1,129.40</td>\n",
       "      <td>1,299.00</td>\n",
       "      <td>1,119.10</td>\n",
       "      <td>296.90K</td>\n",
       "      <td>13.67</td>\n",
       "    </tr>\n",
       "    <tr>\n",
       "      <th>3</th>\n",
       "      <td>Jan 08, 2018</td>\n",
       "      <td>1,129.30</td>\n",
       "      <td>1,115.90</td>\n",
       "      <td>1,225.00</td>\n",
       "      <td>968.12</td>\n",
       "      <td>439.43K</td>\n",
       "      <td>1.21</td>\n",
       "    </tr>\n",
       "    <tr>\n",
       "      <th>4</th>\n",
       "      <td>Jan 07, 2018</td>\n",
       "      <td>1,115.80</td>\n",
       "      <td>1,004.30</td>\n",
       "      <td>1,116.00</td>\n",
       "      <td>999.50</td>\n",
       "      <td>199.83K</td>\n",
       "      <td>11.10</td>\n",
       "    </tr>\n",
       "  </tbody>\n",
       "</table>\n",
       "</div>"
      ],
      "text/plain": [
       "           Date     Price      Open      High       Low     Vol.  Change %\n",
       "0  Jan 11, 2018  1,229.10  1,245.90  1,331.80  1,109.80  364.76K     -1.51\n",
       "1  Jan 10, 2018  1,248.00  1,285.70  1,381.90  1,203.20  380.43K     -2.78\n",
       "2  Jan 09, 2018  1,283.70  1,129.40  1,299.00  1,119.10  296.90K     13.67\n",
       "3  Jan 08, 2018  1,129.30  1,115.90  1,225.00    968.12  439.43K      1.21\n",
       "4  Jan 07, 2018  1,115.80  1,004.30  1,116.00    999.50  199.83K     11.10"
      ]
     },
     "execution_count": 2,
     "metadata": {},
     "output_type": "execute_result"
    }
   ],
   "source": [
    "data = pd.read_csv('./data/ETH USD Historical Data.csv')\n",
    "data.head()"
   ]
  },
  {
   "cell_type": "code",
   "execution_count": 3,
   "metadata": {
    "collapsed": false
   },
   "outputs": [
    {
     "data": {
      "text/html": [
       "<div>\n",
       "<style scoped>\n",
       "    .dataframe tbody tr th:only-of-type {\n",
       "        vertical-align: middle;\n",
       "    }\n",
       "\n",
       "    .dataframe tbody tr th {\n",
       "        vertical-align: top;\n",
       "    }\n",
       "\n",
       "    .dataframe thead th {\n",
       "        text-align: right;\n",
       "    }\n",
       "</style>\n",
       "<table border=\"1\" class=\"dataframe\">\n",
       "  <thead>\n",
       "    <tr style=\"text-align: right;\">\n",
       "      <th></th>\n",
       "      <th>Date</th>\n",
       "      <th>Price</th>\n",
       "      <th>Open</th>\n",
       "      <th>High</th>\n",
       "      <th>Low</th>\n",
       "      <th>Vol.</th>\n",
       "      <th>Change %</th>\n",
       "    </tr>\n",
       "  </thead>\n",
       "  <tbody>\n",
       "    <tr>\n",
       "      <th>670</th>\n",
       "      <td>Mar 12, 2016</td>\n",
       "      <td>12.92</td>\n",
       "      <td>11.95</td>\n",
       "      <td>13.45</td>\n",
       "      <td>11.95</td>\n",
       "      <td>0.24K</td>\n",
       "      <td>8.12</td>\n",
       "    </tr>\n",
       "    <tr>\n",
       "      <th>671</th>\n",
       "      <td>Mar 11, 2016</td>\n",
       "      <td>11.95</td>\n",
       "      <td>11.75</td>\n",
       "      <td>11.95</td>\n",
       "      <td>11.75</td>\n",
       "      <td>0.05K</td>\n",
       "      <td>1.70</td>\n",
       "    </tr>\n",
       "    <tr>\n",
       "      <th>672</th>\n",
       "      <td>Mar 10, 2016</td>\n",
       "      <td>11.75</td>\n",
       "      <td>11.20</td>\n",
       "      <td>11.85</td>\n",
       "      <td>11.07</td>\n",
       "      <td>0.00K</td>\n",
       "      <td>4.91</td>\n",
       "    </tr>\n",
       "    <tr>\n",
       "      <th>673</th>\n",
       "      <td>NaN</td>\n",
       "      <td>NaN</td>\n",
       "      <td>NaN</td>\n",
       "      <td>NaN</td>\n",
       "      <td>NaN</td>\n",
       "      <td>NaN</td>\n",
       "      <td>NaN</td>\n",
       "    </tr>\n",
       "    <tr>\n",
       "      <th>674</th>\n",
       "      <td>NaN</td>\n",
       "      <td>Highest:1,381.90</td>\n",
       "      <td>Lowest:5.86</td>\n",
       "      <td>Difference:1,376.04</td>\n",
       "      <td>Average:141.45</td>\n",
       "      <td>Change %:10,874.11</td>\n",
       "      <td>NaN</td>\n",
       "    </tr>\n",
       "  </tbody>\n",
       "</table>\n",
       "</div>"
      ],
      "text/plain": [
       "             Date             Price         Open                 High  \\\n",
       "670  Mar 12, 2016             12.92        11.95                13.45   \n",
       "671  Mar 11, 2016             11.95        11.75                11.95   \n",
       "672  Mar 10, 2016             11.75        11.20                11.85   \n",
       "673           NaN               NaN          NaN                  NaN   \n",
       "674           NaN  Highest:1,381.90  Lowest:5.86  Difference:1,376.04   \n",
       "\n",
       "                Low                Vol.  Change %  \n",
       "670           11.95               0.24K      8.12  \n",
       "671           11.75               0.05K      1.70  \n",
       "672           11.07               0.00K      4.91  \n",
       "673             NaN                 NaN       NaN  \n",
       "674  Average:141.45  Change %:10,874.11       NaN  "
      ]
     },
     "execution_count": 3,
     "metadata": {},
     "output_type": "execute_result"
    }
   ],
   "source": [
    "data.tail()"
   ]
  },
  {
   "cell_type": "code",
   "execution_count": 4,
   "metadata": {
    "collapsed": false
   },
   "outputs": [],
   "source": [
    "data.dropna(axis=0, inplace=True)\n",
    "data = data.iloc[::-1]"
   ]
  },
  {
   "cell_type": "code",
   "execution_count": 5,
   "metadata": {
    "collapsed": false
   },
   "outputs": [],
   "source": [
    "from pandas import datetime\n",
    "data['Date'] = data['Date'].apply(lambda date: pd.to_datetime(date))"
   ]
  },
  {
   "cell_type": "code",
   "execution_count": 6,
   "metadata": {
    "collapsed": true
   },
   "outputs": [],
   "source": [
    "import locale\n",
    "from locale import *\n",
    "locale.setlocale(locale.LC_NUMERIC, '')\n",
    "data['Price'] = data['Price'].apply(lambda x: atof(x))"
   ]
  },
  {
   "cell_type": "code",
   "execution_count": 7,
   "metadata": {
    "collapsed": true
   },
   "outputs": [],
   "source": [
    "data['Open'] = data['Open'].apply(lambda x: atof(x))\n",
    "data['High'] = data['High'].apply(lambda x: atof(x))\n",
    "data['Low'] = data['Low'].apply(lambda x: atof(x))"
   ]
  },
  {
   "cell_type": "code",
   "execution_count": 8,
   "metadata": {
    "collapsed": false
   },
   "outputs": [
    {
     "name": "stdout",
     "output_type": "stream",
     "text": [
      "<class 'pandas.core.frame.DataFrame'>\n",
      "Int64Index: 673 entries, 672 to 0\n",
      "Data columns (total 7 columns):\n",
      "Date        673 non-null datetime64[ns]\n",
      "Price       673 non-null float64\n",
      "Open        673 non-null float64\n",
      "High        673 non-null float64\n",
      "Low         673 non-null float64\n",
      "Vol.        673 non-null object\n",
      "Change %    673 non-null float64\n",
      "dtypes: datetime64[ns](1), float64(5), object(1)\n",
      "memory usage: 42.1+ KB\n"
     ]
    }
   ],
   "source": [
    "data.info()"
   ]
  },
  {
   "cell_type": "markdown",
   "metadata": {},
   "source": [
    "## Visualizing prices for the whole dataset"
   ]
  },
  {
   "cell_type": "code",
   "execution_count": 9,
   "metadata": {
    "collapsed": false
   },
   "outputs": [
    {
     "data": {
      "image/png": "[encoded data removed]",
      "text/plain": [
       "<matplotlib.figure.Figure at 0x11446e5c0>"
      ]
     },
     "metadata": {},
     "output_type": "display_data"
    }
   ],
   "source": [
    "plt.plot(data['Date'], data['Price'], color = 'orange')\n",
    "plt.plot(data['Date'], data['Open'], color='purple')\n",
    "plt.plot(data['Date'], data['Low'], color='red')\n",
    "plt.plot(data['Date'], data['High'], color='blue')\n",
    "plt.title('Ethereum Prices')\n",
    "plt.xlabel('Date')\n",
    "plt.ylabel('Price')\n",
    "plt.legend()\n",
    "fig = plt.gcf()\n",
    "fig.set_size_inches(15, 10)"
   ]
  },
  {
   "cell_type": "markdown",
   "metadata": {},
   "source": [
    "## Using TensorFlow to Train RNNs"
   ]
  },
  {
   "cell_type": "code",
   "execution_count": 10,
   "metadata": {
    "collapsed": false
   },
   "outputs": [
    {
     "name": "stderr",
     "output_type": "stream",
     "text": [
      "//anaconda/lib/python3.5/importlib/_bootstrap.py:222: RuntimeWarning: compiletime version 3.6 of module 'tensorflow.python.framework.fast_tensor_util' does not match runtime version 3.5\n",
      "  return f(*args, **kwds)\n"
     ]
    }
   ],
   "source": [
    "import tensorflow as tf"
   ]
  },
  {
   "cell_type": "code",
   "execution_count": 11,
   "metadata": {
    "collapsed": false
   },
   "outputs": [],
   "source": [
    "data = data.set_index('Date')"
   ]
  },
  {
   "cell_type": "code",
   "execution_count": 12,
   "metadata": {
    "collapsed": false
   },
   "outputs": [
    {
     "name": "stdout",
     "output_type": "stream",
     "text": [
      "<class 'pandas.core.frame.DataFrame'>\n",
      "DatetimeIndex: 673 entries, 2016-03-10 to 2018-01-11\n",
      "Data columns (total 6 columns):\n",
      "Price       673 non-null float64\n",
      "Open        673 non-null float64\n",
      "High        673 non-null float64\n",
      "Low         673 non-null float64\n",
      "Vol.        673 non-null object\n",
      "Change %    673 non-null float64\n",
      "dtypes: float64(5), object(1)\n",
      "memory usage: 36.8+ KB\n"
     ]
    }
   ],
   "source": [
    "data.info()"
   ]
  },
  {
   "cell_type": "markdown",
   "metadata": {},
   "source": [
    "### Scaling the Data\n",
    "In order to train a neural network on this data, it is a good idea to scale it first."
   ]
  },
  {
   "cell_type": "code",
   "execution_count": 13,
   "metadata": {
    "collapsed": true
   },
   "outputs": [],
   "source": [
    "from sklearn.preprocessing import MinMaxScaler"
   ]
  },
  {
   "cell_type": "code",
   "execution_count": 14,
   "metadata": {
    "collapsed": true
   },
   "outputs": [],
   "source": [
    "scaler = MinMaxScaler()"
   ]
  },
  {
   "cell_type": "code",
   "execution_count": 15,
   "metadata": {
    "collapsed": true
   },
   "outputs": [],
   "source": [
    "price_data_scaled = scaler.fit_transform(data['Price'].values.reshape(-1, 1))"
   ]
  },
  {
   "cell_type": "markdown",
   "metadata": {},
   "source": [
    "### Creating a Dataset with Features"
   ]
  },
  {
   "cell_type": "code",
   "execution_count": 16,
   "metadata": {
    "collapsed": true
   },
   "outputs": [],
   "source": [
    "def create_dataset(timeseries, n_inputs=30):\n",
    "    \n",
    "    features = []\n",
    "    targets = []\n",
    "    \n",
    "    for i in range(len(timeseries) - n_inputs):\n",
    "        \n",
    "        start = i\n",
    "        end = start + n_inputs\n",
    "        \n",
    "        x = timeseries[start:end]\n",
    "        y = timeseries[end]\n",
    "        \n",
    "        features.append(x)\n",
    "        targets.append(y)\n",
    "    \n",
    "    return np.array(features), np.array(targets)"
   ]
  },
  {
   "cell_type": "code",
   "execution_count": 17,
   "metadata": {
    "collapsed": true
   },
   "outputs": [],
   "source": [
    "X, y = create_dataset(price_data_scaled, n_inputs=14)"
   ]
  },
  {
   "cell_type": "code",
   "execution_count": 18,
   "metadata": {
    "collapsed": false
   },
   "outputs": [
    {
     "data": {
      "text/plain": [
       "(659, 14, 1)"
      ]
     },
     "execution_count": 18,
     "metadata": {},
     "output_type": "execute_result"
    }
   ],
   "source": [
    "X.shape"
   ]
  },
  {
   "cell_type": "code",
   "execution_count": 19,
   "metadata": {
    "collapsed": true
   },
   "outputs": [],
   "source": [
    "percent_training = 0.75\n",
    "num_samples = X.shape[0]\n",
    "num_train = int(percent_training * num_samples)\n",
    "\n",
    "X_train, y_train = X[:num_train], y[:num_train]\n",
    "X_test, y_test = X[num_train:], y[num_train:]"
   ]
  },
  {
   "cell_type": "markdown",
   "metadata": {},
   "source": [
    "## Training the RNN Model"
   ]
  },
  {
   "cell_type": "code",
   "execution_count": 20,
   "metadata": {
    "collapsed": false
   },
   "outputs": [
    {
     "name": "stderr",
     "output_type": "stream",
     "text": [
      "Using TensorFlow backend.\n"
     ]
    }
   ],
   "source": [
    "from keras.models import Sequential, load_model\n",
    "from keras.layers import Dense, LSTM\n",
    "from keras.callbacks import EarlyStopping\n",
    "\n",
    "num_inputs = 14\n",
    "\n",
    "model = Sequential()\n",
    "model.add(LSTM(100, input_shape=(num_inputs, 1)))\n",
    "model.add(Dense(1))\n",
    "model.compile(loss='mse', optimizer='rmsprop', metrics=['mae'])\n",
    "\n",
    "early_stopping = EarlyStopping(monitor='val_loss', mode='min', patience=3)"
   ]
  },
  {
   "cell_type": "code",
   "execution_count": 21,
   "metadata": {
    "collapsed": false
   },
   "outputs": [
    {
     "name": "stdout",
     "output_type": "stream",
     "text": [
      "Train on 494 samples, validate on 165 samples\n",
      "Epoch 1/100\n",
      "494/494 [==============================] - 5s 10ms/step - loss: 5.2479e-04 - mean_absolute_error: 0.0116 - val_loss: 0.0016 - val_mean_absolute_error: 0.0275\n",
      "Epoch 2/100\n",
      "494/494 [==============================] - 4s 9ms/step - loss: 1.9990e-04 - mean_absolute_error: 0.0077 - val_loss: 0.0012 - val_mean_absolute_error: 0.0240\n",
      "Epoch 3/100\n",
      "494/494 [==============================] - 4s 8ms/step - loss: 1.6157e-04 - mean_absolute_error: 0.0065 - val_loss: 0.0025 - val_mean_absolute_error: 0.0362\n",
      "Epoch 4/100\n",
      "494/494 [==============================] - 4s 8ms/step - loss: 1.4681e-04 - mean_absolute_error: 0.0063 - val_loss: 0.0022 - val_mean_absolute_error: 0.0315\n",
      "Epoch 5/100\n",
      "494/494 [==============================] - 4s 9ms/step - loss: 1.2864e-04 - mean_absolute_error: 0.0062 - val_loss: 9.2172e-04 - val_mean_absolute_error: 0.0188\n",
      "Epoch 6/100\n",
      "494/494 [==============================] - 4s 9ms/step - loss: 1.2213e-04 - mean_absolute_error: 0.0057 - val_loss: 0.0026 - val_mean_absolute_error: 0.0361\n",
      "Epoch 7/100\n",
      "494/494 [==============================] - 4s 8ms/step - loss: 1.1067e-04 - mean_absolute_error: 0.0055 - val_loss: 0.0012 - val_mean_absolute_error: 0.0214\n",
      "Epoch 8/100\n",
      "494/494 [==============================] - 4s 9ms/step - loss: 9.1555e-05 - mean_absolute_error: 0.0050 - val_loss: 0.0012 - val_mean_absolute_error: 0.0204\n"
     ]
    },
    {
     "data": {
      "text/plain": [
       "<keras.callbacks.History at 0x182ecbcba8>"
      ]
     },
     "execution_count": 21,
     "metadata": {},
     "output_type": "execute_result"
    }
   ],
   "source": [
    "model.fit(X_train, y_train, validation_data=(X_test, y_test), \n",
    "          batch_size=1, epochs=100, callbacks=[early_stopping])"
   ]
  },
  {
   "cell_type": "code",
   "execution_count": 22,
   "metadata": {
    "collapsed": true
   },
   "outputs": [],
   "source": [
    "model.save('./models/ethereum_model.h5')"
   ]
  },
  {
   "cell_type": "markdown",
   "metadata": {},
   "source": [
    "### Comparing Generated Predictions with Prices in Testing Set"
   ]
  },
  {
   "cell_type": "code",
   "execution_count": 23,
   "metadata": {
    "collapsed": false
   },
   "outputs": [],
   "source": [
    "pred = model.predict(X_test)"
   ]
  },
  {
   "cell_type": "code",
   "execution_count": 24,
   "metadata": {
    "collapsed": false
   },
   "outputs": [
    {
     "data": {
      "text/plain": [
       "(165, 1)"
      ]
     },
     "execution_count": 24,
     "metadata": {},
     "output_type": "execute_result"
    }
   ],
   "source": [
    "pred.shape"
   ]
  },
  {
   "cell_type": "code",
   "execution_count": 25,
   "metadata": {
    "collapsed": false
   },
   "outputs": [],
   "source": [
    "results = scaler.inverse_transform(pred)"
   ]
  },
  {
   "cell_type": "code",
   "execution_count": 26,
   "metadata": {
    "collapsed": false
   },
   "outputs": [],
   "source": [
    "num_samples = pred.shape[0]\n",
    "test_data_price = data.iloc[-num_samples:]['Price']"
   ]
  },
  {
   "cell_type": "code",
   "execution_count": 27,
   "metadata": {
    "collapsed": false
   },
   "outputs": [],
   "source": [
    "test_data_price_pred = pd.DataFrame({'Date': test_data_price.index, \n",
    "                                     'Price': test_data_price.values, \n",
    "                                     'Prediction': results[:, 0]})"
   ]
  },
  {
   "cell_type": "code",
   "execution_count": 28,
   "metadata": {
    "collapsed": false
   },
   "outputs": [
    {
     "data": {
      "text/html": [
       "<div>\n",
       "<style scoped>\n",
       "    .dataframe tbody tr th:only-of-type {\n",
       "        vertical-align: middle;\n",
       "    }\n",
       "\n",
       "    .dataframe tbody tr th {\n",
       "        vertical-align: top;\n",
       "    }\n",
       "\n",
       "    .dataframe thead th {\n",
       "        text-align: right;\n",
       "    }\n",
       "</style>\n",
       "<table border=\"1\" class=\"dataframe\">\n",
       "  <thead>\n",
       "    <tr style=\"text-align: right;\">\n",
       "      <th></th>\n",
       "      <th>Date</th>\n",
       "      <th>Prediction</th>\n",
       "      <th>Price</th>\n",
       "    </tr>\n",
       "  </thead>\n",
       "  <tbody>\n",
       "    <tr>\n",
       "      <th>0</th>\n",
       "      <td>2017-07-31</td>\n",
       "      <td>194.534729</td>\n",
       "      <td>200.81</td>\n",
       "    </tr>\n",
       "    <tr>\n",
       "      <th>1</th>\n",
       "      <td>2017-08-01</td>\n",
       "      <td>196.390106</td>\n",
       "      <td>225.97</td>\n",
       "    </tr>\n",
       "    <tr>\n",
       "      <th>2</th>\n",
       "      <td>2017-08-02</td>\n",
       "      <td>211.408096</td>\n",
       "      <td>218.00</td>\n",
       "    </tr>\n",
       "    <tr>\n",
       "      <th>3</th>\n",
       "      <td>2017-08-03</td>\n",
       "      <td>215.902130</td>\n",
       "      <td>224.79</td>\n",
       "    </tr>\n",
       "    <tr>\n",
       "      <th>4</th>\n",
       "      <td>2017-08-04</td>\n",
       "      <td>221.318832</td>\n",
       "      <td>220.73</td>\n",
       "    </tr>\n",
       "    <tr>\n",
       "      <th>5</th>\n",
       "      <td>2017-08-05</td>\n",
       "      <td>221.464951</td>\n",
       "      <td>253.87</td>\n",
       "    </tr>\n",
       "    <tr>\n",
       "      <th>6</th>\n",
       "      <td>2017-08-06</td>\n",
       "      <td>238.798111</td>\n",
       "      <td>264.29</td>\n",
       "    </tr>\n",
       "    <tr>\n",
       "      <th>7</th>\n",
       "      <td>2017-08-07</td>\n",
       "      <td>253.944626</td>\n",
       "      <td>269.51</td>\n",
       "    </tr>\n",
       "    <tr>\n",
       "      <th>8</th>\n",
       "      <td>2017-08-08</td>\n",
       "      <td>264.245728</td>\n",
       "      <td>295.83</td>\n",
       "    </tr>\n",
       "    <tr>\n",
       "      <th>9</th>\n",
       "      <td>2017-08-09</td>\n",
       "      <td>283.001801</td>\n",
       "      <td>293.99</td>\n",
       "    </tr>\n",
       "    <tr>\n",
       "      <th>10</th>\n",
       "      <td>2017-08-10</td>\n",
       "      <td>291.145752</td>\n",
       "      <td>295.97</td>\n",
       "    </tr>\n",
       "    <tr>\n",
       "      <th>11</th>\n",
       "      <td>2017-08-11</td>\n",
       "      <td>294.957184</td>\n",
       "      <td>308.81</td>\n",
       "    </tr>\n",
       "    <tr>\n",
       "      <th>12</th>\n",
       "      <td>2017-08-12</td>\n",
       "      <td>302.563721</td>\n",
       "      <td>307.22</td>\n",
       "    </tr>\n",
       "    <tr>\n",
       "      <th>13</th>\n",
       "      <td>2017-08-13</td>\n",
       "      <td>304.782013</td>\n",
       "      <td>296.64</td>\n",
       "    </tr>\n",
       "    <tr>\n",
       "      <th>14</th>\n",
       "      <td>2017-08-14</td>\n",
       "      <td>299.199097</td>\n",
       "      <td>298.22</td>\n",
       "    </tr>\n",
       "    <tr>\n",
       "      <th>15</th>\n",
       "      <td>2017-08-15</td>\n",
       "      <td>296.159424</td>\n",
       "      <td>286.00</td>\n",
       "    </tr>\n",
       "    <tr>\n",
       "      <th>16</th>\n",
       "      <td>2017-08-16</td>\n",
       "      <td>287.539917</td>\n",
       "      <td>301.34</td>\n",
       "    </tr>\n",
       "    <tr>\n",
       "      <th>17</th>\n",
       "      <td>2017-08-17</td>\n",
       "      <td>291.235687</td>\n",
       "      <td>299.00</td>\n",
       "    </tr>\n",
       "    <tr>\n",
       "      <th>18</th>\n",
       "      <td>2017-08-18</td>\n",
       "      <td>292.606140</td>\n",
       "      <td>292.00</td>\n",
       "    </tr>\n",
       "    <tr>\n",
       "      <th>19</th>\n",
       "      <td>2017-08-19</td>\n",
       "      <td>289.816254</td>\n",
       "      <td>292.78</td>\n",
       "    </tr>\n",
       "    <tr>\n",
       "      <th>20</th>\n",
       "      <td>2017-08-20</td>\n",
       "      <td>288.686157</td>\n",
       "      <td>298.37</td>\n",
       "    </tr>\n",
       "    <tr>\n",
       "      <th>21</th>\n",
       "      <td>2017-08-21</td>\n",
       "      <td>291.280396</td>\n",
       "      <td>322.24</td>\n",
       "    </tr>\n",
       "    <tr>\n",
       "      <th>22</th>\n",
       "      <td>2017-08-22</td>\n",
       "      <td>306.017822</td>\n",
       "      <td>312.54</td>\n",
       "    </tr>\n",
       "    <tr>\n",
       "      <th>23</th>\n",
       "      <td>2017-08-23</td>\n",
       "      <td>308.947693</td>\n",
       "      <td>316.50</td>\n",
       "    </tr>\n",
       "    <tr>\n",
       "      <th>24</th>\n",
       "      <td>2017-08-24</td>\n",
       "      <td>312.031525</td>\n",
       "      <td>325.62</td>\n",
       "    </tr>\n",
       "    <tr>\n",
       "      <th>25</th>\n",
       "      <td>2017-08-25</td>\n",
       "      <td>318.084778</td>\n",
       "      <td>328.70</td>\n",
       "    </tr>\n",
       "    <tr>\n",
       "      <th>26</th>\n",
       "      <td>2017-08-26</td>\n",
       "      <td>322.558929</td>\n",
       "      <td>332.72</td>\n",
       "    </tr>\n",
       "    <tr>\n",
       "      <th>27</th>\n",
       "      <td>2017-08-27</td>\n",
       "      <td>326.610931</td>\n",
       "      <td>348.01</td>\n",
       "    </tr>\n",
       "    <tr>\n",
       "      <th>28</th>\n",
       "      <td>2017-08-28</td>\n",
       "      <td>336.657715</td>\n",
       "      <td>347.09</td>\n",
       "    </tr>\n",
       "    <tr>\n",
       "      <th>29</th>\n",
       "      <td>2017-08-29</td>\n",
       "      <td>341.176514</td>\n",
       "      <td>372.00</td>\n",
       "    </tr>\n",
       "    <tr>\n",
       "      <th>...</th>\n",
       "      <td>...</td>\n",
       "      <td>...</td>\n",
       "      <td>...</td>\n",
       "    </tr>\n",
       "    <tr>\n",
       "      <th>135</th>\n",
       "      <td>2017-12-13</td>\n",
       "      <td>560.442688</td>\n",
       "      <td>690.69</td>\n",
       "    </tr>\n",
       "    <tr>\n",
       "      <th>136</th>\n",
       "      <td>2017-12-14</td>\n",
       "      <td>637.222351</td>\n",
       "      <td>686.51</td>\n",
       "    </tr>\n",
       "    <tr>\n",
       "      <th>137</th>\n",
       "      <td>2017-12-15</td>\n",
       "      <td>670.493835</td>\n",
       "      <td>678.29</td>\n",
       "    </tr>\n",
       "    <tr>\n",
       "      <th>138</th>\n",
       "      <td>2017-12-16</td>\n",
       "      <td>676.970581</td>\n",
       "      <td>683.25</td>\n",
       "    </tr>\n",
       "    <tr>\n",
       "      <th>139</th>\n",
       "      <td>2017-12-17</td>\n",
       "      <td>677.276001</td>\n",
       "      <td>708.78</td>\n",
       "    </tr>\n",
       "    <tr>\n",
       "      <th>140</th>\n",
       "      <td>2017-12-18</td>\n",
       "      <td>687.214661</td>\n",
       "      <td>783.99</td>\n",
       "    </tr>\n",
       "    <tr>\n",
       "      <th>141</th>\n",
       "      <td>2017-12-19</td>\n",
       "      <td>731.094421</td>\n",
       "      <td>799.98</td>\n",
       "    </tr>\n",
       "    <tr>\n",
       "      <th>142</th>\n",
       "      <td>2017-12-20</td>\n",
       "      <td>760.059753</td>\n",
       "      <td>794.99</td>\n",
       "    </tr>\n",
       "    <tr>\n",
       "      <th>143</th>\n",
       "      <td>2017-12-21</td>\n",
       "      <td>769.722412</td>\n",
       "      <td>786.97</td>\n",
       "    </tr>\n",
       "    <tr>\n",
       "      <th>144</th>\n",
       "      <td>2017-12-22</td>\n",
       "      <td>767.696167</td>\n",
       "      <td>628.19</td>\n",
       "    </tr>\n",
       "    <tr>\n",
       "      <th>145</th>\n",
       "      <td>2017-12-23</td>\n",
       "      <td>676.696228</td>\n",
       "      <td>672.59</td>\n",
       "    </tr>\n",
       "    <tr>\n",
       "      <th>146</th>\n",
       "      <td>2017-12-24</td>\n",
       "      <td>654.099365</td>\n",
       "      <td>659.89</td>\n",
       "    </tr>\n",
       "    <tr>\n",
       "      <th>147</th>\n",
       "      <td>2017-12-25</td>\n",
       "      <td>636.453613</td>\n",
       "      <td>709.81</td>\n",
       "    </tr>\n",
       "    <tr>\n",
       "      <th>148</th>\n",
       "      <td>2017-12-26</td>\n",
       "      <td>657.741577</td>\n",
       "      <td>749.80</td>\n",
       "    </tr>\n",
       "    <tr>\n",
       "      <th>149</th>\n",
       "      <td>2017-12-27</td>\n",
       "      <td>693.276245</td>\n",
       "      <td>736.45</td>\n",
       "    </tr>\n",
       "    <tr>\n",
       "      <th>150</th>\n",
       "      <td>2017-12-28</td>\n",
       "      <td>705.373535</td>\n",
       "      <td>711.42</td>\n",
       "    </tr>\n",
       "    <tr>\n",
       "      <th>151</th>\n",
       "      <td>2017-12-29</td>\n",
       "      <td>697.628845</td>\n",
       "      <td>731.52</td>\n",
       "    </tr>\n",
       "    <tr>\n",
       "      <th>152</th>\n",
       "      <td>2017-12-30</td>\n",
       "      <td>704.030273</td>\n",
       "      <td>682.22</td>\n",
       "    </tr>\n",
       "    <tr>\n",
       "      <th>153</th>\n",
       "      <td>2017-12-31</td>\n",
       "      <td>679.212158</td>\n",
       "      <td>736.77</td>\n",
       "    </tr>\n",
       "    <tr>\n",
       "      <th>154</th>\n",
       "      <td>2018-01-01</td>\n",
       "      <td>696.366516</td>\n",
       "      <td>752.46</td>\n",
       "    </tr>\n",
       "    <tr>\n",
       "      <th>155</th>\n",
       "      <td>2018-01-02</td>\n",
       "      <td>713.569397</td>\n",
       "      <td>858.78</td>\n",
       "    </tr>\n",
       "    <tr>\n",
       "      <th>156</th>\n",
       "      <td>2018-01-03</td>\n",
       "      <td>781.135315</td>\n",
       "      <td>942.01</td>\n",
       "    </tr>\n",
       "    <tr>\n",
       "      <th>157</th>\n",
       "      <td>2018-01-04</td>\n",
       "      <td>859.947205</td>\n",
       "      <td>940.00</td>\n",
       "    </tr>\n",
       "    <tr>\n",
       "      <th>158</th>\n",
       "      <td>2018-01-05</td>\n",
       "      <td>895.104248</td>\n",
       "      <td>962.77</td>\n",
       "    </tr>\n",
       "    <tr>\n",
       "      <th>159</th>\n",
       "      <td>2018-01-06</td>\n",
       "      <td>921.431458</td>\n",
       "      <td>1004.30</td>\n",
       "    </tr>\n",
       "    <tr>\n",
       "      <th>160</th>\n",
       "      <td>2018-01-07</td>\n",
       "      <td>952.732544</td>\n",
       "      <td>1115.80</td>\n",
       "    </tr>\n",
       "    <tr>\n",
       "      <th>161</th>\n",
       "      <td>2018-01-08</td>\n",
       "      <td>1025.145264</td>\n",
       "      <td>1129.30</td>\n",
       "    </tr>\n",
       "    <tr>\n",
       "      <th>162</th>\n",
       "      <td>2018-01-09</td>\n",
       "      <td>1062.332153</td>\n",
       "      <td>1283.70</td>\n",
       "    </tr>\n",
       "    <tr>\n",
       "      <th>163</th>\n",
       "      <td>2018-01-10</td>\n",
       "      <td>1160.869873</td>\n",
       "      <td>1248.00</td>\n",
       "    </tr>\n",
       "    <tr>\n",
       "      <th>164</th>\n",
       "      <td>2018-01-11</td>\n",
       "      <td>1180.934204</td>\n",
       "      <td>1229.10</td>\n",
       "    </tr>\n",
       "  </tbody>\n",
       "</table>\n",
       "<p>165 rows × 3 columns</p>\n",
       "</div>"
      ],
      "text/plain": [
       "          Date   Prediction    Price\n",
       "0   2017-07-31   194.534729   200.81\n",
       "1   2017-08-01   196.390106   225.97\n",
       "2   2017-08-02   211.408096   218.00\n",
       "3   2017-08-03   215.902130   224.79\n",
       "4   2017-08-04   221.318832   220.73\n",
       "5   2017-08-05   221.464951   253.87\n",
       "6   2017-08-06   238.798111   264.29\n",
       "7   2017-08-07   253.944626   269.51\n",
       "8   2017-08-08   264.245728   295.83\n",
       "9   2017-08-09   283.001801   293.99\n",
       "10  2017-08-10   291.145752   295.97\n",
       "11  2017-08-11   294.957184   308.81\n",
       "12  2017-08-12   302.563721   307.22\n",
       "13  2017-08-13   304.782013   296.64\n",
       "14  2017-08-14   299.199097   298.22\n",
       "15  2017-08-15   296.159424   286.00\n",
       "16  2017-08-16   287.539917   301.34\n",
       "17  2017-08-17   291.235687   299.00\n",
       "18  2017-08-18   292.606140   292.00\n",
       "19  2017-08-19   289.816254   292.78\n",
       "20  2017-08-20   288.686157   298.37\n",
       "21  2017-08-21   291.280396   322.24\n",
       "22  2017-08-22   306.017822   312.54\n",
       "23  2017-08-23   308.947693   316.50\n",
       "24  2017-08-24   312.031525   325.62\n",
       "25  2017-08-25   318.084778   328.70\n",
       "26  2017-08-26   322.558929   332.72\n",
       "27  2017-08-27   326.610931   348.01\n",
       "28  2017-08-28   336.657715   347.09\n",
       "29  2017-08-29   341.176514   372.00\n",
       "..         ...          ...      ...\n",
       "135 2017-12-13   560.442688   690.69\n",
       "136 2017-12-14   637.222351   686.51\n",
       "137 2017-12-15   670.493835   678.29\n",
       "138 2017-12-16   676.970581   683.25\n",
       "139 2017-12-17   677.276001   708.78\n",
       "140 2017-12-18   687.214661   783.99\n",
       "141 2017-12-19   731.094421   799.98\n",
       "142 2017-12-20   760.059753   794.99\n",
       "143 2017-12-21   769.722412   786.97\n",
       "144 2017-12-22   767.696167   628.19\n",
       "145 2017-12-23   676.696228   672.59\n",
       "146 2017-12-24   654.099365   659.89\n",
       "147 2017-12-25   636.453613   709.81\n",
       "148 2017-12-26   657.741577   749.80\n",
       "149 2017-12-27   693.276245   736.45\n",
       "150 2017-12-28   705.373535   711.42\n",
       "151 2017-12-29   697.628845   731.52\n",
       "152 2017-12-30   704.030273   682.22\n",
       "153 2017-12-31   679.212158   736.77\n",
       "154 2018-01-01   696.366516   752.46\n",
       "155 2018-01-02   713.569397   858.78\n",
       "156 2018-01-03   781.135315   942.01\n",
       "157 2018-01-04   859.947205   940.00\n",
       "158 2018-01-05   895.104248   962.77\n",
       "159 2018-01-06   921.431458  1004.30\n",
       "160 2018-01-07   952.732544  1115.80\n",
       "161 2018-01-08  1025.145264  1129.30\n",
       "162 2018-01-09  1062.332153  1283.70\n",
       "163 2018-01-10  1160.869873  1248.00\n",
       "164 2018-01-11  1180.934204  1229.10\n",
       "\n",
       "[165 rows x 3 columns]"
      ]
     },
     "execution_count": 28,
     "metadata": {},
     "output_type": "execute_result"
    }
   ],
   "source": [
    "test_data_price_pred"
   ]
  },
  {
   "cell_type": "code",
   "execution_count": 29,
   "metadata": {
    "collapsed": false
   },
   "outputs": [
    {
     "data": {
      "image/png": "[encoded data removed]",
      "text/plain": [
       "<matplotlib.figure.Figure at 0x1a2fd77550>"
      ]
     },
     "metadata": {},
     "output_type": "display_data"
    }
   ],
   "source": [
    "plt.plot(test_data_price_pred['Date'], test_data_price_pred['Price'], color='green')\n",
    "plt.plot(test_data_price_pred['Date'], test_data_price_pred['Prediction'], color='orange')\n",
    "plt.legend()\n",
    "plt.title('Predicted vs. Actual Prices')\n",
    "plt.xlabel('Date')\n",
    "plt.ylabel('Price')\n",
    "fig = plt.gcf()\n",
    "fig.set_size_inches(10, 8)"
   ]
  }
 ],
 "metadata": {
  "anaconda-cloud": {},
  "kernelspec": {
   "display_name": "Python [conda root]",
   "language": "python",
   "name": "conda-root-py"
  },
  "language_info": {
   "codemirror_mode": {
    "name": "ipython",
    "version": 3
   },
   "file_extension": ".py",
   "mimetype": "text/x-python",
   "name": "python",
   "nbconvert_exporter": "python",
   "pygments_lexer": "ipython3",
   "version": "3.5.2"
  }
 },
 "nbformat": 4,
 "nbformat_minor": 2
}
