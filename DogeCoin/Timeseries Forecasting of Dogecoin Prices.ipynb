{
 "cells": [
  {
   "cell_type": "markdown",
   "metadata": {},
   "source": [
    "# Timeseries Forecasting of Cryptocurrency Prices\n",
    "\n",
    "In this exploration, I make an attempt to train recurrent neural networks to predict the price of cryptocurrencies such as bitcoin."
   ]
  },
  {
   "cell_type": "markdown",
   "metadata": {},
   "source": [
    "## Importing Libraries and Reading in the Data"
   ]
  },
  {
   "cell_type": "code",
   "execution_count": 1,
   "metadata": {
    "collapsed": false
   },
   "outputs": [],
   "source": [
    "import numpy as np\n",
    "import pandas as pd\n",
    "import matplotlib.pyplot as plt\n",
    "%matplotlib inline"
   ]
  },
  {
   "cell_type": "code",
   "execution_count": 2,
   "metadata": {
    "collapsed": false
   },
   "outputs": [
    {
     "data": {
      "text/html": [
       "<div>\n",
       "<style scoped>\n",
       "    .dataframe tbody tr th:only-of-type {\n",
       "        vertical-align: middle;\n",
       "    }\n",
       "\n",
       "    .dataframe tbody tr th {\n",
       "        vertical-align: top;\n",
       "    }\n",
       "\n",
       "    .dataframe thead th {\n",
       "        text-align: right;\n",
       "    }\n",
       "</style>\n",
       "<table border=\"1\" class=\"dataframe\">\n",
       "  <thead>\n",
       "    <tr style=\"text-align: right;\">\n",
       "      <th></th>\n",
       "      <th>Date</th>\n",
       "      <th>Price</th>\n",
       "      <th>Open</th>\n",
       "      <th>High</th>\n",
       "      <th>Low</th>\n",
       "      <th>Vol.</th>\n",
       "      <th>Change %</th>\n",
       "    </tr>\n",
       "  </thead>\n",
       "  <tbody>\n",
       "    <tr>\n",
       "      <th>0</th>\n",
       "      <td>Jan 11, 2018</td>\n",
       "      <td>0.011793</td>\n",
       "      <td>0.012868</td>\n",
       "      <td>0.014220</td>\n",
       "      <td>0.010100</td>\n",
       "      <td>136.71M</td>\n",
       "      <td>-8.15</td>\n",
       "    </tr>\n",
       "    <tr>\n",
       "      <th>1</th>\n",
       "      <td>Jan 10, 2018</td>\n",
       "      <td>0.012839</td>\n",
       "      <td>0.013104</td>\n",
       "      <td>0.013600</td>\n",
       "      <td>0.010701</td>\n",
       "      <td>117.13M</td>\n",
       "      <td>-1.99</td>\n",
       "    </tr>\n",
       "    <tr>\n",
       "      <th>2</th>\n",
       "      <td>Jan 09, 2018</td>\n",
       "      <td>0.013100</td>\n",
       "      <td>0.014773</td>\n",
       "      <td>0.015441</td>\n",
       "      <td>0.012394</td>\n",
       "      <td>143.72M</td>\n",
       "      <td>-15.05</td>\n",
       "    </tr>\n",
       "    <tr>\n",
       "      <th>3</th>\n",
       "      <td>Jan 08, 2018</td>\n",
       "      <td>0.015420</td>\n",
       "      <td>0.017000</td>\n",
       "      <td>0.018000</td>\n",
       "      <td>0.015420</td>\n",
       "      <td>50.28M</td>\n",
       "      <td>-9.29</td>\n",
       "    </tr>\n",
       "    <tr>\n",
       "      <th>4</th>\n",
       "      <td>Jan 07, 2018</td>\n",
       "      <td>0.017000</td>\n",
       "      <td>0.014630</td>\n",
       "      <td>0.019000</td>\n",
       "      <td>0.014000</td>\n",
       "      <td>174.97M</td>\n",
       "      <td>16.20</td>\n",
       "    </tr>\n",
       "  </tbody>\n",
       "</table>\n",
       "</div>"
      ],
      "text/plain": [
       "           Date     Price      Open      High       Low     Vol.  Change %\n",
       "0  Jan 11, 2018  0.011793  0.012868  0.014220  0.010100  136.71M     -8.15\n",
       "1  Jan 10, 2018  0.012839  0.013104  0.013600  0.010701  117.13M     -1.99\n",
       "2  Jan 09, 2018  0.013100  0.014773  0.015441  0.012394  143.72M    -15.05\n",
       "3  Jan 08, 2018  0.015420  0.017000  0.018000  0.015420   50.28M     -9.29\n",
       "4  Jan 07, 2018  0.017000  0.014630  0.019000  0.014000  174.97M     16.20"
      ]
     },
     "execution_count": 2,
     "metadata": {},
     "output_type": "execute_result"
    }
   ],
   "source": [
    "data = pd.read_csv('./data/DOGE USD Historical Data.csv')\n",
    "data.head()"
   ]
  },
  {
   "cell_type": "code",
   "execution_count": 3,
   "metadata": {
    "collapsed": false
   },
   "outputs": [
    {
     "data": {
      "text/html": [
       "<div>\n",
       "<style scoped>\n",
       "    .dataframe tbody tr th:only-of-type {\n",
       "        vertical-align: middle;\n",
       "    }\n",
       "\n",
       "    .dataframe tbody tr th {\n",
       "        vertical-align: top;\n",
       "    }\n",
       "\n",
       "    .dataframe thead th {\n",
       "        text-align: right;\n",
       "    }\n",
       "</style>\n",
       "<table border=\"1\" class=\"dataframe\">\n",
       "  <thead>\n",
       "    <tr style=\"text-align: right;\">\n",
       "      <th></th>\n",
       "      <th>Date</th>\n",
       "      <th>Price</th>\n",
       "      <th>Open</th>\n",
       "      <th>High</th>\n",
       "      <th>Low</th>\n",
       "      <th>Vol.</th>\n",
       "      <th>Change %</th>\n",
       "    </tr>\n",
       "  </thead>\n",
       "  <tbody>\n",
       "    <tr>\n",
       "      <th>220</th>\n",
       "      <td>Jun 05, 2017</td>\n",
       "      <td>0.003718</td>\n",
       "      <td>0.003770</td>\n",
       "      <td>0.003825</td>\n",
       "      <td>0.002923</td>\n",
       "      <td>1.38M</td>\n",
       "      <td>-1.38</td>\n",
       "    </tr>\n",
       "    <tr>\n",
       "      <th>221</th>\n",
       "      <td>Jun 04, 2017</td>\n",
       "      <td>0.003770</td>\n",
       "      <td>0.003213</td>\n",
       "      <td>0.003770</td>\n",
       "      <td>0.002544</td>\n",
       "      <td>1.70M</td>\n",
       "      <td>17.34</td>\n",
       "    </tr>\n",
       "    <tr>\n",
       "      <th>222</th>\n",
       "      <td>Jun 03, 2017</td>\n",
       "      <td>0.003213</td>\n",
       "      <td>0.002803</td>\n",
       "      <td>0.003398</td>\n",
       "      <td>0.002655</td>\n",
       "      <td>1.25M</td>\n",
       "      <td>14.63</td>\n",
       "    </tr>\n",
       "    <tr>\n",
       "      <th>223</th>\n",
       "      <td>NaN</td>\n",
       "      <td>NaN</td>\n",
       "      <td>NaN</td>\n",
       "      <td>NaN</td>\n",
       "      <td>NaN</td>\n",
       "      <td>NaN</td>\n",
       "      <td>NaN</td>\n",
       "    </tr>\n",
       "    <tr>\n",
       "      <th>224</th>\n",
       "      <td>NaN</td>\n",
       "      <td>Highest:0.019000</td>\n",
       "      <td>Lowest:0.000669</td>\n",
       "      <td>Difference:0.018331</td>\n",
       "      <td>Average:0.002760</td>\n",
       "      <td>Change %:320.727792</td>\n",
       "      <td>NaN</td>\n",
       "    </tr>\n",
       "  </tbody>\n",
       "</table>\n",
       "</div>"
      ],
      "text/plain": [
       "             Date             Price             Open                 High  \\\n",
       "220  Jun 05, 2017          0.003718         0.003770             0.003825   \n",
       "221  Jun 04, 2017          0.003770         0.003213             0.003770   \n",
       "222  Jun 03, 2017          0.003213         0.002803             0.003398   \n",
       "223           NaN               NaN              NaN                  NaN   \n",
       "224           NaN  Highest:0.019000  Lowest:0.000669  Difference:0.018331   \n",
       "\n",
       "                  Low                 Vol.  Change %  \n",
       "220          0.002923                1.38M     -1.38  \n",
       "221          0.002544                1.70M     17.34  \n",
       "222          0.002655                1.25M     14.63  \n",
       "223               NaN                  NaN       NaN  \n",
       "224  Average:0.002760  Change %:320.727792       NaN  "
      ]
     },
     "execution_count": 3,
     "metadata": {},
     "output_type": "execute_result"
    }
   ],
   "source": [
    "data.tail()"
   ]
  },
  {
   "cell_type": "code",
   "execution_count": 4,
   "metadata": {
    "collapsed": false
   },
   "outputs": [],
   "source": [
    "data.dropna(axis=0, inplace=True)\n",
    "data = data.iloc[::-1]"
   ]
  },
  {
   "cell_type": "code",
   "execution_count": 5,
   "metadata": {
    "collapsed": false
   },
   "outputs": [],
   "source": [
    "from pandas import datetime\n",
    "data['Date'] = data['Date'].apply(lambda date: pd.to_datetime(date))"
   ]
  },
  {
   "cell_type": "code",
   "execution_count": 6,
   "metadata": {
    "collapsed": true
   },
   "outputs": [],
   "source": [
    "import locale\n",
    "from locale import *\n",
    "locale.setlocale(locale.LC_NUMERIC, '')\n",
    "data['Price'] = data['Price'].apply(lambda x: atof(x))"
   ]
  },
  {
   "cell_type": "code",
   "execution_count": 7,
   "metadata": {
    "collapsed": true
   },
   "outputs": [],
   "source": [
    "data['Open'] = data['Open'].apply(lambda x: atof(x))\n",
    "data['High'] = data['High'].apply(lambda x: atof(x))\n",
    "data['Low'] = data['Low'].apply(lambda x: atof(x))"
   ]
  },
  {
   "cell_type": "code",
   "execution_count": 8,
   "metadata": {
    "collapsed": false
   },
   "outputs": [
    {
     "name": "stdout",
     "output_type": "stream",
     "text": [
      "<class 'pandas.core.frame.DataFrame'>\n",
      "Int64Index: 223 entries, 222 to 0\n",
      "Data columns (total 7 columns):\n",
      "Date        223 non-null datetime64[ns]\n",
      "Price       223 non-null float64\n",
      "Open        223 non-null float64\n",
      "High        223 non-null float64\n",
      "Low         223 non-null float64\n",
      "Vol.        223 non-null object\n",
      "Change %    223 non-null float64\n",
      "dtypes: datetime64[ns](1), float64(5), object(1)\n",
      "memory usage: 13.9+ KB\n"
     ]
    }
   ],
   "source": [
    "data.info()"
   ]
  },
  {
   "cell_type": "markdown",
   "metadata": {},
   "source": [
    "## Visualizing prices for the whole dataset"
   ]
  },
  {
   "cell_type": "code",
   "execution_count": 9,
   "metadata": {
    "collapsed": false
   },
   "outputs": [
    {
     "data": {
      "image/png": "[encoded data removed]",
      "text/plain": [
       "<matplotlib.figure.Figure at 0x1144663c8>"
      ]
     },
     "metadata": {},
     "output_type": "display_data"
    }
   ],
   "source": [
    "plt.plot(data['Date'], data['Price'], color = 'orange')\n",
    "plt.plot(data['Date'], data['Open'], color='purple')\n",
    "plt.plot(data['Date'], data['Low'], color='red')\n",
    "plt.plot(data['Date'], data['High'], color='blue')\n",
    "plt.title('DogeCoin Prices')\n",
    "plt.xlabel('Date')\n",
    "plt.ylabel('Price')\n",
    "plt.legend()\n",
    "fig = plt.gcf()\n",
    "fig.set_size_inches(15, 10)\n",
    "plt.savefig('./plots/historical_prices.png')"
   ]
  },
  {
   "cell_type": "markdown",
   "metadata": {},
   "source": [
    "## Using TensorFlow to Train RNNs"
   ]
  },
  {
   "cell_type": "code",
   "execution_count": 10,
   "metadata": {
    "collapsed": false
   },
   "outputs": [
    {
     "name": "stderr",
     "output_type": "stream",
     "text": [
      "//anaconda/lib/python3.5/importlib/_bootstrap.py:222: RuntimeWarning: compiletime version 3.6 of module 'tensorflow.python.framework.fast_tensor_util' does not match runtime version 3.5\n",
      "  return f(*args, **kwds)\n"
     ]
    }
   ],
   "source": [
    "import tensorflow as tf"
   ]
  },
  {
   "cell_type": "code",
   "execution_count": 11,
   "metadata": {
    "collapsed": false
   },
   "outputs": [],
   "source": [
    "data = data.set_index('Date')"
   ]
  },
  {
   "cell_type": "code",
   "execution_count": 12,
   "metadata": {
    "collapsed": false
   },
   "outputs": [
    {
     "name": "stdout",
     "output_type": "stream",
     "text": [
      "<class 'pandas.core.frame.DataFrame'>\n",
      "DatetimeIndex: 223 entries, 2017-06-03 to 2018-01-11\n",
      "Data columns (total 6 columns):\n",
      "Price       223 non-null float64\n",
      "Open        223 non-null float64\n",
      "High        223 non-null float64\n",
      "Low         223 non-null float64\n",
      "Vol.        223 non-null object\n",
      "Change %    223 non-null float64\n",
      "dtypes: float64(5), object(1)\n",
      "memory usage: 12.2+ KB\n"
     ]
    }
   ],
   "source": [
    "data.info()"
   ]
  },
  {
   "cell_type": "markdown",
   "metadata": {},
   "source": [
    "### Scaling the Data\n",
    "In order to train a neural network on this data, it is a good idea to scale it first."
   ]
  },
  {
   "cell_type": "code",
   "execution_count": 13,
   "metadata": {
    "collapsed": true
   },
   "outputs": [],
   "source": [
    "from sklearn.preprocessing import MinMaxScaler"
   ]
  },
  {
   "cell_type": "code",
   "execution_count": 14,
   "metadata": {
    "collapsed": true
   },
   "outputs": [],
   "source": [
    "scaler = MinMaxScaler()"
   ]
  },
  {
   "cell_type": "code",
   "execution_count": 15,
   "metadata": {
    "collapsed": true
   },
   "outputs": [],
   "source": [
    "price_data_scaled = scaler.fit_transform(data['Price'].values.reshape(-1, 1))"
   ]
  },
  {
   "cell_type": "markdown",
   "metadata": {},
   "source": [
    "### Creating a Dataset with Features"
   ]
  },
  {
   "cell_type": "code",
   "execution_count": 16,
   "metadata": {
    "collapsed": true
   },
   "outputs": [],
   "source": [
    "def create_dataset(timeseries, n_inputs=30):\n",
    "    \n",
    "    features = []\n",
    "    targets = []\n",
    "    \n",
    "    for i in range(len(timeseries) - n_inputs):\n",
    "        \n",
    "        start = i\n",
    "        end = start + n_inputs\n",
    "        \n",
    "        x = timeseries[start:end]\n",
    "        y = timeseries[end]\n",
    "        \n",
    "        features.append(x)\n",
    "        targets.append(y)\n",
    "    \n",
    "    return np.array(features), np.array(targets)"
   ]
  },
  {
   "cell_type": "code",
   "execution_count": 17,
   "metadata": {
    "collapsed": true
   },
   "outputs": [],
   "source": [
    "X, y = create_dataset(price_data_scaled, n_inputs=14)"
   ]
  },
  {
   "cell_type": "code",
   "execution_count": 18,
   "metadata": {
    "collapsed": false
   },
   "outputs": [
    {
     "data": {
      "text/plain": [
       "(209, 14, 1)"
      ]
     },
     "execution_count": 18,
     "metadata": {},
     "output_type": "execute_result"
    }
   ],
   "source": [
    "X.shape"
   ]
  },
  {
   "cell_type": "code",
   "execution_count": 19,
   "metadata": {
    "collapsed": true
   },
   "outputs": [],
   "source": [
    "percent_training = 0.75\n",
    "num_samples = X.shape[0]\n",
    "num_train = int(percent_training * num_samples)\n",
    "\n",
    "X_train, y_train = X[:num_train], y[:num_train]\n",
    "X_test, y_test = X[num_train:], y[num_train:]"
   ]
  },
  {
   "cell_type": "markdown",
   "metadata": {},
   "source": [
    "## Training the RNN Model"
   ]
  },
  {
   "cell_type": "code",
   "execution_count": 20,
   "metadata": {
    "collapsed": false
   },
   "outputs": [
    {
     "name": "stderr",
     "output_type": "stream",
     "text": [
      "Using TensorFlow backend.\n"
     ]
    }
   ],
   "source": [
    "from keras.models import Sequential, load_model\n",
    "from keras.layers import Dense, LSTM\n",
    "from keras.callbacks import EarlyStopping\n",
    "\n",
    "num_inputs = 14\n",
    "\n",
    "model = Sequential()\n",
    "model.add(LSTM(100, input_shape=(num_inputs, 1)))\n",
    "model.add(Dense(1))\n",
    "model.compile(loss='mse', optimizer='rmsprop', metrics=['mae'])\n",
    "\n",
    "early_stopping = EarlyStopping(monitor='val_loss', mode='min', patience=3)"
   ]
  },
  {
   "cell_type": "code",
   "execution_count": 21,
   "metadata": {
    "collapsed": false
   },
   "outputs": [
    {
     "name": "stdout",
     "output_type": "stream",
     "text": [
      "Train on 156 samples, validate on 53 samples\n",
      "Epoch 1/100\n",
      "156/156 [==============================] - 2s 16ms/step - loss: 5.3937e-04 - mean_absolute_error: 0.0163 - val_loss: 0.0173 - val_mean_absolute_error: 0.0898\n",
      "Epoch 2/100\n",
      "156/156 [==============================] - 2s 14ms/step - loss: 2.2379e-04 - mean_absolute_error: 0.0113 - val_loss: 0.0131 - val_mean_absolute_error: 0.0758\n",
      "Epoch 3/100\n",
      "156/156 [==============================] - 2s 12ms/step - loss: 1.6018e-04 - mean_absolute_error: 0.0098 - val_loss: 0.0115 - val_mean_absolute_error: 0.0708\n",
      "Epoch 4/100\n",
      "156/156 [==============================] - 2s 12ms/step - loss: 1.5724e-04 - mean_absolute_error: 0.0092 - val_loss: 0.0109 - val_mean_absolute_error: 0.0725\n",
      "Epoch 5/100\n",
      "156/156 [==============================] - 2s 13ms/step - loss: 1.4287e-04 - mean_absolute_error: 0.0089 - val_loss: 0.0063 - val_mean_absolute_error: 0.0507\n",
      "Epoch 6/100\n",
      "156/156 [==============================] - 2s 13ms/step - loss: 1.1574e-04 - mean_absolute_error: 0.0080 - val_loss: 0.0087 - val_mean_absolute_error: 0.0578\n",
      "Epoch 7/100\n",
      "156/156 [==============================] - 2s 12ms/step - loss: 1.2790e-04 - mean_absolute_error: 0.0086 - val_loss: 0.0062 - val_mean_absolute_error: 0.0526\n",
      "Epoch 8/100\n",
      "156/156 [==============================] - 2s 13ms/step - loss: 1.1430e-04 - mean_absolute_error: 0.0081 - val_loss: 0.0055 - val_mean_absolute_error: 0.0481\n",
      "Epoch 9/100\n",
      "156/156 [==============================] - 2s 15ms/step - loss: 1.0961e-04 - mean_absolute_error: 0.0079 - val_loss: 0.0051 - val_mean_absolute_error: 0.0472\n",
      "Epoch 10/100\n",
      "156/156 [==============================] - 2s 15ms/step - loss: 1.0516e-04 - mean_absolute_error: 0.0076 - val_loss: 0.0052 - val_mean_absolute_error: 0.0443\n",
      "Epoch 11/100\n",
      "156/156 [==============================] - 2s 15ms/step - loss: 9.8189e-05 - mean_absolute_error: 0.0075 - val_loss: 0.0042 - val_mean_absolute_error: 0.0417\n",
      "Epoch 12/100\n",
      "156/156 [==============================] - 2s 15ms/step - loss: 9.3988e-05 - mean_absolute_error: 0.0072 - val_loss: 0.0057 - val_mean_absolute_error: 0.0491\n",
      "Epoch 13/100\n",
      "156/156 [==============================] - 2s 13ms/step - loss: 1.0078e-04 - mean_absolute_error: 0.0078 - val_loss: 0.0054 - val_mean_absolute_error: 0.0463\n",
      "Epoch 14/100\n",
      "156/156 [==============================] - 2s 14ms/step - loss: 8.9773e-05 - mean_absolute_error: 0.0073 - val_loss: 0.0075 - val_mean_absolute_error: 0.0612\n"
     ]
    },
    {
     "data": {
      "text/plain": [
       "<keras.callbacks.History at 0x11f0495f8>"
      ]
     },
     "execution_count": 21,
     "metadata": {},
     "output_type": "execute_result"
    }
   ],
   "source": [
    "model.fit(X_train, y_train, validation_data=(X_test, y_test), \n",
    "          batch_size=1, epochs=100, callbacks=[early_stopping])"
   ]
  },
  {
   "cell_type": "code",
   "execution_count": 22,
   "metadata": {
    "collapsed": true
   },
   "outputs": [],
   "source": [
    "model.save('./models/dogecoin_model.h5')"
   ]
  },
  {
   "cell_type": "markdown",
   "metadata": {},
   "source": [
    "### Comparing Generated Predictions with Prices in Testing Set"
   ]
  },
  {
   "cell_type": "code",
   "execution_count": 23,
   "metadata": {
    "collapsed": false
   },
   "outputs": [],
   "source": [
    "pred = model.predict(X_test)"
   ]
  },
  {
   "cell_type": "code",
   "execution_count": 24,
   "metadata": {
    "collapsed": false
   },
   "outputs": [
    {
     "data": {
      "text/plain": [
       "(53, 1)"
      ]
     },
     "execution_count": 24,
     "metadata": {},
     "output_type": "execute_result"
    }
   ],
   "source": [
    "pred.shape"
   ]
  },
  {
   "cell_type": "code",
   "execution_count": 25,
   "metadata": {
    "collapsed": false
   },
   "outputs": [],
   "source": [
    "results = scaler.inverse_transform(pred)"
   ]
  },
  {
   "cell_type": "code",
   "execution_count": 26,
   "metadata": {
    "collapsed": false
   },
   "outputs": [],
   "source": [
    "test_data_price = data.iloc[-53:]['Price']"
   ]
  },
  {
   "cell_type": "code",
   "execution_count": 27,
   "metadata": {
    "collapsed": false
   },
   "outputs": [],
   "source": [
    "test_data_price_pred = pd.DataFrame({'Date': test_data_price.index, \n",
    "                                     'Price': test_data_price.values, \n",
    "                                     'Prediction': results[:, 0]})"
   ]
  },
  {
   "cell_type": "code",
   "execution_count": 28,
   "metadata": {
    "collapsed": false
   },
   "outputs": [
    {
     "data": {
      "text/html": [
       "<div>\n",
       "<style scoped>\n",
       "    .dataframe tbody tr th:only-of-type {\n",
       "        vertical-align: middle;\n",
       "    }\n",
       "\n",
       "    .dataframe tbody tr th {\n",
       "        vertical-align: top;\n",
       "    }\n",
       "\n",
       "    .dataframe thead th {\n",
       "        text-align: right;\n",
       "    }\n",
       "</style>\n",
       "<table border=\"1\" class=\"dataframe\">\n",
       "  <thead>\n",
       "    <tr style=\"text-align: right;\">\n",
       "      <th></th>\n",
       "      <th>Date</th>\n",
       "      <th>Prediction</th>\n",
       "      <th>Price</th>\n",
       "    </tr>\n",
       "  </thead>\n",
       "  <tbody>\n",
       "    <tr>\n",
       "      <th>0</th>\n",
       "      <td>2017-11-20</td>\n",
       "      <td>0.001212</td>\n",
       "      <td>0.001373</td>\n",
       "    </tr>\n",
       "    <tr>\n",
       "      <th>1</th>\n",
       "      <td>2017-11-21</td>\n",
       "      <td>0.001222</td>\n",
       "      <td>0.001376</td>\n",
       "    </tr>\n",
       "    <tr>\n",
       "      <th>2</th>\n",
       "      <td>2017-11-22</td>\n",
       "      <td>0.001224</td>\n",
       "      <td>0.001837</td>\n",
       "    </tr>\n",
       "    <tr>\n",
       "      <th>3</th>\n",
       "      <td>2017-11-23</td>\n",
       "      <td>0.001572</td>\n",
       "      <td>0.001905</td>\n",
       "    </tr>\n",
       "    <tr>\n",
       "      <th>4</th>\n",
       "      <td>2017-11-24</td>\n",
       "      <td>0.001691</td>\n",
       "      <td>0.001903</td>\n",
       "    </tr>\n",
       "    <tr>\n",
       "      <th>5</th>\n",
       "      <td>2017-11-25</td>\n",
       "      <td>0.001703</td>\n",
       "      <td>0.002074</td>\n",
       "    </tr>\n",
       "    <tr>\n",
       "      <th>6</th>\n",
       "      <td>2017-11-26</td>\n",
       "      <td>0.001820</td>\n",
       "      <td>0.001957</td>\n",
       "    </tr>\n",
       "    <tr>\n",
       "      <th>7</th>\n",
       "      <td>2017-11-27</td>\n",
       "      <td>0.001741</td>\n",
       "      <td>0.001965</td>\n",
       "    </tr>\n",
       "    <tr>\n",
       "      <th>8</th>\n",
       "      <td>2017-11-28</td>\n",
       "      <td>0.001719</td>\n",
       "      <td>0.002360</td>\n",
       "    </tr>\n",
       "    <tr>\n",
       "      <th>9</th>\n",
       "      <td>2017-11-29</td>\n",
       "      <td>0.002008</td>\n",
       "      <td>0.002043</td>\n",
       "    </tr>\n",
       "    <tr>\n",
       "      <th>10</th>\n",
       "      <td>2017-11-30</td>\n",
       "      <td>0.001822</td>\n",
       "      <td>0.002053</td>\n",
       "    </tr>\n",
       "    <tr>\n",
       "      <th>11</th>\n",
       "      <td>2017-12-01</td>\n",
       "      <td>0.001786</td>\n",
       "      <td>0.002127</td>\n",
       "    </tr>\n",
       "    <tr>\n",
       "      <th>12</th>\n",
       "      <td>2017-12-02</td>\n",
       "      <td>0.001834</td>\n",
       "      <td>0.002073</td>\n",
       "    </tr>\n",
       "    <tr>\n",
       "      <th>13</th>\n",
       "      <td>2017-12-03</td>\n",
       "      <td>0.001806</td>\n",
       "      <td>0.002186</td>\n",
       "    </tr>\n",
       "    <tr>\n",
       "      <th>14</th>\n",
       "      <td>2017-12-04</td>\n",
       "      <td>0.001890</td>\n",
       "      <td>0.002439</td>\n",
       "    </tr>\n",
       "    <tr>\n",
       "      <th>15</th>\n",
       "      <td>2017-12-05</td>\n",
       "      <td>0.002104</td>\n",
       "      <td>0.002467</td>\n",
       "    </tr>\n",
       "    <tr>\n",
       "      <th>16</th>\n",
       "      <td>2017-12-06</td>\n",
       "      <td>0.002169</td>\n",
       "      <td>0.002586</td>\n",
       "    </tr>\n",
       "    <tr>\n",
       "      <th>17</th>\n",
       "      <td>2017-12-07</td>\n",
       "      <td>0.002265</td>\n",
       "      <td>0.002666</td>\n",
       "    </tr>\n",
       "    <tr>\n",
       "      <th>18</th>\n",
       "      <td>2017-12-08</td>\n",
       "      <td>0.002335</td>\n",
       "      <td>0.002692</td>\n",
       "    </tr>\n",
       "    <tr>\n",
       "      <th>19</th>\n",
       "      <td>2017-12-09</td>\n",
       "      <td>0.002358</td>\n",
       "      <td>0.002564</td>\n",
       "    </tr>\n",
       "    <tr>\n",
       "      <th>20</th>\n",
       "      <td>2017-12-10</td>\n",
       "      <td>0.002253</td>\n",
       "      <td>0.002519</td>\n",
       "    </tr>\n",
       "    <tr>\n",
       "      <th>21</th>\n",
       "      <td>2017-12-11</td>\n",
       "      <td>0.002190</td>\n",
       "      <td>0.002646</td>\n",
       "    </tr>\n",
       "    <tr>\n",
       "      <th>22</th>\n",
       "      <td>2017-12-12</td>\n",
       "      <td>0.002272</td>\n",
       "      <td>0.003126</td>\n",
       "    </tr>\n",
       "    <tr>\n",
       "      <th>23</th>\n",
       "      <td>2017-12-13</td>\n",
       "      <td>0.002659</td>\n",
       "      <td>0.003382</td>\n",
       "    </tr>\n",
       "    <tr>\n",
       "      <th>24</th>\n",
       "      <td>2017-12-14</td>\n",
       "      <td>0.002934</td>\n",
       "      <td>0.003591</td>\n",
       "    </tr>\n",
       "    <tr>\n",
       "      <th>25</th>\n",
       "      <td>2017-12-15</td>\n",
       "      <td>0.003139</td>\n",
       "      <td>0.003659</td>\n",
       "    </tr>\n",
       "    <tr>\n",
       "      <th>26</th>\n",
       "      <td>2017-12-16</td>\n",
       "      <td>0.003212</td>\n",
       "      <td>0.005634</td>\n",
       "    </tr>\n",
       "    <tr>\n",
       "      <th>27</th>\n",
       "      <td>2017-12-17</td>\n",
       "      <td>0.004732</td>\n",
       "      <td>0.005841</td>\n",
       "    </tr>\n",
       "    <tr>\n",
       "      <th>28</th>\n",
       "      <td>2017-12-18</td>\n",
       "      <td>0.005160</td>\n",
       "      <td>0.006270</td>\n",
       "    </tr>\n",
       "    <tr>\n",
       "      <th>29</th>\n",
       "      <td>2017-12-19</td>\n",
       "      <td>0.005512</td>\n",
       "      <td>0.005409</td>\n",
       "    </tr>\n",
       "    <tr>\n",
       "      <th>30</th>\n",
       "      <td>2017-12-20</td>\n",
       "      <td>0.004831</td>\n",
       "      <td>0.006392</td>\n",
       "    </tr>\n",
       "    <tr>\n",
       "      <th>31</th>\n",
       "      <td>2017-12-21</td>\n",
       "      <td>0.005403</td>\n",
       "      <td>0.007497</td>\n",
       "    </tr>\n",
       "    <tr>\n",
       "      <th>32</th>\n",
       "      <td>2017-12-22</td>\n",
       "      <td>0.006348</td>\n",
       "      <td>0.006071</td>\n",
       "    </tr>\n",
       "    <tr>\n",
       "      <th>33</th>\n",
       "      <td>2017-12-23</td>\n",
       "      <td>0.005378</td>\n",
       "      <td>0.006949</td>\n",
       "    </tr>\n",
       "    <tr>\n",
       "      <th>34</th>\n",
       "      <td>2017-12-24</td>\n",
       "      <td>0.005857</td>\n",
       "      <td>0.008356</td>\n",
       "    </tr>\n",
       "    <tr>\n",
       "      <th>35</th>\n",
       "      <td>2017-12-25</td>\n",
       "      <td>0.007056</td>\n",
       "      <td>0.008648</td>\n",
       "    </tr>\n",
       "    <tr>\n",
       "      <th>36</th>\n",
       "      <td>2017-12-26</td>\n",
       "      <td>0.007508</td>\n",
       "      <td>0.009332</td>\n",
       "    </tr>\n",
       "    <tr>\n",
       "      <th>37</th>\n",
       "      <td>2017-12-27</td>\n",
       "      <td>0.008105</td>\n",
       "      <td>0.008861</td>\n",
       "    </tr>\n",
       "    <tr>\n",
       "      <th>38</th>\n",
       "      <td>2017-12-28</td>\n",
       "      <td>0.007790</td>\n",
       "      <td>0.008244</td>\n",
       "    </tr>\n",
       "    <tr>\n",
       "      <th>39</th>\n",
       "      <td>2017-12-29</td>\n",
       "      <td>0.007192</td>\n",
       "      <td>0.009228</td>\n",
       "    </tr>\n",
       "    <tr>\n",
       "      <th>40</th>\n",
       "      <td>2017-12-30</td>\n",
       "      <td>0.007838</td>\n",
       "      <td>0.007672</td>\n",
       "    </tr>\n",
       "    <tr>\n",
       "      <th>41</th>\n",
       "      <td>2017-12-31</td>\n",
       "      <td>0.006715</td>\n",
       "      <td>0.008927</td>\n",
       "    </tr>\n",
       "    <tr>\n",
       "      <th>42</th>\n",
       "      <td>2018-01-01</td>\n",
       "      <td>0.007516</td>\n",
       "      <td>0.008678</td>\n",
       "    </tr>\n",
       "    <tr>\n",
       "      <th>43</th>\n",
       "      <td>2018-01-02</td>\n",
       "      <td>0.007497</td>\n",
       "      <td>0.009000</td>\n",
       "    </tr>\n",
       "    <tr>\n",
       "      <th>44</th>\n",
       "      <td>2018-01-03</td>\n",
       "      <td>0.007777</td>\n",
       "      <td>0.009205</td>\n",
       "    </tr>\n",
       "    <tr>\n",
       "      <th>45</th>\n",
       "      <td>2018-01-04</td>\n",
       "      <td>0.008005</td>\n",
       "      <td>0.009613</td>\n",
       "    </tr>\n",
       "    <tr>\n",
       "      <th>46</th>\n",
       "      <td>2018-01-05</td>\n",
       "      <td>0.008370</td>\n",
       "      <td>0.012550</td>\n",
       "    </tr>\n",
       "    <tr>\n",
       "      <th>47</th>\n",
       "      <td>2018-01-06</td>\n",
       "      <td>0.010795</td>\n",
       "      <td>0.014630</td>\n",
       "    </tr>\n",
       "    <tr>\n",
       "      <th>48</th>\n",
       "      <td>2018-01-07</td>\n",
       "      <td>0.012879</td>\n",
       "      <td>0.017000</td>\n",
       "    </tr>\n",
       "    <tr>\n",
       "      <th>49</th>\n",
       "      <td>2018-01-08</td>\n",
       "      <td>0.015075</td>\n",
       "      <td>0.015420</td>\n",
       "    </tr>\n",
       "    <tr>\n",
       "      <th>50</th>\n",
       "      <td>2018-01-09</td>\n",
       "      <td>0.013951</td>\n",
       "      <td>0.013100</td>\n",
       "    </tr>\n",
       "    <tr>\n",
       "      <th>51</th>\n",
       "      <td>2018-01-10</td>\n",
       "      <td>0.011676</td>\n",
       "      <td>0.012839</td>\n",
       "    </tr>\n",
       "    <tr>\n",
       "      <th>52</th>\n",
       "      <td>2018-01-11</td>\n",
       "      <td>0.010966</td>\n",
       "      <td>0.011793</td>\n",
       "    </tr>\n",
       "  </tbody>\n",
       "</table>\n",
       "</div>"
      ],
      "text/plain": [
       "         Date  Prediction     Price\n",
       "0  2017-11-20    0.001212  0.001373\n",
       "1  2017-11-21    0.001222  0.001376\n",
       "2  2017-11-22    0.001224  0.001837\n",
       "3  2017-11-23    0.001572  0.001905\n",
       "4  2017-11-24    0.001691  0.001903\n",
       "5  2017-11-25    0.001703  0.002074\n",
       "6  2017-11-26    0.001820  0.001957\n",
       "7  2017-11-27    0.001741  0.001965\n",
       "8  2017-11-28    0.001719  0.002360\n",
       "9  2017-11-29    0.002008  0.002043\n",
       "10 2017-11-30    0.001822  0.002053\n",
       "11 2017-12-01    0.001786  0.002127\n",
       "12 2017-12-02    0.001834  0.002073\n",
       "13 2017-12-03    0.001806  0.002186\n",
       "14 2017-12-04    0.001890  0.002439\n",
       "15 2017-12-05    0.002104  0.002467\n",
       "16 2017-12-06    0.002169  0.002586\n",
       "17 2017-12-07    0.002265  0.002666\n",
       "18 2017-12-08    0.002335  0.002692\n",
       "19 2017-12-09    0.002358  0.002564\n",
       "20 2017-12-10    0.002253  0.002519\n",
       "21 2017-12-11    0.002190  0.002646\n",
       "22 2017-12-12    0.002272  0.003126\n",
       "23 2017-12-13    0.002659  0.003382\n",
       "24 2017-12-14    0.002934  0.003591\n",
       "25 2017-12-15    0.003139  0.003659\n",
       "26 2017-12-16    0.003212  0.005634\n",
       "27 2017-12-17    0.004732  0.005841\n",
       "28 2017-12-18    0.005160  0.006270\n",
       "29 2017-12-19    0.005512  0.005409\n",
       "30 2017-12-20    0.004831  0.006392\n",
       "31 2017-12-21    0.005403  0.007497\n",
       "32 2017-12-22    0.006348  0.006071\n",
       "33 2017-12-23    0.005378  0.006949\n",
       "34 2017-12-24    0.005857  0.008356\n",
       "35 2017-12-25    0.007056  0.008648\n",
       "36 2017-12-26    0.007508  0.009332\n",
       "37 2017-12-27    0.008105  0.008861\n",
       "38 2017-12-28    0.007790  0.008244\n",
       "39 2017-12-29    0.007192  0.009228\n",
       "40 2017-12-30    0.007838  0.007672\n",
       "41 2017-12-31    0.006715  0.008927\n",
       "42 2018-01-01    0.007516  0.008678\n",
       "43 2018-01-02    0.007497  0.009000\n",
       "44 2018-01-03    0.007777  0.009205\n",
       "45 2018-01-04    0.008005  0.009613\n",
       "46 2018-01-05    0.008370  0.012550\n",
       "47 2018-01-06    0.010795  0.014630\n",
       "48 2018-01-07    0.012879  0.017000\n",
       "49 2018-01-08    0.015075  0.015420\n",
       "50 2018-01-09    0.013951  0.013100\n",
       "51 2018-01-10    0.011676  0.012839\n",
       "52 2018-01-11    0.010966  0.011793"
      ]
     },
     "execution_count": 28,
     "metadata": {},
     "output_type": "execute_result"
    }
   ],
   "source": [
    "test_data_price_pred"
   ]
  },
  {
   "cell_type": "code",
   "execution_count": 31,
   "metadata": {
    "collapsed": false
   },
   "outputs": [
    {
     "data": {
      "image/png": "[encoded data removed]",
      "text/plain": [
       "<matplotlib.figure.Figure at 0xb2d8ca2b0>"
      ]
     },
     "metadata": {},
     "output_type": "display_data"
    }
   ],
   "source": [
    "plt.plot(test_data_price_pred['Date'], test_data_price_pred['Price'], color='green')\n",
    "plt.plot(test_data_price_pred['Date'], test_data_price_pred['Prediction'], color='orange')\n",
    "plt.legend()\n",
    "plt.title('Predicted vs. Actual Prices')\n",
    "plt.xlabel('Date')\n",
    "plt.ylabel('Price')\n",
    "fig = plt.gcf()\n",
    "fig.set_size_inches(15, 10)\n",
    "plt.savefig('./plots/predictions.png')"
   ]
  }
 ],
 "metadata": {
  "anaconda-cloud": {},
  "kernelspec": {
   "display_name": "Python [conda root]",
   "language": "python",
   "name": "conda-root-py"
  },
  "language_info": {
   "codemirror_mode": {
    "name": "ipython",
    "version": 3
   },
   "file_extension": ".py",
   "mimetype": "text/x-python",
   "name": "python",
   "nbconvert_exporter": "python",
   "pygments_lexer": "ipython3",
   "version": "3.5.2"
  }
 },
 "nbformat": 4,
 "nbformat_minor": 2
}
