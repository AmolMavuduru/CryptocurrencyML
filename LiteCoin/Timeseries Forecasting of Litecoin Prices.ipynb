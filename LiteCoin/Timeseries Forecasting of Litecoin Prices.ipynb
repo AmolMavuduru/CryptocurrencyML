{
 "cells": [
  {
   "cell_type": "markdown",
   "metadata": {},
   "source": [
    "# Timeseries Forecasting of Cryptocurrency Prices\n",
    "\n",
    "In this exploration, I make an attempt to train recurrent neural networks to predict the price of cryptocurrencies such as bitcoin."
   ]
  },
  {
   "cell_type": "markdown",
   "metadata": {},
   "source": [
    "## Importing Libraries and Reading in the Data"
   ]
  },
  {
   "cell_type": "code",
   "execution_count": 1,
   "metadata": {
    "collapsed": false
   },
   "outputs": [],
   "source": [
    "import numpy as np\n",
    "import pandas as pd\n",
    "import matplotlib.pyplot as plt\n",
    "%matplotlib inline"
   ]
  },
  {
   "cell_type": "code",
   "execution_count": 2,
   "metadata": {
    "collapsed": false
   },
   "outputs": [
    {
     "data": {
      "text/html": [
       "<div>\n",
       "<style scoped>\n",
       "    .dataframe tbody tr th:only-of-type {\n",
       "        vertical-align: middle;\n",
       "    }\n",
       "\n",
       "    .dataframe tbody tr th {\n",
       "        vertical-align: top;\n",
       "    }\n",
       "\n",
       "    .dataframe thead th {\n",
       "        text-align: right;\n",
       "    }\n",
       "</style>\n",
       "<table border=\"1\" class=\"dataframe\">\n",
       "  <thead>\n",
       "    <tr style=\"text-align: right;\">\n",
       "      <th></th>\n",
       "      <th>Date</th>\n",
       "      <th>Price</th>\n",
       "      <th>Open</th>\n",
       "      <th>High</th>\n",
       "      <th>Low</th>\n",
       "      <th>Vol.</th>\n",
       "      <th>Change %</th>\n",
       "    </tr>\n",
       "  </thead>\n",
       "  <tbody>\n",
       "    <tr>\n",
       "      <th>0</th>\n",
       "      <td>Jan 10, 2018</td>\n",
       "      <td>248.500</td>\n",
       "      <td>246.900</td>\n",
       "      <td>249.670</td>\n",
       "      <td>232.520</td>\n",
       "      <td>456.61K</td>\n",
       "      <td>0.69</td>\n",
       "    </tr>\n",
       "    <tr>\n",
       "      <th>1</th>\n",
       "      <td>Jan 09, 2018</td>\n",
       "      <td>246.790</td>\n",
       "      <td>255.210</td>\n",
       "      <td>258.750</td>\n",
       "      <td>238.750</td>\n",
       "      <td>404.78K</td>\n",
       "      <td>-3.35</td>\n",
       "    </tr>\n",
       "    <tr>\n",
       "      <th>2</th>\n",
       "      <td>Jan 08, 2018</td>\n",
       "      <td>255.350</td>\n",
       "      <td>272.080</td>\n",
       "      <td>273.670</td>\n",
       "      <td>231.640</td>\n",
       "      <td>590.53K</td>\n",
       "      <td>-6.14</td>\n",
       "    </tr>\n",
       "    <tr>\n",
       "      <th>3</th>\n",
       "      <td>Jan 07, 2018</td>\n",
       "      <td>272.060</td>\n",
       "      <td>279.420</td>\n",
       "      <td>286.950</td>\n",
       "      <td>265.240</td>\n",
       "      <td>355.27K</td>\n",
       "      <td>-2.63</td>\n",
       "    </tr>\n",
       "    <tr>\n",
       "      <th>4</th>\n",
       "      <td>Jan 06, 2018</td>\n",
       "      <td>279.420</td>\n",
       "      <td>246.230</td>\n",
       "      <td>304.000</td>\n",
       "      <td>245.000</td>\n",
       "      <td>797.57K</td>\n",
       "      <td>13.48</td>\n",
       "    </tr>\n",
       "  </tbody>\n",
       "</table>\n",
       "</div>"
      ],
      "text/plain": [
       "           Date    Price     Open     High      Low     Vol.  Change %\n",
       "0  Jan 10, 2018  248.500  246.900  249.670  232.520  456.61K      0.69\n",
       "1  Jan 09, 2018  246.790  255.210  258.750  238.750  404.78K     -3.35\n",
       "2  Jan 08, 2018  255.350  272.080  273.670  231.640  590.53K     -6.14\n",
       "3  Jan 07, 2018  272.060  279.420  286.950  265.240  355.27K     -2.63\n",
       "4  Jan 06, 2018  279.420  246.230  304.000  245.000  797.57K     13.48"
      ]
     },
     "execution_count": 2,
     "metadata": {},
     "output_type": "execute_result"
    }
   ],
   "source": [
    "data = pd.read_csv('./data/LTC USD Historical Data.csv')\n",
    "data.head()"
   ]
  },
  {
   "cell_type": "code",
   "execution_count": 3,
   "metadata": {
    "collapsed": false
   },
   "outputs": [
    {
     "data": {
      "text/html": [
       "<div>\n",
       "<style scoped>\n",
       "    .dataframe tbody tr th:only-of-type {\n",
       "        vertical-align: middle;\n",
       "    }\n",
       "\n",
       "    .dataframe tbody tr th {\n",
       "        vertical-align: top;\n",
       "    }\n",
       "\n",
       "    .dataframe thead th {\n",
       "        text-align: right;\n",
       "    }\n",
       "</style>\n",
       "<table border=\"1\" class=\"dataframe\">\n",
       "  <thead>\n",
       "    <tr style=\"text-align: right;\">\n",
       "      <th></th>\n",
       "      <th>Date</th>\n",
       "      <th>Price</th>\n",
       "      <th>Open</th>\n",
       "      <th>High</th>\n",
       "      <th>Low</th>\n",
       "      <th>Vol.</th>\n",
       "      <th>Change %</th>\n",
       "    </tr>\n",
       "  </thead>\n",
       "  <tbody>\n",
       "    <tr>\n",
       "      <th>502</th>\n",
       "      <td>Aug 26, 2016</td>\n",
       "      <td>3.810</td>\n",
       "      <td>3.810</td>\n",
       "      <td>3.900</td>\n",
       "      <td>3.770</td>\n",
       "      <td>3.34K</td>\n",
       "      <td>0.00</td>\n",
       "    </tr>\n",
       "    <tr>\n",
       "      <th>503</th>\n",
       "      <td>Aug 25, 2016</td>\n",
       "      <td>3.810</td>\n",
       "      <td>3.840</td>\n",
       "      <td>3.880</td>\n",
       "      <td>3.750</td>\n",
       "      <td>5.09K</td>\n",
       "      <td>-0.78</td>\n",
       "    </tr>\n",
       "    <tr>\n",
       "      <th>504</th>\n",
       "      <td>Aug 24, 2016</td>\n",
       "      <td>3.840</td>\n",
       "      <td>3.950</td>\n",
       "      <td>3.960</td>\n",
       "      <td>3.610</td>\n",
       "      <td>5.08K</td>\n",
       "      <td>-2.78</td>\n",
       "    </tr>\n",
       "    <tr>\n",
       "      <th>505</th>\n",
       "      <td>NaN</td>\n",
       "      <td>NaN</td>\n",
       "      <td>NaN</td>\n",
       "      <td>NaN</td>\n",
       "      <td>NaN</td>\n",
       "      <td>NaN</td>\n",
       "      <td>NaN</td>\n",
       "    </tr>\n",
       "    <tr>\n",
       "      <th>506</th>\n",
       "      <td>NaN</td>\n",
       "      <td>Highest:420.000</td>\n",
       "      <td>Lowest:3.260</td>\n",
       "      <td>Difference:416.740</td>\n",
       "      <td>Average:42.324</td>\n",
       "      <td>Change %:6,191.139</td>\n",
       "      <td>NaN</td>\n",
       "    </tr>\n",
       "  </tbody>\n",
       "</table>\n",
       "</div>"
      ],
      "text/plain": [
       "             Date            Price          Open                High  \\\n",
       "502  Aug 26, 2016            3.810         3.810               3.900   \n",
       "503  Aug 25, 2016            3.810         3.840               3.880   \n",
       "504  Aug 24, 2016            3.840         3.950               3.960   \n",
       "505           NaN              NaN           NaN                 NaN   \n",
       "506           NaN  Highest:420.000  Lowest:3.260  Difference:416.740   \n",
       "\n",
       "                Low                Vol.  Change %  \n",
       "502           3.770               3.34K      0.00  \n",
       "503           3.750               5.09K     -0.78  \n",
       "504           3.610               5.08K     -2.78  \n",
       "505             NaN                 NaN       NaN  \n",
       "506  Average:42.324  Change %:6,191.139       NaN  "
      ]
     },
     "execution_count": 3,
     "metadata": {},
     "output_type": "execute_result"
    }
   ],
   "source": [
    "data.tail()"
   ]
  },
  {
   "cell_type": "code",
   "execution_count": 4,
   "metadata": {
    "collapsed": false
   },
   "outputs": [],
   "source": [
    "data.dropna(axis=0, inplace=True)\n",
    "data = data.iloc[::-1]"
   ]
  },
  {
   "cell_type": "code",
   "execution_count": 5,
   "metadata": {
    "collapsed": false
   },
   "outputs": [],
   "source": [
    "from pandas import datetime\n",
    "data['Date'] = data['Date'].apply(lambda date: pd.to_datetime(date))"
   ]
  },
  {
   "cell_type": "code",
   "execution_count": 6,
   "metadata": {
    "collapsed": true
   },
   "outputs": [],
   "source": [
    "import locale\n",
    "from locale import *\n",
    "locale.setlocale(locale.LC_NUMERIC, '')\n",
    "data['Price'] = data['Price'].apply(lambda x: atof(x))"
   ]
  },
  {
   "cell_type": "code",
   "execution_count": 7,
   "metadata": {
    "collapsed": true
   },
   "outputs": [],
   "source": [
    "data['Open'] = data['Open'].apply(lambda x: atof(x))\n",
    "data['High'] = data['High'].apply(lambda x: atof(x))\n",
    "data['Low'] = data['Low'].apply(lambda x: atof(x))"
   ]
  },
  {
   "cell_type": "code",
   "execution_count": 8,
   "metadata": {
    "collapsed": false
   },
   "outputs": [
    {
     "name": "stdout",
     "output_type": "stream",
     "text": [
      "<class 'pandas.core.frame.DataFrame'>\n",
      "Int64Index: 505 entries, 504 to 0\n",
      "Data columns (total 7 columns):\n",
      "Date        505 non-null datetime64[ns]\n",
      "Price       505 non-null float64\n",
      "Open        505 non-null float64\n",
      "High        505 non-null float64\n",
      "Low         505 non-null float64\n",
      "Vol.        505 non-null object\n",
      "Change %    505 non-null float64\n",
      "dtypes: datetime64[ns](1), float64(5), object(1)\n",
      "memory usage: 31.6+ KB\n"
     ]
    }
   ],
   "source": [
    "data.info()"
   ]
  },
  {
   "cell_type": "markdown",
   "metadata": {},
   "source": [
    "## Visualizing prices for the whole dataset"
   ]
  },
  {
   "cell_type": "code",
   "execution_count": 9,
   "metadata": {
    "collapsed": false
   },
   "outputs": [
    {
     "data": {
      "image/png": "[encoded data removed]",
      "text/plain": [
       "<matplotlib.figure.Figure at 0x11434d320>"
      ]
     },
     "metadata": {},
     "output_type": "display_data"
    }
   ],
   "source": [
    "plt.plot(data['Date'], data['Price'], color = 'orange')\n",
    "plt.plot(data['Date'], data['Open'], color='purple')\n",
    "plt.plot(data['Date'], data['Low'], color='red')\n",
    "plt.plot(data['Date'], data['High'], color='blue')\n",
    "plt.title('LiteCoin Prices')\n",
    "plt.xlabel('Date')\n",
    "plt.ylabel('Price')\n",
    "plt.legend()\n",
    "fig = plt.gcf()\n",
    "fig.set_size_inches(15, 10)\n",
    "plt.savefig('./plots/historical_data.png')"
   ]
  },
  {
   "cell_type": "markdown",
   "metadata": {},
   "source": [
    "## Using TensorFlow to Train RNNs"
   ]
  },
  {
   "cell_type": "code",
   "execution_count": 10,
   "metadata": {
    "collapsed": false
   },
   "outputs": [
    {
     "name": "stderr",
     "output_type": "stream",
     "text": [
      "//anaconda/lib/python3.5/importlib/_bootstrap.py:222: RuntimeWarning: compiletime version 3.6 of module 'tensorflow.python.framework.fast_tensor_util' does not match runtime version 3.5\n",
      "  return f(*args, **kwds)\n"
     ]
    }
   ],
   "source": [
    "import tensorflow as tf"
   ]
  },
  {
   "cell_type": "code",
   "execution_count": 11,
   "metadata": {
    "collapsed": false
   },
   "outputs": [],
   "source": [
    "data = data.set_index('Date')"
   ]
  },
  {
   "cell_type": "code",
   "execution_count": 12,
   "metadata": {
    "collapsed": false
   },
   "outputs": [
    {
     "name": "stdout",
     "output_type": "stream",
     "text": [
      "<class 'pandas.core.frame.DataFrame'>\n",
      "DatetimeIndex: 505 entries, 2016-08-24 to 2018-01-10\n",
      "Data columns (total 6 columns):\n",
      "Price       505 non-null float64\n",
      "Open        505 non-null float64\n",
      "High        505 non-null float64\n",
      "Low         505 non-null float64\n",
      "Vol.        505 non-null object\n",
      "Change %    505 non-null float64\n",
      "dtypes: float64(5), object(1)\n",
      "memory usage: 27.6+ KB\n"
     ]
    }
   ],
   "source": [
    "data.info()"
   ]
  },
  {
   "cell_type": "markdown",
   "metadata": {},
   "source": [
    "### Scaling the Data\n",
    "In order to train a neural network on this data, it is a good idea to scale it first."
   ]
  },
  {
   "cell_type": "code",
   "execution_count": 13,
   "metadata": {
    "collapsed": true
   },
   "outputs": [],
   "source": [
    "from sklearn.preprocessing import MinMaxScaler"
   ]
  },
  {
   "cell_type": "code",
   "execution_count": 14,
   "metadata": {
    "collapsed": true
   },
   "outputs": [],
   "source": [
    "scaler = MinMaxScaler()"
   ]
  },
  {
   "cell_type": "code",
   "execution_count": 15,
   "metadata": {
    "collapsed": true
   },
   "outputs": [],
   "source": [
    "price_data_scaled = scaler.fit_transform(data['Price'].values.reshape(-1, 1))"
   ]
  },
  {
   "cell_type": "markdown",
   "metadata": {},
   "source": [
    "### Creating a Dataset with Features"
   ]
  },
  {
   "cell_type": "code",
   "execution_count": 16,
   "metadata": {
    "collapsed": true
   },
   "outputs": [],
   "source": [
    "def create_dataset(timeseries, n_inputs=30):\n",
    "    \n",
    "    features = []\n",
    "    targets = []\n",
    "    \n",
    "    for i in range(len(timeseries) - n_inputs):\n",
    "        \n",
    "        start = i\n",
    "        end = start + n_inputs\n",
    "        \n",
    "        x = timeseries[start:end]\n",
    "        y = timeseries[end]\n",
    "        \n",
    "        features.append(x)\n",
    "        targets.append(y)\n",
    "    \n",
    "    return np.array(features), np.array(targets)"
   ]
  },
  {
   "cell_type": "code",
   "execution_count": 17,
   "metadata": {
    "collapsed": true
   },
   "outputs": [],
   "source": [
    "X, y = create_dataset(price_data_scaled, n_inputs=14)"
   ]
  },
  {
   "cell_type": "code",
   "execution_count": 18,
   "metadata": {
    "collapsed": false
   },
   "outputs": [
    {
     "data": {
      "text/plain": [
       "(491, 14, 1)"
      ]
     },
     "execution_count": 18,
     "metadata": {},
     "output_type": "execute_result"
    }
   ],
   "source": [
    "X.shape"
   ]
  },
  {
   "cell_type": "code",
   "execution_count": 19,
   "metadata": {
    "collapsed": true
   },
   "outputs": [],
   "source": [
    "percent_training = 0.75\n",
    "num_samples = X.shape[0]\n",
    "num_train = int(percent_training * num_samples)\n",
    "\n",
    "X_train, y_train = X[:num_train], y[:num_train]\n",
    "X_test, y_test = X[num_train:], y[num_train:]"
   ]
  },
  {
   "cell_type": "markdown",
   "metadata": {},
   "source": [
    "## Training the RNN Model"
   ]
  },
  {
   "cell_type": "code",
   "execution_count": 20,
   "metadata": {
    "collapsed": false
   },
   "outputs": [
    {
     "name": "stderr",
     "output_type": "stream",
     "text": [
      "Using TensorFlow backend.\n"
     ]
    }
   ],
   "source": [
    "from keras.models import Sequential, load_model\n",
    "from keras.layers import Dense, LSTM\n",
    "from keras.callbacks import EarlyStopping\n",
    "\n",
    "num_inputs = 14\n",
    "\n",
    "model = Sequential()\n",
    "model.add(LSTM(100, input_shape=(num_inputs, 1)))\n",
    "model.add(Dense(1))\n",
    "model.compile(loss='mse', optimizer='rmsprop', metrics=['mae'])\n",
    "\n",
    "early_stopping = EarlyStopping(monitor='val_loss', mode='min', patience=3)"
   ]
  },
  {
   "cell_type": "code",
   "execution_count": 21,
   "metadata": {
    "collapsed": false
   },
   "outputs": [
    {
     "name": "stdout",
     "output_type": "stream",
     "text": [
      "Train on 368 samples, validate on 123 samples\n",
      "Epoch 1/100\n",
      "368/368 [==============================] - 7s 20ms/step - loss: 3.3196e-04 - mean_absolute_error: 0.0111 - val_loss: 0.0083 - val_mean_absolute_error: 0.0471\n",
      "Epoch 2/100\n",
      "368/368 [==============================] - 6s 15ms/step - loss: 1.6082e-04 - mean_absolute_error: 0.0082 - val_loss: 0.0047 - val_mean_absolute_error: 0.0329\n",
      "Epoch 3/100\n",
      "368/368 [==============================] - 5s 14ms/step - loss: 1.0132e-04 - mean_absolute_error: 0.0063 - val_loss: 0.0046 - val_mean_absolute_error: 0.0292\n",
      "Epoch 4/100\n",
      "368/368 [==============================] - 6s 16ms/step - loss: 1.0408e-04 - mean_absolute_error: 0.0064 - val_loss: 0.0044 - val_mean_absolute_error: 0.0310\n",
      "Epoch 5/100\n",
      "368/368 [==============================] - 6s 15ms/step - loss: 9.3452e-05 - mean_absolute_error: 0.0061 - val_loss: 0.0034 - val_mean_absolute_error: 0.0257\n",
      "Epoch 6/100\n",
      "368/368 [==============================] - 6s 16ms/step - loss: 9.1129e-05 - mean_absolute_error: 0.0058 - val_loss: 0.0031 - val_mean_absolute_error: 0.0272\n",
      "Epoch 7/100\n",
      "368/368 [==============================] - 6s 15ms/step - loss: 8.0959e-05 - mean_absolute_error: 0.0056 - val_loss: 0.0035 - val_mean_absolute_error: 0.0281\n",
      "Epoch 8/100\n",
      "368/368 [==============================] - 6s 17ms/step - loss: 7.2303e-05 - mean_absolute_error: 0.0050 - val_loss: 0.0034 - val_mean_absolute_error: 0.0283\n",
      "Epoch 9/100\n",
      "368/368 [==============================] - 6s 15ms/step - loss: 7.4071e-05 - mean_absolute_error: 0.0050 - val_loss: 0.0058 - val_mean_absolute_error: 0.0445\n"
     ]
    },
    {
     "data": {
      "text/plain": [
       "<keras.callbacks.History at 0x11ef7f668>"
      ]
     },
     "execution_count": 21,
     "metadata": {},
     "output_type": "execute_result"
    }
   ],
   "source": [
    "model.fit(X_train, y_train, validation_data=(X_test, y_test), \n",
    "          batch_size=1, epochs=100, callbacks=[early_stopping])"
   ]
  },
  {
   "cell_type": "code",
   "execution_count": 22,
   "metadata": {
    "collapsed": true
   },
   "outputs": [],
   "source": [
    "model.save('./models/litecoin_model.h5')"
   ]
  },
  {
   "cell_type": "markdown",
   "metadata": {},
   "source": [
    "### Comparing Generated Predictions with Prices in Testing Set"
   ]
  },
  {
   "cell_type": "code",
   "execution_count": 23,
   "metadata": {
    "collapsed": false
   },
   "outputs": [],
   "source": [
    "pred = model.predict(X_test)"
   ]
  },
  {
   "cell_type": "code",
   "execution_count": 24,
   "metadata": {
    "collapsed": false
   },
   "outputs": [
    {
     "data": {
      "text/plain": [
       "(123, 1)"
      ]
     },
     "execution_count": 24,
     "metadata": {},
     "output_type": "execute_result"
    }
   ],
   "source": [
    "pred.shape"
   ]
  },
  {
   "cell_type": "code",
   "execution_count": 25,
   "metadata": {
    "collapsed": false
   },
   "outputs": [],
   "source": [
    "results = scaler.inverse_transform(pred)"
   ]
  },
  {
   "cell_type": "code",
   "execution_count": 26,
   "metadata": {
    "collapsed": false
   },
   "outputs": [],
   "source": [
    "num_samples = results.shape[0]\n",
    "test_data_price = data.iloc[-num_samples:]['Price']"
   ]
  },
  {
   "cell_type": "code",
   "execution_count": 27,
   "metadata": {
    "collapsed": false
   },
   "outputs": [],
   "source": [
    "test_data_price_pred = pd.DataFrame({'Date': test_data_price.index, \n",
    "                                     'Price': test_data_price.values, \n",
    "                                     'Prediction': results[:, 0]})"
   ]
  },
  {
   "cell_type": "code",
   "execution_count": 28,
   "metadata": {
    "collapsed": false
   },
   "outputs": [
    {
     "data": {
      "text/html": [
       "<div>\n",
       "<style scoped>\n",
       "    .dataframe tbody tr th:only-of-type {\n",
       "        vertical-align: middle;\n",
       "    }\n",
       "\n",
       "    .dataframe tbody tr th {\n",
       "        vertical-align: top;\n",
       "    }\n",
       "\n",
       "    .dataframe thead th {\n",
       "        text-align: right;\n",
       "    }\n",
       "</style>\n",
       "<table border=\"1\" class=\"dataframe\">\n",
       "  <thead>\n",
       "    <tr style=\"text-align: right;\">\n",
       "      <th></th>\n",
       "      <th>Date</th>\n",
       "      <th>Prediction</th>\n",
       "      <th>Price</th>\n",
       "    </tr>\n",
       "  </thead>\n",
       "  <tbody>\n",
       "    <tr>\n",
       "      <th>0</th>\n",
       "      <td>2017-09-10</td>\n",
       "      <td>64.675949</td>\n",
       "      <td>67.44</td>\n",
       "    </tr>\n",
       "    <tr>\n",
       "      <th>1</th>\n",
       "      <td>2017-09-11</td>\n",
       "      <td>61.456078</td>\n",
       "      <td>68.28</td>\n",
       "    </tr>\n",
       "    <tr>\n",
       "      <th>2</th>\n",
       "      <td>2017-09-12</td>\n",
       "      <td>61.177021</td>\n",
       "      <td>66.00</td>\n",
       "    </tr>\n",
       "    <tr>\n",
       "      <th>3</th>\n",
       "      <td>2017-09-13</td>\n",
       "      <td>59.922344</td>\n",
       "      <td>61.80</td>\n",
       "    </tr>\n",
       "    <tr>\n",
       "      <th>4</th>\n",
       "      <td>2017-09-14</td>\n",
       "      <td>57.057209</td>\n",
       "      <td>45.42</td>\n",
       "    </tr>\n",
       "    <tr>\n",
       "      <th>5</th>\n",
       "      <td>2017-09-15</td>\n",
       "      <td>45.750538</td>\n",
       "      <td>52.29</td>\n",
       "    </tr>\n",
       "    <tr>\n",
       "      <th>6</th>\n",
       "      <td>2017-09-16</td>\n",
       "      <td>46.546734</td>\n",
       "      <td>52.47</td>\n",
       "    </tr>\n",
       "    <tr>\n",
       "      <th>7</th>\n",
       "      <td>2017-09-17</td>\n",
       "      <td>47.460110</td>\n",
       "      <td>51.37</td>\n",
       "    </tr>\n",
       "    <tr>\n",
       "      <th>8</th>\n",
       "      <td>2017-09-18</td>\n",
       "      <td>47.470573</td>\n",
       "      <td>56.30</td>\n",
       "    </tr>\n",
       "    <tr>\n",
       "      <th>9</th>\n",
       "      <td>2017-09-19</td>\n",
       "      <td>50.857708</td>\n",
       "      <td>52.95</td>\n",
       "    </tr>\n",
       "    <tr>\n",
       "      <th>10</th>\n",
       "      <td>2017-09-20</td>\n",
       "      <td>49.833542</td>\n",
       "      <td>51.57</td>\n",
       "    </tr>\n",
       "    <tr>\n",
       "      <th>11</th>\n",
       "      <td>2017-09-21</td>\n",
       "      <td>48.359234</td>\n",
       "      <td>46.61</td>\n",
       "    </tr>\n",
       "    <tr>\n",
       "      <th>12</th>\n",
       "      <td>2017-09-22</td>\n",
       "      <td>44.428532</td>\n",
       "      <td>47.81</td>\n",
       "    </tr>\n",
       "    <tr>\n",
       "      <th>13</th>\n",
       "      <td>2017-09-23</td>\n",
       "      <td>43.728317</td>\n",
       "      <td>49.41</td>\n",
       "    </tr>\n",
       "    <tr>\n",
       "      <th>14</th>\n",
       "      <td>2017-09-24</td>\n",
       "      <td>44.537464</td>\n",
       "      <td>47.70</td>\n",
       "    </tr>\n",
       "    <tr>\n",
       "      <th>15</th>\n",
       "      <td>2017-09-25</td>\n",
       "      <td>43.788025</td>\n",
       "      <td>52.22</td>\n",
       "    </tr>\n",
       "    <tr>\n",
       "      <th>16</th>\n",
       "      <td>2017-09-26</td>\n",
       "      <td>46.462490</td>\n",
       "      <td>52.34</td>\n",
       "    </tr>\n",
       "    <tr>\n",
       "      <th>17</th>\n",
       "      <td>2017-09-27</td>\n",
       "      <td>47.452980</td>\n",
       "      <td>56.88</td>\n",
       "    </tr>\n",
       "    <tr>\n",
       "      <th>18</th>\n",
       "      <td>2017-09-28</td>\n",
       "      <td>50.618088</td>\n",
       "      <td>54.87</td>\n",
       "    </tr>\n",
       "    <tr>\n",
       "      <th>19</th>\n",
       "      <td>2017-09-29</td>\n",
       "      <td>50.275654</td>\n",
       "      <td>52.62</td>\n",
       "    </tr>\n",
       "    <tr>\n",
       "      <th>20</th>\n",
       "      <td>2017-09-30</td>\n",
       "      <td>48.451012</td>\n",
       "      <td>55.26</td>\n",
       "    </tr>\n",
       "    <tr>\n",
       "      <th>21</th>\n",
       "      <td>2017-10-01</td>\n",
       "      <td>49.339478</td>\n",
       "      <td>54.69</td>\n",
       "    </tr>\n",
       "    <tr>\n",
       "      <th>22</th>\n",
       "      <td>2017-10-02</td>\n",
       "      <td>49.210506</td>\n",
       "      <td>53.37</td>\n",
       "    </tr>\n",
       "    <tr>\n",
       "      <th>23</th>\n",
       "      <td>2017-10-03</td>\n",
       "      <td>48.283710</td>\n",
       "      <td>52.15</td>\n",
       "    </tr>\n",
       "    <tr>\n",
       "      <th>24</th>\n",
       "      <td>2017-10-04</td>\n",
       "      <td>47.214851</td>\n",
       "      <td>51.16</td>\n",
       "    </tr>\n",
       "    <tr>\n",
       "      <th>25</th>\n",
       "      <td>2017-10-05</td>\n",
       "      <td>46.295425</td>\n",
       "      <td>51.67</td>\n",
       "    </tr>\n",
       "    <tr>\n",
       "      <th>26</th>\n",
       "      <td>2017-10-06</td>\n",
       "      <td>46.447964</td>\n",
       "      <td>52.12</td>\n",
       "    </tr>\n",
       "    <tr>\n",
       "      <th>27</th>\n",
       "      <td>2017-10-07</td>\n",
       "      <td>46.923370</td>\n",
       "      <td>52.57</td>\n",
       "    </tr>\n",
       "    <tr>\n",
       "      <th>28</th>\n",
       "      <td>2017-10-08</td>\n",
       "      <td>47.469570</td>\n",
       "      <td>53.27</td>\n",
       "    </tr>\n",
       "    <tr>\n",
       "      <th>29</th>\n",
       "      <td>2017-10-09</td>\n",
       "      <td>48.153034</td>\n",
       "      <td>50.04</td>\n",
       "    </tr>\n",
       "    <tr>\n",
       "      <th>...</th>\n",
       "      <td>...</td>\n",
       "      <td>...</td>\n",
       "      <td>...</td>\n",
       "    </tr>\n",
       "    <tr>\n",
       "      <th>93</th>\n",
       "      <td>2017-12-12</td>\n",
       "      <td>179.496826</td>\n",
       "      <td>352.08</td>\n",
       "    </tr>\n",
       "    <tr>\n",
       "      <th>94</th>\n",
       "      <td>2017-12-13</td>\n",
       "      <td>279.104645</td>\n",
       "      <td>312.89</td>\n",
       "    </tr>\n",
       "    <tr>\n",
       "      <th>95</th>\n",
       "      <td>2017-12-14</td>\n",
       "      <td>276.713501</td>\n",
       "      <td>283.80</td>\n",
       "    </tr>\n",
       "    <tr>\n",
       "      <th>96</th>\n",
       "      <td>2017-12-15</td>\n",
       "      <td>254.977753</td>\n",
       "      <td>303.79</td>\n",
       "    </tr>\n",
       "    <tr>\n",
       "      <th>97</th>\n",
       "      <td>2017-12-16</td>\n",
       "      <td>258.804077</td>\n",
       "      <td>306.86</td>\n",
       "    </tr>\n",
       "    <tr>\n",
       "      <th>98</th>\n",
       "      <td>2017-12-17</td>\n",
       "      <td>259.144257</td>\n",
       "      <td>324.74</td>\n",
       "    </tr>\n",
       "    <tr>\n",
       "      <th>99</th>\n",
       "      <td>2017-12-18</td>\n",
       "      <td>270.601624</td>\n",
       "      <td>359.40</td>\n",
       "    </tr>\n",
       "    <tr>\n",
       "      <th>100</th>\n",
       "      <td>2017-12-19</td>\n",
       "      <td>296.755280</td>\n",
       "      <td>350.79</td>\n",
       "    </tr>\n",
       "    <tr>\n",
       "      <th>101</th>\n",
       "      <td>2017-12-20</td>\n",
       "      <td>298.211792</td>\n",
       "      <td>305.59</td>\n",
       "    </tr>\n",
       "    <tr>\n",
       "      <th>102</th>\n",
       "      <td>2017-12-21</td>\n",
       "      <td>269.876099</td>\n",
       "      <td>311.00</td>\n",
       "    </tr>\n",
       "    <tr>\n",
       "      <th>103</th>\n",
       "      <td>2017-12-22</td>\n",
       "      <td>266.978271</td>\n",
       "      <td>267.79</td>\n",
       "    </tr>\n",
       "    <tr>\n",
       "      <th>104</th>\n",
       "      <td>2017-12-23</td>\n",
       "      <td>237.884003</td>\n",
       "      <td>293.03</td>\n",
       "    </tr>\n",
       "    <tr>\n",
       "      <th>105</th>\n",
       "      <td>2017-12-24</td>\n",
       "      <td>248.368591</td>\n",
       "      <td>278.81</td>\n",
       "    </tr>\n",
       "    <tr>\n",
       "      <th>106</th>\n",
       "      <td>2017-12-25</td>\n",
       "      <td>242.884995</td>\n",
       "      <td>273.52</td>\n",
       "    </tr>\n",
       "    <tr>\n",
       "      <th>107</th>\n",
       "      <td>2017-12-26</td>\n",
       "      <td>239.699600</td>\n",
       "      <td>280.10</td>\n",
       "    </tr>\n",
       "    <tr>\n",
       "      <th>108</th>\n",
       "      <td>2017-12-27</td>\n",
       "      <td>243.820633</td>\n",
       "      <td>264.40</td>\n",
       "    </tr>\n",
       "    <tr>\n",
       "      <th>109</th>\n",
       "      <td>2017-12-28</td>\n",
       "      <td>235.236038</td>\n",
       "      <td>251.18</td>\n",
       "    </tr>\n",
       "    <tr>\n",
       "      <th>110</th>\n",
       "      <td>2017-12-29</td>\n",
       "      <td>224.842346</td>\n",
       "      <td>245.79</td>\n",
       "    </tr>\n",
       "    <tr>\n",
       "      <th>111</th>\n",
       "      <td>2017-12-30</td>\n",
       "      <td>218.576431</td>\n",
       "      <td>216.03</td>\n",
       "    </tr>\n",
       "    <tr>\n",
       "      <th>112</th>\n",
       "      <td>2017-12-31</td>\n",
       "      <td>197.481659</td>\n",
       "      <td>227.17</td>\n",
       "    </tr>\n",
       "    <tr>\n",
       "      <th>113</th>\n",
       "      <td>2018-01-01</td>\n",
       "      <td>199.360031</td>\n",
       "      <td>225.22</td>\n",
       "    </tr>\n",
       "    <tr>\n",
       "      <th>114</th>\n",
       "      <td>2018-01-02</td>\n",
       "      <td>198.896744</td>\n",
       "      <td>253.31</td>\n",
       "    </tr>\n",
       "    <tr>\n",
       "      <th>115</th>\n",
       "      <td>2018-01-03</td>\n",
       "      <td>217.991028</td>\n",
       "      <td>244.99</td>\n",
       "    </tr>\n",
       "    <tr>\n",
       "      <th>116</th>\n",
       "      <td>2018-01-04</td>\n",
       "      <td>218.060089</td>\n",
       "      <td>238.91</td>\n",
       "    </tr>\n",
       "    <tr>\n",
       "      <th>117</th>\n",
       "      <td>2018-01-05</td>\n",
       "      <td>213.990204</td>\n",
       "      <td>246.23</td>\n",
       "    </tr>\n",
       "    <tr>\n",
       "      <th>118</th>\n",
       "      <td>2018-01-06</td>\n",
       "      <td>217.090836</td>\n",
       "      <td>279.42</td>\n",
       "    </tr>\n",
       "    <tr>\n",
       "      <th>119</th>\n",
       "      <td>2018-01-07</td>\n",
       "      <td>239.035522</td>\n",
       "      <td>272.06</td>\n",
       "    </tr>\n",
       "    <tr>\n",
       "      <th>120</th>\n",
       "      <td>2018-01-08</td>\n",
       "      <td>239.349091</td>\n",
       "      <td>255.35</td>\n",
       "    </tr>\n",
       "    <tr>\n",
       "      <th>121</th>\n",
       "      <td>2018-01-09</td>\n",
       "      <td>227.938843</td>\n",
       "      <td>246.79</td>\n",
       "    </tr>\n",
       "    <tr>\n",
       "      <th>122</th>\n",
       "      <td>2018-01-10</td>\n",
       "      <td>218.395813</td>\n",
       "      <td>248.50</td>\n",
       "    </tr>\n",
       "  </tbody>\n",
       "</table>\n",
       "<p>123 rows × 3 columns</p>\n",
       "</div>"
      ],
      "text/plain": [
       "          Date  Prediction   Price\n",
       "0   2017-09-10   64.675949   67.44\n",
       "1   2017-09-11   61.456078   68.28\n",
       "2   2017-09-12   61.177021   66.00\n",
       "3   2017-09-13   59.922344   61.80\n",
       "4   2017-09-14   57.057209   45.42\n",
       "5   2017-09-15   45.750538   52.29\n",
       "6   2017-09-16   46.546734   52.47\n",
       "7   2017-09-17   47.460110   51.37\n",
       "8   2017-09-18   47.470573   56.30\n",
       "9   2017-09-19   50.857708   52.95\n",
       "10  2017-09-20   49.833542   51.57\n",
       "11  2017-09-21   48.359234   46.61\n",
       "12  2017-09-22   44.428532   47.81\n",
       "13  2017-09-23   43.728317   49.41\n",
       "14  2017-09-24   44.537464   47.70\n",
       "15  2017-09-25   43.788025   52.22\n",
       "16  2017-09-26   46.462490   52.34\n",
       "17  2017-09-27   47.452980   56.88\n",
       "18  2017-09-28   50.618088   54.87\n",
       "19  2017-09-29   50.275654   52.62\n",
       "20  2017-09-30   48.451012   55.26\n",
       "21  2017-10-01   49.339478   54.69\n",
       "22  2017-10-02   49.210506   53.37\n",
       "23  2017-10-03   48.283710   52.15\n",
       "24  2017-10-04   47.214851   51.16\n",
       "25  2017-10-05   46.295425   51.67\n",
       "26  2017-10-06   46.447964   52.12\n",
       "27  2017-10-07   46.923370   52.57\n",
       "28  2017-10-08   47.469570   53.27\n",
       "29  2017-10-09   48.153034   50.04\n",
       "..         ...         ...     ...\n",
       "93  2017-12-12  179.496826  352.08\n",
       "94  2017-12-13  279.104645  312.89\n",
       "95  2017-12-14  276.713501  283.80\n",
       "96  2017-12-15  254.977753  303.79\n",
       "97  2017-12-16  258.804077  306.86\n",
       "98  2017-12-17  259.144257  324.74\n",
       "99  2017-12-18  270.601624  359.40\n",
       "100 2017-12-19  296.755280  350.79\n",
       "101 2017-12-20  298.211792  305.59\n",
       "102 2017-12-21  269.876099  311.00\n",
       "103 2017-12-22  266.978271  267.79\n",
       "104 2017-12-23  237.884003  293.03\n",
       "105 2017-12-24  248.368591  278.81\n",
       "106 2017-12-25  242.884995  273.52\n",
       "107 2017-12-26  239.699600  280.10\n",
       "108 2017-12-27  243.820633  264.40\n",
       "109 2017-12-28  235.236038  251.18\n",
       "110 2017-12-29  224.842346  245.79\n",
       "111 2017-12-30  218.576431  216.03\n",
       "112 2017-12-31  197.481659  227.17\n",
       "113 2018-01-01  199.360031  225.22\n",
       "114 2018-01-02  198.896744  253.31\n",
       "115 2018-01-03  217.991028  244.99\n",
       "116 2018-01-04  218.060089  238.91\n",
       "117 2018-01-05  213.990204  246.23\n",
       "118 2018-01-06  217.090836  279.42\n",
       "119 2018-01-07  239.035522  272.06\n",
       "120 2018-01-08  239.349091  255.35\n",
       "121 2018-01-09  227.938843  246.79\n",
       "122 2018-01-10  218.395813  248.50\n",
       "\n",
       "[123 rows x 3 columns]"
      ]
     },
     "execution_count": 28,
     "metadata": {},
     "output_type": "execute_result"
    }
   ],
   "source": [
    "test_data_price_pred"
   ]
  },
  {
   "cell_type": "code",
   "execution_count": 30,
   "metadata": {
    "collapsed": false
   },
   "outputs": [
    {
     "data": {
      "image/png": "[encoded data removed]",
      "text/plain": [
       "<matplotlib.figure.Figure at 0x1a2fc17e48>"
      ]
     },
     "metadata": {},
     "output_type": "display_data"
    }
   ],
   "source": [
    "plt.plot(test_data_price_pred['Date'], test_data_price_pred['Price'], color='green')\n",
    "plt.plot(test_data_price_pred['Date'], test_data_price_pred['Prediction'], color='orange')\n",
    "plt.legend()\n",
    "plt.title('Predicted vs. Actual Prices')\n",
    "plt.xlabel('Date')\n",
    "plt.ylabel('Price')\n",
    "fig = plt.gcf()\n",
    "fig.set_size_inches(15, 10)\n",
    "plt.savefig('./plots/predictions.png')"
   ]
  }
 ],
 "metadata": {
  "anaconda-cloud": {},
  "kernelspec": {
   "display_name": "Python [conda root]",
   "language": "python",
   "name": "conda-root-py"
  },
  "language_info": {
   "codemirror_mode": {
    "name": "ipython",
    "version": 3
   },
   "file_extension": ".py",
   "mimetype": "text/x-python",
   "name": "python",
   "nbconvert_exporter": "python",
   "pygments_lexer": "ipython3",
   "version": "3.5.2"
  }
 },
 "nbformat": 4,
 "nbformat_minor": 2
}
