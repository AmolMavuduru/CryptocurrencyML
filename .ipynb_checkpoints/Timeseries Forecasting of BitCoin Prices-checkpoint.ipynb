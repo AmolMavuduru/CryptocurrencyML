{
 "cells": [
  {
   "cell_type": "markdown",
   "metadata": {},
   "source": [
    "# Timeseries Forecasting of Bitcoin prices\n",
    "\n",
    "In this exploration, I make an attempt to train recurrent neural networks to predict the price of bitcoin."
   ]
  },
  {
   "cell_type": "markdown",
   "metadata": {},
   "source": [
    "## Importing Libraries and Reading in the Data"
   ]
  },
  {
   "cell_type": "code",
   "execution_count": 1,
   "metadata": {
    "collapsed": false
   },
   "outputs": [],
   "source": [
    "import numpy as np\n",
    "import pandas as pd\n",
    "import matplotlib.pyplot as plt\n",
    "%matplotlib inline"
   ]
  },
  {
   "cell_type": "code",
   "execution_count": 3,
   "metadata": {
    "collapsed": false
   },
   "outputs": [
    {
     "data": {
      "text/html": [
       "<div>\n",
       "<table border=\"1\" class=\"dataframe\">\n",
       "  <thead>\n",
       "    <tr style=\"text-align: right;\">\n",
       "      <th></th>\n",
       "      <th>Date</th>\n",
       "      <th>Price</th>\n",
       "      <th>Open</th>\n",
       "      <th>High</th>\n",
       "      <th>Low</th>\n",
       "      <th>Vol.</th>\n",
       "      <th>Change %</th>\n",
       "    </tr>\n",
       "  </thead>\n",
       "  <tbody>\n",
       "    <tr>\n",
       "      <th>0</th>\n",
       "      <td>Jan 09, 2018</td>\n",
       "      <td>14,423.00</td>\n",
       "      <td>14,902.00</td>\n",
       "      <td>15,355.00</td>\n",
       "      <td>14,122.00</td>\n",
       "      <td>43.44K</td>\n",
       "      <td>-3.40</td>\n",
       "    </tr>\n",
       "    <tr>\n",
       "      <th>1</th>\n",
       "      <td>Jan 08, 2018</td>\n",
       "      <td>14,930.00</td>\n",
       "      <td>16,216.00</td>\n",
       "      <td>16,279.00</td>\n",
       "      <td>13,760.00</td>\n",
       "      <td>64.95K</td>\n",
       "      <td>-7.82</td>\n",
       "    </tr>\n",
       "    <tr>\n",
       "      <th>2</th>\n",
       "      <td>Jan 07, 2018</td>\n",
       "      <td>16,196.00</td>\n",
       "      <td>17,163.00</td>\n",
       "      <td>17,176.00</td>\n",
       "      <td>15,726.00</td>\n",
       "      <td>30.84K</td>\n",
       "      <td>-5.62</td>\n",
       "    </tr>\n",
       "    <tr>\n",
       "      <th>3</th>\n",
       "      <td>Jan 06, 2018</td>\n",
       "      <td>17,161.00</td>\n",
       "      <td>16,911.00</td>\n",
       "      <td>17,252.00</td>\n",
       "      <td>16,251.00</td>\n",
       "      <td>29.61K</td>\n",
       "      <td>1.44</td>\n",
       "    </tr>\n",
       "    <tr>\n",
       "      <th>4</th>\n",
       "      <td>Jan 05, 2018</td>\n",
       "      <td>16,917.00</td>\n",
       "      <td>15,159.00</td>\n",
       "      <td>17,101.00</td>\n",
       "      <td>14,769.00</td>\n",
       "      <td>54.63K</td>\n",
       "      <td>11.59</td>\n",
       "    </tr>\n",
       "  </tbody>\n",
       "</table>\n",
       "</div>"
      ],
      "text/plain": [
       "           Date      Price       Open       High        Low    Vol.  Change %\n",
       "0  Jan 09, 2018  14,423.00  14,902.00  15,355.00  14,122.00  43.44K     -3.40\n",
       "1  Jan 08, 2018  14,930.00  16,216.00  16,279.00  13,760.00  64.95K     -7.82\n",
       "2  Jan 07, 2018  16,196.00  17,163.00  17,176.00  15,726.00  30.84K     -5.62\n",
       "3  Jan 06, 2018  17,161.00  16,911.00  17,252.00  16,251.00  29.61K      1.44\n",
       "4  Jan 05, 2018  16,917.00  15,159.00  17,101.00  14,769.00  54.63K     11.59"
      ]
     },
     "execution_count": 3,
     "metadata": {},
     "output_type": "execute_result"
    }
   ],
   "source": [
    "bitcoin_data = pd.read_csv('BTC USD Historical Data.csv')\n",
    "bitcoin_data.head()"
   ]
  },
  {
   "cell_type": "code",
   "execution_count": 4,
   "metadata": {
    "collapsed": false
   },
   "outputs": [
    {
     "data": {
      "text/html": [
       "<div>\n",
       "<table border=\"1\" class=\"dataframe\">\n",
       "  <thead>\n",
       "    <tr style=\"text-align: right;\">\n",
       "      <th></th>\n",
       "      <th>Date</th>\n",
       "      <th>Price</th>\n",
       "      <th>Open</th>\n",
       "      <th>High</th>\n",
       "      <th>Low</th>\n",
       "      <th>Vol.</th>\n",
       "      <th>Change %</th>\n",
       "    </tr>\n",
       "  </thead>\n",
       "  <tbody>\n",
       "    <tr>\n",
       "      <th>2153</th>\n",
       "      <td>NaN</td>\n",
       "      <td>Highest:19,891.00</td>\n",
       "      <td>Lowest:0.00</td>\n",
       "      <td>Difference:19,891.00</td>\n",
       "      <td>Average:995.73</td>\n",
       "      <td>Change %:237,120.40</td>\n",
       "      <td>NaN</td>\n",
       "    </tr>\n",
       "    <tr>\n",
       "      <th>2152</th>\n",
       "      <td>NaN</td>\n",
       "      <td>NaN</td>\n",
       "      <td>NaN</td>\n",
       "      <td>NaN</td>\n",
       "      <td>NaN</td>\n",
       "      <td>NaN</td>\n",
       "      <td>NaN</td>\n",
       "    </tr>\n",
       "    <tr>\n",
       "      <th>2151</th>\n",
       "      <td>Feb 02, 2012</td>\n",
       "      <td>6.10</td>\n",
       "      <td>6.10</td>\n",
       "      <td>6.10</td>\n",
       "      <td>6.10</td>\n",
       "      <td>0</td>\n",
       "      <td>0.33</td>\n",
       "    </tr>\n",
       "    <tr>\n",
       "      <th>2150</th>\n",
       "      <td>Feb 03, 2012</td>\n",
       "      <td>5.96</td>\n",
       "      <td>5.96</td>\n",
       "      <td>5.96</td>\n",
       "      <td>5.96</td>\n",
       "      <td>0</td>\n",
       "      <td>-2.30</td>\n",
       "    </tr>\n",
       "    <tr>\n",
       "      <th>2149</th>\n",
       "      <td>Feb 04, 2012</td>\n",
       "      <td>5.87</td>\n",
       "      <td>5.87</td>\n",
       "      <td>5.87</td>\n",
       "      <td>5.87</td>\n",
       "      <td>0</td>\n",
       "      <td>-1.51</td>\n",
       "    </tr>\n",
       "  </tbody>\n",
       "</table>\n",
       "</div>"
      ],
      "text/plain": [
       "              Date              Price         Open                  High  \\\n",
       "2153           NaN  Highest:19,891.00  Lowest:0.00  Difference:19,891.00   \n",
       "2152           NaN                NaN          NaN                   NaN   \n",
       "2151  Feb 02, 2012               6.10         6.10                  6.10   \n",
       "2150  Feb 03, 2012               5.96         5.96                  5.96   \n",
       "2149  Feb 04, 2012               5.87         5.87                  5.87   \n",
       "\n",
       "                 Low                 Vol.  Change %  \n",
       "2153  Average:995.73  Change %:237,120.40       NaN  \n",
       "2152             NaN                  NaN       NaN  \n",
       "2151            6.10                    0      0.33  \n",
       "2150            5.96                    0     -2.30  \n",
       "2149            5.87                    0     -1.51  "
      ]
     },
     "execution_count": 4,
     "metadata": {},
     "output_type": "execute_result"
    }
   ],
   "source": [
    "bitcoin_data = bitcoin_data.iloc[::-1]\n",
    "bitcoin_data.head()"
   ]
  },
  {
   "cell_type": "code",
   "execution_count": 5,
   "metadata": {
    "collapsed": false
   },
   "outputs": [
    {
     "name": "stdout",
     "output_type": "stream",
     "text": [
      "<class 'pandas.core.frame.DataFrame'>\n",
      "RangeIndex: 2154 entries, 2153 to 0\n",
      "Data columns (total 7 columns):\n",
      "Date        2152 non-null object\n",
      "Price       2153 non-null object\n",
      "Open        2153 non-null object\n",
      "High        2153 non-null object\n",
      "Low         2153 non-null object\n",
      "Vol.        2153 non-null object\n",
      "Change %    2152 non-null float64\n",
      "dtypes: float64(1), object(6)\n",
      "memory usage: 117.9+ KB\n"
     ]
    }
   ],
   "source": [
    "bitcoin_data.info()"
   ]
  },
  {
   "cell_type": "code",
   "execution_count": 6,
   "metadata": {
    "collapsed": false
   },
   "outputs": [],
   "source": [
    "from pandas import datetime\n",
    "bitcoin_data['Date'] = bitcoin_data['Date'].apply(lambda date: pd.to_datetime(date))"
   ]
  },
  {
   "cell_type": "code",
   "execution_count": 7,
   "metadata": {
    "collapsed": false
   },
   "outputs": [
    {
     "name": "stdout",
     "output_type": "stream",
     "text": [
      "<class 'pandas.core.frame.DataFrame'>\n",
      "RangeIndex: 2154 entries, 2153 to 0\n",
      "Data columns (total 7 columns):\n",
      "Date        2152 non-null datetime64[ns]\n",
      "Price       2153 non-null object\n",
      "Open        2153 non-null object\n",
      "High        2153 non-null object\n",
      "Low         2153 non-null object\n",
      "Vol.        2153 non-null object\n",
      "Change %    2152 non-null float64\n",
      "dtypes: datetime64[ns](1), float64(1), object(5)\n",
      "memory usage: 117.9+ KB\n"
     ]
    }
   ],
   "source": [
    "bitcoin_data.info()"
   ]
  },
  {
   "cell_type": "code",
   "execution_count": 8,
   "metadata": {
    "collapsed": false
   },
   "outputs": [
    {
     "data": {
      "text/html": [
       "<div>\n",
       "<table border=\"1\" class=\"dataframe\">\n",
       "  <thead>\n",
       "    <tr style=\"text-align: right;\">\n",
       "      <th></th>\n",
       "      <th>Date</th>\n",
       "      <th>Price</th>\n",
       "      <th>Open</th>\n",
       "      <th>High</th>\n",
       "      <th>Low</th>\n",
       "      <th>Vol.</th>\n",
       "      <th>Change %</th>\n",
       "    </tr>\n",
       "  </thead>\n",
       "  <tbody>\n",
       "    <tr>\n",
       "      <th>2153</th>\n",
       "      <td>NaT</td>\n",
       "      <td>Highest:19,891.00</td>\n",
       "      <td>Lowest:0.00</td>\n",
       "      <td>Difference:19,891.00</td>\n",
       "      <td>Average:995.73</td>\n",
       "      <td>Change %:237,120.40</td>\n",
       "      <td>NaN</td>\n",
       "    </tr>\n",
       "    <tr>\n",
       "      <th>2152</th>\n",
       "      <td>NaT</td>\n",
       "      <td>NaN</td>\n",
       "      <td>NaN</td>\n",
       "      <td>NaN</td>\n",
       "      <td>NaN</td>\n",
       "      <td>NaN</td>\n",
       "      <td>NaN</td>\n",
       "    </tr>\n",
       "  </tbody>\n",
       "</table>\n",
       "</div>"
      ],
      "text/plain": [
       "     Date              Price         Open                  High  \\\n",
       "2153  NaT  Highest:19,891.00  Lowest:0.00  Difference:19,891.00   \n",
       "2152  NaT                NaN          NaN                   NaN   \n",
       "\n",
       "                 Low                 Vol.  Change %  \n",
       "2153  Average:995.73  Change %:237,120.40       NaN  \n",
       "2152             NaN                  NaN       NaN  "
      ]
     },
     "execution_count": 8,
     "metadata": {},
     "output_type": "execute_result"
    }
   ],
   "source": [
    "bitcoin_data[pd.isnull(bitcoin_data).any(axis=1)]"
   ]
  },
  {
   "cell_type": "code",
   "execution_count": 9,
   "metadata": {
    "collapsed": false
   },
   "outputs": [],
   "source": [
    "bitcoin_data.dropna(axis=0, inplace=True)"
   ]
  },
  {
   "cell_type": "code",
   "execution_count": 10,
   "metadata": {
    "collapsed": false
   },
   "outputs": [
    {
     "data": {
      "text/plain": [
       "Date        0\n",
       "Price       0\n",
       "Open        0\n",
       "High        0\n",
       "Low         0\n",
       "Vol.        0\n",
       "Change %    0\n",
       "dtype: int64"
      ]
     },
     "execution_count": 10,
     "metadata": {},
     "output_type": "execute_result"
    }
   ],
   "source": [
    "bitcoin_data.isnull().sum()"
   ]
  },
  {
   "cell_type": "code",
   "execution_count": 11,
   "metadata": {
    "collapsed": false
   },
   "outputs": [],
   "source": [
    "import locale\n",
    "from locale import *\n",
    "locale.setlocale(locale.LC_NUMERIC, '')\n",
    "bitcoin_data['Price'] = bitcoin_data['Price'].apply(lambda x: atof(x))"
   ]
  },
  {
   "cell_type": "code",
   "execution_count": 12,
   "metadata": {
    "collapsed": false
   },
   "outputs": [],
   "source": [
    "bitcoin_data['Open'] = bitcoin_data['Price'].apply(lambda x: float(x))\n",
    "bitcoin_data['High'] = bitcoin_data['Price'].apply(lambda x: float(x))\n",
    "bitcoin_data['Low'] = bitcoin_data['Price'].apply(lambda x: float(x))"
   ]
  },
  {
   "cell_type": "code",
   "execution_count": 13,
   "metadata": {
    "collapsed": false
   },
   "outputs": [
    {
     "name": "stdout",
     "output_type": "stream",
     "text": [
      "<class 'pandas.core.frame.DataFrame'>\n",
      "Int64Index: 2152 entries, 2151 to 0\n",
      "Data columns (total 7 columns):\n",
      "Date        2152 non-null datetime64[ns]\n",
      "Price       2152 non-null float64\n",
      "Open        2152 non-null float64\n",
      "High        2152 non-null float64\n",
      "Low         2152 non-null float64\n",
      "Vol.        2152 non-null object\n",
      "Change %    2152 non-null float64\n",
      "dtypes: datetime64[ns](1), float64(5), object(1)\n",
      "memory usage: 134.5+ KB\n"
     ]
    }
   ],
   "source": [
    "bitcoin_data.info()"
   ]
  },
  {
   "cell_type": "markdown",
   "metadata": {},
   "source": [
    "## Visualizing Bitcoin prices over a 6-year period"
   ]
  },
  {
   "cell_type": "code",
   "execution_count": 14,
   "metadata": {
    "collapsed": false
   },
   "outputs": [
    {
     "data": {
      "image/png": "[encoded data removed]",
      "text/plain": [
       "<matplotlib.figure.Figure at 0x10fda5278>"
      ]
     },
     "metadata": {},
     "output_type": "display_data"
    }
   ],
   "source": [
    "plt.plot(bitcoin_data['Date'], bitcoin_data['Price'], color = 'orange')\n",
    "plt.plot(bitcoin_data['Date'], bitcoin_data['Open'], color='purple')\n",
    "plt.plot(bitcoin_data['Date'], bitcoin_data['Low'], color='red')\n",
    "plt.plot(bitcoin_data['Date'], bitcoin_data['High'], color='blue')\n",
    "plt.legend()\n",
    "fig = plt.gcf()\n",
    "fig.set_size_inches(15, 10)"
   ]
  },
  {
   "cell_type": "markdown",
   "metadata": {},
   "source": [
    "## Using TensorFlow to Train RNNs"
   ]
  },
  {
   "cell_type": "code",
   "execution_count": 15,
   "metadata": {
    "collapsed": true
   },
   "outputs": [],
   "source": [
    "import tensorflow as tf"
   ]
  },
  {
   "cell_type": "code",
   "execution_count": 16,
   "metadata": {
    "collapsed": false
   },
   "outputs": [],
   "source": [
    "bitcoin_data = bitcoin_data.set_index('Date')"
   ]
  },
  {
   "cell_type": "code",
   "execution_count": 17,
   "metadata": {
    "collapsed": false
   },
   "outputs": [
    {
     "name": "stdout",
     "output_type": "stream",
     "text": [
      "<class 'pandas.core.frame.DataFrame'>\n",
      "DatetimeIndex: 2152 entries, 2012-02-02 to 2018-01-09\n",
      "Data columns (total 6 columns):\n",
      "Price       2152 non-null float64\n",
      "Open        2152 non-null float64\n",
      "High        2152 non-null float64\n",
      "Low         2152 non-null float64\n",
      "Vol.        2152 non-null object\n",
      "Change %    2152 non-null float64\n",
      "dtypes: float64(5), object(1)\n",
      "memory usage: 117.7+ KB\n"
     ]
    }
   ],
   "source": [
    "bitcoin_data.info()"
   ]
  },
  {
   "cell_type": "code",
   "execution_count": 18,
   "metadata": {
    "collapsed": true
   },
   "outputs": [],
   "source": [
    "train_data_price = bitcoin_data['Price'].iloc[:-120] # We give the model about 5 years and 8 months of training data\n",
    "# Everything except the last 4 months of data is used for training\n",
    "test_data_price = bitcoin_data['Price'].tail(120) "
   ]
  },
  {
   "cell_type": "markdown",
   "metadata": {},
   "source": [
    "### Scaling the Data\n",
    "In order to train a neural network on this data, it is a good idea to scale it first."
   ]
  },
  {
   "cell_type": "code",
   "execution_count": 19,
   "metadata": {
    "collapsed": true
   },
   "outputs": [],
   "source": [
    "from sklearn.preprocessing import MinMaxScaler"
   ]
  },
  {
   "cell_type": "code",
   "execution_count": 20,
   "metadata": {
    "collapsed": true
   },
   "outputs": [],
   "source": [
    "scaler = MinMaxScaler()"
   ]
  },
  {
   "cell_type": "code",
   "execution_count": 21,
   "metadata": {
    "collapsed": false
   },
   "outputs": [
    {
     "name": "stderr",
     "output_type": "stream",
     "text": [
      "//anaconda/lib/python3.5/site-packages/sklearn/preprocessing/data.py:321: DeprecationWarning: Passing 1d arrays as data is deprecated in 0.17 and will raise ValueError in 0.19. Reshape your data either using X.reshape(-1, 1) if your data has a single feature or X.reshape(1, -1) if it contains a single sample.\n",
      "  warnings.warn(DEPRECATION_MSG_1D, DeprecationWarning)\n",
      "//anaconda/lib/python3.5/site-packages/sklearn/preprocessing/data.py:356: DeprecationWarning: Passing 1d arrays as data is deprecated in 0.17 and will raise ValueError in 0.19. Reshape your data either using X.reshape(-1, 1) if your data has a single feature or X.reshape(1, -1) if it contains a single sample.\n",
      "  warnings.warn(DEPRECATION_MSG_1D, DeprecationWarning)\n",
      "//anaconda/lib/python3.5/site-packages/sklearn/preprocessing/data.py:356: DeprecationWarning: Passing 1d arrays as data is deprecated in 0.17 and will raise ValueError in 0.19. Reshape your data either using X.reshape(-1, 1) if your data has a single feature or X.reshape(1, -1) if it contains a single sample.\n",
      "  warnings.warn(DEPRECATION_MSG_1D, DeprecationWarning)\n"
     ]
    }
   ],
   "source": [
    "train_data_price_scaled = scaler.fit_transform(train_data_price)\n",
    "test_data_price_scaled = scaler.transform(test_data_price)"
   ]
  },
  {
   "cell_type": "markdown",
   "metadata": {},
   "source": [
    "## Setting Up Our RNN Model"
   ]
  },
  {
   "cell_type": "markdown",
   "metadata": {},
   "source": [
    "### Defining a function for selecting batches"
   ]
  },
  {
   "cell_type": "code",
   "execution_count": 22,
   "metadata": {
    "collapsed": true
   },
   "outputs": [],
   "source": [
    "def next_batch(training_data,batch_size,steps):\n",
    "    \"\"\"\n",
    "    INPUT: Data, Batch Size, Time Steps per batch\n",
    "    OUTPUT: A tuple of y time series results. y[:,:-1] and y[:,1:]\n",
    "    \"\"\"\n",
    "    \n",
    "    # STEP 1: Use np.random.randint to set a random starting point index for the batch.\n",
    "    start = np.random.randint(0, len(training_data)-steps)\n",
    "    \n",
    "    # STEP 2: Now that you have a starting index you'll need to index the data from\n",
    "    # the random start to random start + steps + 1. Then reshape this data to be (1,steps+1)\n",
    "    y_batch = np.array(training_data[start:start + steps + 1]).reshape(1, steps+1)\n",
    "    \n",
    "    # STEP 3: Return the batches. You'll have two batches to return y[:,:-1] and y[:,1:]\n",
    "    # We need to reshape these into tensors for the RNN to .reshape(-1,steps,1)\n",
    "    return y_batch[:,:-1].reshape(-1, steps, 1), y_batch[:,1:].reshape(-1, steps, 1)"
   ]
  },
  {
   "cell_type": "code",
   "execution_count": 23,
   "metadata": {
    "collapsed": true
   },
   "outputs": [],
   "source": [
    "# Constants corresponding to hyperparameters for neural network\n",
    "\n",
    "num_inputs = 1\n",
    "\n",
    "num_time_steps = 30\n",
    "\n",
    "num_neurons = 100\n",
    "\n",
    "num_outputs = 1\n",
    "\n",
    "learning_rate = 0.001\n",
    "\n",
    "num_epochs = 4000\n",
    "\n",
    "batch_size = 1"
   ]
  },
  {
   "cell_type": "code",
   "execution_count": 24,
   "metadata": {
    "collapsed": true
   },
   "outputs": [],
   "source": [
    "X = tf.placeholder(tf.float32, shape=[None, num_time_steps,num_inputs])\n",
    "y = tf.placeholder(tf.float32, shape=[None, num_time_steps,num_outputs])"
   ]
  },
  {
   "cell_type": "code",
   "execution_count": 25,
   "metadata": {
    "collapsed": true
   },
   "outputs": [],
   "source": [
    "cell = tf.contrib.rnn.OutputProjectionWrapper(\n",
    "    tf.contrib.rnn.BasicLSTMCell(num_units=num_neurons, activation=tf.nn.relu),\n",
    "    output_size=num_outputs)  # An RNN cell with 100 neurons"
   ]
  },
  {
   "cell_type": "code",
   "execution_count": 26,
   "metadata": {
    "collapsed": false
   },
   "outputs": [],
   "source": [
    "outputs, states = tf.nn.dynamic_rnn(cell, X, dtype=tf.float32)  # This keeps track of outputs and states for us"
   ]
  },
  {
   "cell_type": "code",
   "execution_count": 27,
   "metadata": {
    "collapsed": true
   },
   "outputs": [],
   "source": [
    "loss = tf.reduce_mean(tf.square(outputs - y))  # MSE Loss Function\n",
    "optimizer = tf.train.AdamOptimizer(learning_rate=learning_rate) # Adam Optimizer that gradually slows learning rate\n",
    "train = optimizer.minimize(loss) # the train operation minimizes the loss function"
   ]
  },
  {
   "cell_type": "code",
   "execution_count": 28,
   "metadata": {
    "collapsed": true
   },
   "outputs": [],
   "source": [
    "init = tf.global_variables_initializer()"
   ]
  },
  {
   "cell_type": "code",
   "execution_count": 29,
   "metadata": {
    "collapsed": true
   },
   "outputs": [],
   "source": [
    "saver = tf.train.Saver()"
   ]
  },
  {
   "cell_type": "code",
   "execution_count": 30,
   "metadata": {
    "collapsed": false
   },
   "outputs": [
    {
     "name": "stdout",
     "output_type": "stream",
     "text": [
      "0 \tMSE: 0.00695845\n",
      "100 \tMSE: 0.000778758\n",
      "200 \tMSE: 0.000404992\n",
      "300 \tMSE: 0.00050362\n",
      "400 \tMSE: 6.92049e-05\n",
      "500 \tMSE: 0.00993465\n",
      "600 \tMSE: 0.000280407\n",
      "700 \tMSE: 0.000121043\n",
      "800 \tMSE: 0.000746391\n",
      "900 \tMSE: 0.000156112\n",
      "1000 \tMSE: 0.00023657\n",
      "1100 \tMSE: 0.000260289\n",
      "1200 \tMSE: 0.00018157\n",
      "1300 \tMSE: 6.62875e-05\n",
      "1400 \tMSE: 3.58755e-05\n",
      "1500 \tMSE: 0.000157876\n",
      "1600 \tMSE: 5.64284e-05\n",
      "1700 \tMSE: 8.06794e-06\n",
      "1800 \tMSE: 0.000404582\n",
      "1900 \tMSE: 1.87224e-05\n",
      "2000 \tMSE: 8.46358e-05\n",
      "2100 \tMSE: 1.79719e-05\n",
      "2200 \tMSE: 2.09204e-05\n",
      "2300 \tMSE: 4.79661e-05\n",
      "2400 \tMSE: 6.13023e-05\n",
      "2500 \tMSE: 7.56025e-05\n",
      "2600 \tMSE: 1.28914e-05\n",
      "2700 \tMSE: 1.16685e-05\n",
      "2800 \tMSE: 9.16617e-05\n",
      "2900 \tMSE: 3.15184e-05\n",
      "3000 \tMSE: 6.03839e-05\n",
      "3100 \tMSE: 0.000135908\n",
      "3200 \tMSE: 3.28077e-05\n",
      "3300 \tMSE: 1.65613e-06\n",
      "3400 \tMSE: 1.55093e-05\n",
      "3500 \tMSE: 7.24856e-05\n",
      "3600 \tMSE: 9.67219e-05\n",
      "3700 \tMSE: 1.32809e-05\n",
      "3800 \tMSE: 4.87805e-05\n",
      "3900 \tMSE: 1.00028e-05\n"
     ]
    }
   ],
   "source": [
    "with tf.Session() as sess:\n",
    "    \n",
    "    sess.run(init) # Initializes variables\n",
    "    \n",
    "    for epoch in range(num_epochs):\n",
    "        \n",
    "        X_batch, y_batch = next_batch(train_data_price_scaled, batch_size, num_time_steps) # Generates a random batch\n",
    "        sess.run(train, feed_dict={X: X_batch, y: y_batch}) # Trains on the data from batch\n",
    "        \n",
    "        if epoch % 100 == 0: # Every 100 epochs \n",
    "            \n",
    "            mse = loss.eval(feed_dict={X: X_batch, y: y_batch})\n",
    "            print(epoch, \"\\tMSE:\", mse)\n",
    "        \n",
    "        saver.save(sess, \"./bitcoin_price_model\")"
   ]
  },
  {
   "cell_type": "code",
   "execution_count": 33,
   "metadata": {
    "collapsed": false
   },
   "outputs": [
    {
     "name": "stdout",
     "output_type": "stream",
     "text": [
      "INFO:tensorflow:Restoring parameters from ./bitcoin_price_model\n",
      "4000 \tMSE: 2.97187e-05\n",
      "4100 \tMSE: 7.11961e-06\n",
      "4200 \tMSE: 3.4838e-05\n",
      "4300 \tMSE: 1.0455e-05\n",
      "4400 \tMSE: 0.000110177\n",
      "4500 \tMSE: 4.49945e-07\n",
      "4600 \tMSE: 0.00104013\n",
      "4700 \tMSE: 0.000771948\n",
      "4800 \tMSE: 5.04017e-07\n",
      "4900 \tMSE: 0.00102343\n",
      "5000 \tMSE: 3.62853e-05\n",
      "5100 \tMSE: 3.93139e-05\n",
      "5200 \tMSE: 3.2841e-05\n",
      "5300 \tMSE: 1.0205e-05\n",
      "5400 \tMSE: 1.01601e-05\n",
      "5500 \tMSE: 2.85234e-05\n",
      "5600 \tMSE: 4.62422e-05\n",
      "5700 \tMSE: 6.73774e-07\n",
      "5800 \tMSE: 3.35812e-05\n",
      "5900 \tMSE: 5.85883e-06\n",
      "6000 \tMSE: 1.1912e-06\n",
      "6100 \tMSE: 1.07122e-06\n",
      "6200 \tMSE: 6.07615e-06\n",
      "6300 \tMSE: 9.56687e-05\n",
      "6400 \tMSE: 1.42599e-05\n",
      "6500 \tMSE: 1.10745e-05\n",
      "6600 \tMSE: 0.000880759\n",
      "6700 \tMSE: 0.000284453\n",
      "6800 \tMSE: 1.11249e-05\n",
      "6900 \tMSE: 7.52368e-07\n",
      "7000 \tMSE: 5.26416e-06\n",
      "7100 \tMSE: 0.000202085\n",
      "7200 \tMSE: 2.30181e-06\n",
      "7300 \tMSE: 5.00633e-06\n",
      "7400 \tMSE: 7.2738e-06\n",
      "7500 \tMSE: 6.09811e-06\n",
      "7600 \tMSE: 3.40994e-06\n",
      "7700 \tMSE: 1.69732e-05\n",
      "7800 \tMSE: 9.13865e-06\n",
      "7900 \tMSE: 3.63896e-06\n",
      "8000 \tMSE: 2.25709e-05\n",
      "8100 \tMSE: 5.51257e-06\n",
      "8200 \tMSE: 4.74764e-06\n",
      "8300 \tMSE: 2.37693e-06\n",
      "8400 \tMSE: 1.38291e-05\n",
      "8500 \tMSE: 4.0657e-07\n",
      "8600 \tMSE: 3.80441e-05\n",
      "8700 \tMSE: 8.45631e-05\n",
      "8800 \tMSE: 2.58963e-05\n",
      "8900 \tMSE: 3.5356e-05\n",
      "9000 \tMSE: 1.83558e-05\n",
      "9100 \tMSE: 2.90557e-05\n",
      "9200 \tMSE: 5.21091e-05\n",
      "9300 \tMSE: 0.000108963\n",
      "9400 \tMSE: 6.47048e-06\n",
      "9500 \tMSE: 1.71967e-05\n",
      "9600 \tMSE: 2.38604e-05\n",
      "9700 \tMSE: 1.33777e-05\n",
      "9800 \tMSE: 5.98441e-05\n",
      "9900 \tMSE: 3.48997e-06\n"
     ]
    }
   ],
   "source": [
    "with tf.Session() as sess:\n",
    "    \n",
    "    saver.restore(sess, \"./bitcoin_price_model\")\n",
    "    \n",
    "    start_epochs = 7000\n",
    "    more_epochs = 10000\n",
    "    \n",
    "    for epoch in range(num_epochs, more_epochs):\n",
    "        \n",
    "        X_batch, y_batch = next_batch(train_data_price_scaled, batch_size, num_time_steps) # Generates a random batch\n",
    "        sess.run(train, feed_dict={X: X_batch, y: y_batch}) # Trains on the data from batch\n",
    "        \n",
    "        if epoch % 100 == 0: # Every 100 epochs \n",
    "        \n",
    "            mse = loss.eval(feed_dict={X: X_batch, y: y_batch})\n",
    "            print(epoch, \"\\tMSE:\", mse)\n",
    "        \n",
    "    saver.save(sess, \"./bitcoin_price_model\")"
   ]
  },
  {
   "cell_type": "code",
   "execution_count": 30,
   "metadata": {
    "collapsed": false
   },
   "outputs": [
    {
     "name": "stdout",
     "output_type": "stream",
     "text": [
      "INFO:tensorflow:Restoring parameters from ./bitcoin_price_model\n"
     ]
    }
   ],
   "source": [
    "with tf.Session() as sess:\n",
    "    \n",
    "    saver.restore(sess, \"./bitcoin_price_model\")\n",
    "    \n",
    "    train_seed = list(train_data_price_scaled[-30:]) # Use the last 30 days of bitcoin price data\n",
    "    \n",
    "    for iteration in range(120):\n",
    "        X_batch = np.array(train_seed[-num_time_steps:]).reshape(1, num_time_steps, 1)\n",
    "        y_pred = sess.run(outputs, feed_dict={X: X_batch})\n",
    "        train_seed.append(y_pred[0, -1, 0])"
   ]
  },
  {
   "cell_type": "code",
   "execution_count": 31,
   "metadata": {
    "collapsed": false
   },
   "outputs": [],
   "source": [
    "results = scaler.inverse_transform(np.array(train_seed[30:]).reshape(120,1))"
   ]
  },
  {
   "cell_type": "code",
   "execution_count": 32,
   "metadata": {
    "collapsed": false
   },
   "outputs": [
    {
     "data": {
      "text/plain": [
       "Date\n",
       "2017-09-12     4142.90\n",
       "2017-09-13     3849.70\n",
       "2017-09-14     3238.10\n",
       "2017-09-15     3698.00\n",
       "2017-09-16     3685.40\n",
       "2017-09-17     3666.30\n",
       "2017-09-18     4084.10\n",
       "2017-09-19     3900.00\n",
       "2017-09-20     3873.20\n",
       "2017-09-21     3603.40\n",
       "2017-09-22     3598.50\n",
       "2017-09-23     3779.60\n",
       "2017-09-24     3652.80\n",
       "2017-09-25     3930.00\n",
       "2017-09-26     3879.10\n",
       "2017-09-27     4205.40\n",
       "2017-09-28     4190.00\n",
       "2017-09-29     4169.90\n",
       "2017-09-30     4367.00\n",
       "2017-10-01     4404.30\n",
       "2017-10-02     4400.10\n",
       "2017-10-03     4311.10\n",
       "2017-10-04     4215.10\n",
       "2017-10-05     4315.40\n",
       "2017-10-06     4371.00\n",
       "2017-10-07     4436.00\n",
       "2017-10-08     4613.10\n",
       "2017-10-09     4782.30\n",
       "2017-10-10     4777.00\n",
       "2017-10-11     4824.90\n",
       "                ...   \n",
       "2017-12-11    16754.00\n",
       "2017-12-12    16967.00\n",
       "2017-12-13    16181.00\n",
       "2017-12-14    16383.00\n",
       "2017-12-15    17522.00\n",
       "2017-12-16    19187.00\n",
       "2017-12-17    18971.00\n",
       "2017-12-18    18934.00\n",
       "2017-12-19    17345.00\n",
       "2017-12-20    16425.00\n",
       "2017-12-21    15666.83\n",
       "2017-12-22    13170.00\n",
       "2017-12-23    14035.00\n",
       "2017-12-24    13476.00\n",
       "2017-12-25    13623.00\n",
       "2017-12-26    15679.00\n",
       "2017-12-27    15374.00\n",
       "2017-12-28    14315.00\n",
       "2017-12-29    14317.00\n",
       "2017-12-30    12377.00\n",
       "2017-12-31    13800.00\n",
       "2018-01-01    13354.00\n",
       "2018-01-02    14709.82\n",
       "2018-01-03    15155.00\n",
       "2018-01-04    15160.00\n",
       "2018-01-05    16917.00\n",
       "2018-01-06    17161.00\n",
       "2018-01-07    16196.00\n",
       "2018-01-08    14930.00\n",
       "2018-01-09    14423.00\n",
       "Name: Price, dtype: float64"
      ]
     },
     "execution_count": 32,
     "metadata": {},
     "output_type": "execute_result"
    }
   ],
   "source": [
    "test_data_price"
   ]
  },
  {
   "cell_type": "code",
   "execution_count": 33,
   "metadata": {
    "collapsed": true
   },
   "outputs": [],
   "source": [
    "test_data_price['Predictions'] = results"
   ]
  },
  {
   "cell_type": "code",
   "execution_count": 34,
   "metadata": {
    "collapsed": false
   },
   "outputs": [
    {
     "data": {
      "text/plain": [
       "(120, 1)"
      ]
     },
     "execution_count": 34,
     "metadata": {},
     "output_type": "execute_result"
    }
   ],
   "source": [
    "results.shape"
   ]
  },
  {
   "cell_type": "code",
   "execution_count": 35,
   "metadata": {
    "collapsed": false
   },
   "outputs": [],
   "source": [
    "test_data_price_pred = pd.DataFrame({'Date': test_data_price.index})"
   ]
  },
  {
   "cell_type": "code",
   "execution_count": 41,
   "metadata": {
    "collapsed": false
   },
   "outputs": [],
   "source": [
    "test_data_price_pred['Price'] = test_data_price.values"
   ]
  },
  {
   "cell_type": "code",
   "execution_count": 42,
   "metadata": {
    "collapsed": false
   },
   "outputs": [
    {
     "data": {
      "text/html": [
       "<div>\n",
       "<table border=\"1\" class=\"dataframe\">\n",
       "  <thead>\n",
       "    <tr style=\"text-align: right;\">\n",
       "      <th></th>\n",
       "      <th>Date</th>\n",
       "      <th>Price</th>\n",
       "    </tr>\n",
       "  </thead>\n",
       "  <tbody>\n",
       "    <tr>\n",
       "      <th>0</th>\n",
       "      <td>2017-09-12 00:00:00</td>\n",
       "      <td>4142.9</td>\n",
       "    </tr>\n",
       "    <tr>\n",
       "      <th>1</th>\n",
       "      <td>2017-09-13 00:00:00</td>\n",
       "      <td>3849.7</td>\n",
       "    </tr>\n",
       "    <tr>\n",
       "      <th>2</th>\n",
       "      <td>2017-09-14 00:00:00</td>\n",
       "      <td>3238.1</td>\n",
       "    </tr>\n",
       "    <tr>\n",
       "      <th>3</th>\n",
       "      <td>2017-09-15 00:00:00</td>\n",
       "      <td>3698</td>\n",
       "    </tr>\n",
       "    <tr>\n",
       "      <th>4</th>\n",
       "      <td>2017-09-16 00:00:00</td>\n",
       "      <td>3685.4</td>\n",
       "    </tr>\n",
       "    <tr>\n",
       "      <th>5</th>\n",
       "      <td>2017-09-17 00:00:00</td>\n",
       "      <td>3666.3</td>\n",
       "    </tr>\n",
       "    <tr>\n",
       "      <th>6</th>\n",
       "      <td>2017-09-18 00:00:00</td>\n",
       "      <td>4084.1</td>\n",
       "    </tr>\n",
       "    <tr>\n",
       "      <th>7</th>\n",
       "      <td>2017-09-19 00:00:00</td>\n",
       "      <td>3900</td>\n",
       "    </tr>\n",
       "    <tr>\n",
       "      <th>8</th>\n",
       "      <td>2017-09-20 00:00:00</td>\n",
       "      <td>3873.2</td>\n",
       "    </tr>\n",
       "    <tr>\n",
       "      <th>9</th>\n",
       "      <td>2017-09-21 00:00:00</td>\n",
       "      <td>3603.4</td>\n",
       "    </tr>\n",
       "    <tr>\n",
       "      <th>10</th>\n",
       "      <td>2017-09-22 00:00:00</td>\n",
       "      <td>3598.5</td>\n",
       "    </tr>\n",
       "    <tr>\n",
       "      <th>11</th>\n",
       "      <td>2017-09-23 00:00:00</td>\n",
       "      <td>3779.6</td>\n",
       "    </tr>\n",
       "    <tr>\n",
       "      <th>12</th>\n",
       "      <td>2017-09-24 00:00:00</td>\n",
       "      <td>3652.8</td>\n",
       "    </tr>\n",
       "    <tr>\n",
       "      <th>13</th>\n",
       "      <td>2017-09-25 00:00:00</td>\n",
       "      <td>3930</td>\n",
       "    </tr>\n",
       "    <tr>\n",
       "      <th>14</th>\n",
       "      <td>2017-09-26 00:00:00</td>\n",
       "      <td>3879.1</td>\n",
       "    </tr>\n",
       "    <tr>\n",
       "      <th>15</th>\n",
       "      <td>2017-09-27 00:00:00</td>\n",
       "      <td>4205.4</td>\n",
       "    </tr>\n",
       "    <tr>\n",
       "      <th>16</th>\n",
       "      <td>2017-09-28 00:00:00</td>\n",
       "      <td>4190</td>\n",
       "    </tr>\n",
       "    <tr>\n",
       "      <th>17</th>\n",
       "      <td>2017-09-29 00:00:00</td>\n",
       "      <td>4169.9</td>\n",
       "    </tr>\n",
       "    <tr>\n",
       "      <th>18</th>\n",
       "      <td>2017-09-30 00:00:00</td>\n",
       "      <td>4367</td>\n",
       "    </tr>\n",
       "    <tr>\n",
       "      <th>19</th>\n",
       "      <td>2017-10-01 00:00:00</td>\n",
       "      <td>4404.3</td>\n",
       "    </tr>\n",
       "    <tr>\n",
       "      <th>20</th>\n",
       "      <td>2017-10-02 00:00:00</td>\n",
       "      <td>4400.1</td>\n",
       "    </tr>\n",
       "    <tr>\n",
       "      <th>21</th>\n",
       "      <td>2017-10-03 00:00:00</td>\n",
       "      <td>4311.1</td>\n",
       "    </tr>\n",
       "    <tr>\n",
       "      <th>22</th>\n",
       "      <td>2017-10-04 00:00:00</td>\n",
       "      <td>4215.1</td>\n",
       "    </tr>\n",
       "    <tr>\n",
       "      <th>23</th>\n",
       "      <td>2017-10-05 00:00:00</td>\n",
       "      <td>4315.4</td>\n",
       "    </tr>\n",
       "    <tr>\n",
       "      <th>24</th>\n",
       "      <td>2017-10-06 00:00:00</td>\n",
       "      <td>4371</td>\n",
       "    </tr>\n",
       "    <tr>\n",
       "      <th>25</th>\n",
       "      <td>2017-10-07 00:00:00</td>\n",
       "      <td>4436</td>\n",
       "    </tr>\n",
       "    <tr>\n",
       "      <th>26</th>\n",
       "      <td>2017-10-08 00:00:00</td>\n",
       "      <td>4613.1</td>\n",
       "    </tr>\n",
       "    <tr>\n",
       "      <th>27</th>\n",
       "      <td>2017-10-09 00:00:00</td>\n",
       "      <td>4782.3</td>\n",
       "    </tr>\n",
       "    <tr>\n",
       "      <th>28</th>\n",
       "      <td>2017-10-10 00:00:00</td>\n",
       "      <td>4777</td>\n",
       "    </tr>\n",
       "    <tr>\n",
       "      <th>29</th>\n",
       "      <td>2017-10-11 00:00:00</td>\n",
       "      <td>4824.9</td>\n",
       "    </tr>\n",
       "    <tr>\n",
       "      <th>...</th>\n",
       "      <td>...</td>\n",
       "      <td>...</td>\n",
       "    </tr>\n",
       "    <tr>\n",
       "      <th>91</th>\n",
       "      <td>2017-12-12 00:00:00</td>\n",
       "      <td>16967</td>\n",
       "    </tr>\n",
       "    <tr>\n",
       "      <th>92</th>\n",
       "      <td>2017-12-13 00:00:00</td>\n",
       "      <td>16181</td>\n",
       "    </tr>\n",
       "    <tr>\n",
       "      <th>93</th>\n",
       "      <td>2017-12-14 00:00:00</td>\n",
       "      <td>16383</td>\n",
       "    </tr>\n",
       "    <tr>\n",
       "      <th>94</th>\n",
       "      <td>2017-12-15 00:00:00</td>\n",
       "      <td>17522</td>\n",
       "    </tr>\n",
       "    <tr>\n",
       "      <th>95</th>\n",
       "      <td>2017-12-16 00:00:00</td>\n",
       "      <td>19187</td>\n",
       "    </tr>\n",
       "    <tr>\n",
       "      <th>96</th>\n",
       "      <td>2017-12-17 00:00:00</td>\n",
       "      <td>18971</td>\n",
       "    </tr>\n",
       "    <tr>\n",
       "      <th>97</th>\n",
       "      <td>2017-12-18 00:00:00</td>\n",
       "      <td>18934</td>\n",
       "    </tr>\n",
       "    <tr>\n",
       "      <th>98</th>\n",
       "      <td>2017-12-19 00:00:00</td>\n",
       "      <td>17345</td>\n",
       "    </tr>\n",
       "    <tr>\n",
       "      <th>99</th>\n",
       "      <td>2017-12-20 00:00:00</td>\n",
       "      <td>16425</td>\n",
       "    </tr>\n",
       "    <tr>\n",
       "      <th>100</th>\n",
       "      <td>2017-12-21 00:00:00</td>\n",
       "      <td>15666.8</td>\n",
       "    </tr>\n",
       "    <tr>\n",
       "      <th>101</th>\n",
       "      <td>2017-12-22 00:00:00</td>\n",
       "      <td>13170</td>\n",
       "    </tr>\n",
       "    <tr>\n",
       "      <th>102</th>\n",
       "      <td>2017-12-23 00:00:00</td>\n",
       "      <td>14035</td>\n",
       "    </tr>\n",
       "    <tr>\n",
       "      <th>103</th>\n",
       "      <td>2017-12-24 00:00:00</td>\n",
       "      <td>13476</td>\n",
       "    </tr>\n",
       "    <tr>\n",
       "      <th>104</th>\n",
       "      <td>2017-12-25 00:00:00</td>\n",
       "      <td>13623</td>\n",
       "    </tr>\n",
       "    <tr>\n",
       "      <th>105</th>\n",
       "      <td>2017-12-26 00:00:00</td>\n",
       "      <td>15679</td>\n",
       "    </tr>\n",
       "    <tr>\n",
       "      <th>106</th>\n",
       "      <td>2017-12-27 00:00:00</td>\n",
       "      <td>15374</td>\n",
       "    </tr>\n",
       "    <tr>\n",
       "      <th>107</th>\n",
       "      <td>2017-12-28 00:00:00</td>\n",
       "      <td>14315</td>\n",
       "    </tr>\n",
       "    <tr>\n",
       "      <th>108</th>\n",
       "      <td>2017-12-29 00:00:00</td>\n",
       "      <td>14317</td>\n",
       "    </tr>\n",
       "    <tr>\n",
       "      <th>109</th>\n",
       "      <td>2017-12-30 00:00:00</td>\n",
       "      <td>12377</td>\n",
       "    </tr>\n",
       "    <tr>\n",
       "      <th>110</th>\n",
       "      <td>2017-12-31 00:00:00</td>\n",
       "      <td>13800</td>\n",
       "    </tr>\n",
       "    <tr>\n",
       "      <th>111</th>\n",
       "      <td>2018-01-01 00:00:00</td>\n",
       "      <td>13354</td>\n",
       "    </tr>\n",
       "    <tr>\n",
       "      <th>112</th>\n",
       "      <td>2018-01-02 00:00:00</td>\n",
       "      <td>14709.8</td>\n",
       "    </tr>\n",
       "    <tr>\n",
       "      <th>113</th>\n",
       "      <td>2018-01-03 00:00:00</td>\n",
       "      <td>15155</td>\n",
       "    </tr>\n",
       "    <tr>\n",
       "      <th>114</th>\n",
       "      <td>2018-01-04 00:00:00</td>\n",
       "      <td>15160</td>\n",
       "    </tr>\n",
       "    <tr>\n",
       "      <th>115</th>\n",
       "      <td>2018-01-05 00:00:00</td>\n",
       "      <td>16917</td>\n",
       "    </tr>\n",
       "    <tr>\n",
       "      <th>116</th>\n",
       "      <td>2018-01-06 00:00:00</td>\n",
       "      <td>17161</td>\n",
       "    </tr>\n",
       "    <tr>\n",
       "      <th>117</th>\n",
       "      <td>2018-01-07 00:00:00</td>\n",
       "      <td>16196</td>\n",
       "    </tr>\n",
       "    <tr>\n",
       "      <th>118</th>\n",
       "      <td>2018-01-08 00:00:00</td>\n",
       "      <td>14930</td>\n",
       "    </tr>\n",
       "    <tr>\n",
       "      <th>119</th>\n",
       "      <td>2018-01-09 00:00:00</td>\n",
       "      <td>14423</td>\n",
       "    </tr>\n",
       "    <tr>\n",
       "      <th>120</th>\n",
       "      <td>Predictions</td>\n",
       "      <td>[[4244.85], [4283.48], [4321.4], [4356.36], [4...</td>\n",
       "    </tr>\n",
       "  </tbody>\n",
       "</table>\n",
       "<p>121 rows × 2 columns</p>\n",
       "</div>"
      ],
      "text/plain": [
       "                    Date                                              Price\n",
       "0    2017-09-12 00:00:00                                             4142.9\n",
       "1    2017-09-13 00:00:00                                             3849.7\n",
       "2    2017-09-14 00:00:00                                             3238.1\n",
       "3    2017-09-15 00:00:00                                               3698\n",
       "4    2017-09-16 00:00:00                                             3685.4\n",
       "5    2017-09-17 00:00:00                                             3666.3\n",
       "6    2017-09-18 00:00:00                                             4084.1\n",
       "7    2017-09-19 00:00:00                                               3900\n",
       "8    2017-09-20 00:00:00                                             3873.2\n",
       "9    2017-09-21 00:00:00                                             3603.4\n",
       "10   2017-09-22 00:00:00                                             3598.5\n",
       "11   2017-09-23 00:00:00                                             3779.6\n",
       "12   2017-09-24 00:00:00                                             3652.8\n",
       "13   2017-09-25 00:00:00                                               3930\n",
       "14   2017-09-26 00:00:00                                             3879.1\n",
       "15   2017-09-27 00:00:00                                             4205.4\n",
       "16   2017-09-28 00:00:00                                               4190\n",
       "17   2017-09-29 00:00:00                                             4169.9\n",
       "18   2017-09-30 00:00:00                                               4367\n",
       "19   2017-10-01 00:00:00                                             4404.3\n",
       "20   2017-10-02 00:00:00                                             4400.1\n",
       "21   2017-10-03 00:00:00                                             4311.1\n",
       "22   2017-10-04 00:00:00                                             4215.1\n",
       "23   2017-10-05 00:00:00                                             4315.4\n",
       "24   2017-10-06 00:00:00                                               4371\n",
       "25   2017-10-07 00:00:00                                               4436\n",
       "26   2017-10-08 00:00:00                                             4613.1\n",
       "27   2017-10-09 00:00:00                                             4782.3\n",
       "28   2017-10-10 00:00:00                                               4777\n",
       "29   2017-10-11 00:00:00                                             4824.9\n",
       "..                   ...                                                ...\n",
       "91   2017-12-12 00:00:00                                              16967\n",
       "92   2017-12-13 00:00:00                                              16181\n",
       "93   2017-12-14 00:00:00                                              16383\n",
       "94   2017-12-15 00:00:00                                              17522\n",
       "95   2017-12-16 00:00:00                                              19187\n",
       "96   2017-12-17 00:00:00                                              18971\n",
       "97   2017-12-18 00:00:00                                              18934\n",
       "98   2017-12-19 00:00:00                                              17345\n",
       "99   2017-12-20 00:00:00                                              16425\n",
       "100  2017-12-21 00:00:00                                            15666.8\n",
       "101  2017-12-22 00:00:00                                              13170\n",
       "102  2017-12-23 00:00:00                                              14035\n",
       "103  2017-12-24 00:00:00                                              13476\n",
       "104  2017-12-25 00:00:00                                              13623\n",
       "105  2017-12-26 00:00:00                                              15679\n",
       "106  2017-12-27 00:00:00                                              15374\n",
       "107  2017-12-28 00:00:00                                              14315\n",
       "108  2017-12-29 00:00:00                                              14317\n",
       "109  2017-12-30 00:00:00                                              12377\n",
       "110  2017-12-31 00:00:00                                              13800\n",
       "111  2018-01-01 00:00:00                                              13354\n",
       "112  2018-01-02 00:00:00                                            14709.8\n",
       "113  2018-01-03 00:00:00                                              15155\n",
       "114  2018-01-04 00:00:00                                              15160\n",
       "115  2018-01-05 00:00:00                                              16917\n",
       "116  2018-01-06 00:00:00                                              17161\n",
       "117  2018-01-07 00:00:00                                              16196\n",
       "118  2018-01-08 00:00:00                                              14930\n",
       "119  2018-01-09 00:00:00                                              14423\n",
       "120          Predictions  [[4244.85], [4283.48], [4321.4], [4356.36], [4...\n",
       "\n",
       "[121 rows x 2 columns]"
      ]
     },
     "execution_count": 42,
     "metadata": {},
     "output_type": "execute_result"
    }
   ],
   "source": [
    "test_data_price_pred"
   ]
  },
  {
   "cell_type": "code",
   "execution_count": 46,
   "metadata": {
    "collapsed": false
   },
   "outputs": [],
   "source": [
    "test_data_price_pred.drop([120], inplace = True)"
   ]
  },
  {
   "cell_type": "code",
   "execution_count": 47,
   "metadata": {
    "collapsed": false
   },
   "outputs": [],
   "source": [
    "test_data_price_pred['Prediction'] = results"
   ]
  },
  {
   "cell_type": "code",
   "execution_count": 48,
   "metadata": {
    "collapsed": false
   },
   "outputs": [
    {
     "data": {
      "text/html": [
       "<div>\n",
       "<table border=\"1\" class=\"dataframe\">\n",
       "  <thead>\n",
       "    <tr style=\"text-align: right;\">\n",
       "      <th></th>\n",
       "      <th>Date</th>\n",
       "      <th>Price</th>\n",
       "      <th>Prediction</th>\n",
       "    </tr>\n",
       "  </thead>\n",
       "  <tbody>\n",
       "    <tr>\n",
       "      <th>0</th>\n",
       "      <td>2017-09-12 00:00:00</td>\n",
       "      <td>4142.9</td>\n",
       "      <td>4244.849121</td>\n",
       "    </tr>\n",
       "    <tr>\n",
       "      <th>1</th>\n",
       "      <td>2017-09-13 00:00:00</td>\n",
       "      <td>3849.7</td>\n",
       "      <td>4283.475586</td>\n",
       "    </tr>\n",
       "    <tr>\n",
       "      <th>2</th>\n",
       "      <td>2017-09-14 00:00:00</td>\n",
       "      <td>3238.1</td>\n",
       "      <td>4321.395020</td>\n",
       "    </tr>\n",
       "    <tr>\n",
       "      <th>3</th>\n",
       "      <td>2017-09-15 00:00:00</td>\n",
       "      <td>3698</td>\n",
       "      <td>4356.364746</td>\n",
       "    </tr>\n",
       "    <tr>\n",
       "      <th>4</th>\n",
       "      <td>2017-09-16 00:00:00</td>\n",
       "      <td>3685.4</td>\n",
       "      <td>4387.985352</td>\n",
       "    </tr>\n",
       "    <tr>\n",
       "      <th>5</th>\n",
       "      <td>2017-09-17 00:00:00</td>\n",
       "      <td>3666.3</td>\n",
       "      <td>4416.491699</td>\n",
       "    </tr>\n",
       "    <tr>\n",
       "      <th>6</th>\n",
       "      <td>2017-09-18 00:00:00</td>\n",
       "      <td>4084.1</td>\n",
       "      <td>4442.249023</td>\n",
       "    </tr>\n",
       "    <tr>\n",
       "      <th>7</th>\n",
       "      <td>2017-09-19 00:00:00</td>\n",
       "      <td>3900</td>\n",
       "      <td>4465.598145</td>\n",
       "    </tr>\n",
       "    <tr>\n",
       "      <th>8</th>\n",
       "      <td>2017-09-20 00:00:00</td>\n",
       "      <td>3873.2</td>\n",
       "      <td>4486.819336</td>\n",
       "    </tr>\n",
       "    <tr>\n",
       "      <th>9</th>\n",
       "      <td>2017-09-21 00:00:00</td>\n",
       "      <td>3603.4</td>\n",
       "      <td>4506.140625</td>\n",
       "    </tr>\n",
       "    <tr>\n",
       "      <th>10</th>\n",
       "      <td>2017-09-22 00:00:00</td>\n",
       "      <td>3598.5</td>\n",
       "      <td>4523.747070</td>\n",
       "    </tr>\n",
       "    <tr>\n",
       "      <th>11</th>\n",
       "      <td>2017-09-23 00:00:00</td>\n",
       "      <td>3779.6</td>\n",
       "      <td>4539.798340</td>\n",
       "    </tr>\n",
       "    <tr>\n",
       "      <th>12</th>\n",
       "      <td>2017-09-24 00:00:00</td>\n",
       "      <td>3652.8</td>\n",
       "      <td>4554.431641</td>\n",
       "    </tr>\n",
       "    <tr>\n",
       "      <th>13</th>\n",
       "      <td>2017-09-25 00:00:00</td>\n",
       "      <td>3930</td>\n",
       "      <td>4567.769531</td>\n",
       "    </tr>\n",
       "    <tr>\n",
       "      <th>14</th>\n",
       "      <td>2017-09-26 00:00:00</td>\n",
       "      <td>3879.1</td>\n",
       "      <td>4579.923828</td>\n",
       "    </tr>\n",
       "    <tr>\n",
       "      <th>15</th>\n",
       "      <td>2017-09-27 00:00:00</td>\n",
       "      <td>4205.4</td>\n",
       "      <td>4590.995605</td>\n",
       "    </tr>\n",
       "    <tr>\n",
       "      <th>16</th>\n",
       "      <td>2017-09-28 00:00:00</td>\n",
       "      <td>4190</td>\n",
       "      <td>4600.951172</td>\n",
       "    </tr>\n",
       "    <tr>\n",
       "      <th>17</th>\n",
       "      <td>2017-09-29 00:00:00</td>\n",
       "      <td>4169.9</td>\n",
       "      <td>4609.662598</td>\n",
       "    </tr>\n",
       "    <tr>\n",
       "      <th>18</th>\n",
       "      <td>2017-09-30 00:00:00</td>\n",
       "      <td>4367</td>\n",
       "      <td>4617.125977</td>\n",
       "    </tr>\n",
       "    <tr>\n",
       "      <th>19</th>\n",
       "      <td>2017-10-01 00:00:00</td>\n",
       "      <td>4404.3</td>\n",
       "      <td>4623.435059</td>\n",
       "    </tr>\n",
       "    <tr>\n",
       "      <th>20</th>\n",
       "      <td>2017-10-02 00:00:00</td>\n",
       "      <td>4400.1</td>\n",
       "      <td>4628.721191</td>\n",
       "    </tr>\n",
       "    <tr>\n",
       "      <th>21</th>\n",
       "      <td>2017-10-03 00:00:00</td>\n",
       "      <td>4311.1</td>\n",
       "      <td>4633.126465</td>\n",
       "    </tr>\n",
       "    <tr>\n",
       "      <th>22</th>\n",
       "      <td>2017-10-04 00:00:00</td>\n",
       "      <td>4215.1</td>\n",
       "      <td>4636.780273</td>\n",
       "    </tr>\n",
       "    <tr>\n",
       "      <th>23</th>\n",
       "      <td>2017-10-05 00:00:00</td>\n",
       "      <td>4315.4</td>\n",
       "      <td>4639.802734</td>\n",
       "    </tr>\n",
       "    <tr>\n",
       "      <th>24</th>\n",
       "      <td>2017-10-06 00:00:00</td>\n",
       "      <td>4371</td>\n",
       "      <td>4642.298828</td>\n",
       "    </tr>\n",
       "    <tr>\n",
       "      <th>25</th>\n",
       "      <td>2017-10-07 00:00:00</td>\n",
       "      <td>4436</td>\n",
       "      <td>4644.356934</td>\n",
       "    </tr>\n",
       "    <tr>\n",
       "      <th>26</th>\n",
       "      <td>2017-10-08 00:00:00</td>\n",
       "      <td>4613.1</td>\n",
       "      <td>4646.050293</td>\n",
       "    </tr>\n",
       "    <tr>\n",
       "      <th>27</th>\n",
       "      <td>2017-10-09 00:00:00</td>\n",
       "      <td>4782.3</td>\n",
       "      <td>4647.444336</td>\n",
       "    </tr>\n",
       "    <tr>\n",
       "      <th>28</th>\n",
       "      <td>2017-10-10 00:00:00</td>\n",
       "      <td>4777</td>\n",
       "      <td>4648.589355</td>\n",
       "    </tr>\n",
       "    <tr>\n",
       "      <th>29</th>\n",
       "      <td>2017-10-11 00:00:00</td>\n",
       "      <td>4824.9</td>\n",
       "      <td>4649.530762</td>\n",
       "    </tr>\n",
       "    <tr>\n",
       "      <th>...</th>\n",
       "      <td>...</td>\n",
       "      <td>...</td>\n",
       "      <td>...</td>\n",
       "    </tr>\n",
       "    <tr>\n",
       "      <th>90</th>\n",
       "      <td>2017-12-11 00:00:00</td>\n",
       "      <td>16754</td>\n",
       "      <td>4653.829590</td>\n",
       "    </tr>\n",
       "    <tr>\n",
       "      <th>91</th>\n",
       "      <td>2017-12-12 00:00:00</td>\n",
       "      <td>16967</td>\n",
       "      <td>4653.829590</td>\n",
       "    </tr>\n",
       "    <tr>\n",
       "      <th>92</th>\n",
       "      <td>2017-12-13 00:00:00</td>\n",
       "      <td>16181</td>\n",
       "      <td>4653.829590</td>\n",
       "    </tr>\n",
       "    <tr>\n",
       "      <th>93</th>\n",
       "      <td>2017-12-14 00:00:00</td>\n",
       "      <td>16383</td>\n",
       "      <td>4653.829590</td>\n",
       "    </tr>\n",
       "    <tr>\n",
       "      <th>94</th>\n",
       "      <td>2017-12-15 00:00:00</td>\n",
       "      <td>17522</td>\n",
       "      <td>4653.829590</td>\n",
       "    </tr>\n",
       "    <tr>\n",
       "      <th>95</th>\n",
       "      <td>2017-12-16 00:00:00</td>\n",
       "      <td>19187</td>\n",
       "      <td>4653.829590</td>\n",
       "    </tr>\n",
       "    <tr>\n",
       "      <th>96</th>\n",
       "      <td>2017-12-17 00:00:00</td>\n",
       "      <td>18971</td>\n",
       "      <td>4653.829590</td>\n",
       "    </tr>\n",
       "    <tr>\n",
       "      <th>97</th>\n",
       "      <td>2017-12-18 00:00:00</td>\n",
       "      <td>18934</td>\n",
       "      <td>4653.829590</td>\n",
       "    </tr>\n",
       "    <tr>\n",
       "      <th>98</th>\n",
       "      <td>2017-12-19 00:00:00</td>\n",
       "      <td>17345</td>\n",
       "      <td>4653.829590</td>\n",
       "    </tr>\n",
       "    <tr>\n",
       "      <th>99</th>\n",
       "      <td>2017-12-20 00:00:00</td>\n",
       "      <td>16425</td>\n",
       "      <td>4653.829590</td>\n",
       "    </tr>\n",
       "    <tr>\n",
       "      <th>100</th>\n",
       "      <td>2017-12-21 00:00:00</td>\n",
       "      <td>15666.8</td>\n",
       "      <td>4653.829590</td>\n",
       "    </tr>\n",
       "    <tr>\n",
       "      <th>101</th>\n",
       "      <td>2017-12-22 00:00:00</td>\n",
       "      <td>13170</td>\n",
       "      <td>4653.829590</td>\n",
       "    </tr>\n",
       "    <tr>\n",
       "      <th>102</th>\n",
       "      <td>2017-12-23 00:00:00</td>\n",
       "      <td>14035</td>\n",
       "      <td>4653.829590</td>\n",
       "    </tr>\n",
       "    <tr>\n",
       "      <th>103</th>\n",
       "      <td>2017-12-24 00:00:00</td>\n",
       "      <td>13476</td>\n",
       "      <td>4653.829590</td>\n",
       "    </tr>\n",
       "    <tr>\n",
       "      <th>104</th>\n",
       "      <td>2017-12-25 00:00:00</td>\n",
       "      <td>13623</td>\n",
       "      <td>4653.829590</td>\n",
       "    </tr>\n",
       "    <tr>\n",
       "      <th>105</th>\n",
       "      <td>2017-12-26 00:00:00</td>\n",
       "      <td>15679</td>\n",
       "      <td>4653.829590</td>\n",
       "    </tr>\n",
       "    <tr>\n",
       "      <th>106</th>\n",
       "      <td>2017-12-27 00:00:00</td>\n",
       "      <td>15374</td>\n",
       "      <td>4653.829590</td>\n",
       "    </tr>\n",
       "    <tr>\n",
       "      <th>107</th>\n",
       "      <td>2017-12-28 00:00:00</td>\n",
       "      <td>14315</td>\n",
       "      <td>4653.829590</td>\n",
       "    </tr>\n",
       "    <tr>\n",
       "      <th>108</th>\n",
       "      <td>2017-12-29 00:00:00</td>\n",
       "      <td>14317</td>\n",
       "      <td>4653.829590</td>\n",
       "    </tr>\n",
       "    <tr>\n",
       "      <th>109</th>\n",
       "      <td>2017-12-30 00:00:00</td>\n",
       "      <td>12377</td>\n",
       "      <td>4653.829590</td>\n",
       "    </tr>\n",
       "    <tr>\n",
       "      <th>110</th>\n",
       "      <td>2017-12-31 00:00:00</td>\n",
       "      <td>13800</td>\n",
       "      <td>4653.829590</td>\n",
       "    </tr>\n",
       "    <tr>\n",
       "      <th>111</th>\n",
       "      <td>2018-01-01 00:00:00</td>\n",
       "      <td>13354</td>\n",
       "      <td>4653.829590</td>\n",
       "    </tr>\n",
       "    <tr>\n",
       "      <th>112</th>\n",
       "      <td>2018-01-02 00:00:00</td>\n",
       "      <td>14709.8</td>\n",
       "      <td>4653.829590</td>\n",
       "    </tr>\n",
       "    <tr>\n",
       "      <th>113</th>\n",
       "      <td>2018-01-03 00:00:00</td>\n",
       "      <td>15155</td>\n",
       "      <td>4653.829590</td>\n",
       "    </tr>\n",
       "    <tr>\n",
       "      <th>114</th>\n",
       "      <td>2018-01-04 00:00:00</td>\n",
       "      <td>15160</td>\n",
       "      <td>4653.829590</td>\n",
       "    </tr>\n",
       "    <tr>\n",
       "      <th>115</th>\n",
       "      <td>2018-01-05 00:00:00</td>\n",
       "      <td>16917</td>\n",
       "      <td>4653.829590</td>\n",
       "    </tr>\n",
       "    <tr>\n",
       "      <th>116</th>\n",
       "      <td>2018-01-06 00:00:00</td>\n",
       "      <td>17161</td>\n",
       "      <td>4653.829590</td>\n",
       "    </tr>\n",
       "    <tr>\n",
       "      <th>117</th>\n",
       "      <td>2018-01-07 00:00:00</td>\n",
       "      <td>16196</td>\n",
       "      <td>4653.829590</td>\n",
       "    </tr>\n",
       "    <tr>\n",
       "      <th>118</th>\n",
       "      <td>2018-01-08 00:00:00</td>\n",
       "      <td>14930</td>\n",
       "      <td>4653.829590</td>\n",
       "    </tr>\n",
       "    <tr>\n",
       "      <th>119</th>\n",
       "      <td>2018-01-09 00:00:00</td>\n",
       "      <td>14423</td>\n",
       "      <td>4653.829590</td>\n",
       "    </tr>\n",
       "  </tbody>\n",
       "</table>\n",
       "<p>120 rows × 3 columns</p>\n",
       "</div>"
      ],
      "text/plain": [
       "                    Date    Price   Prediction\n",
       "0    2017-09-12 00:00:00   4142.9  4244.849121\n",
       "1    2017-09-13 00:00:00   3849.7  4283.475586\n",
       "2    2017-09-14 00:00:00   3238.1  4321.395020\n",
       "3    2017-09-15 00:00:00     3698  4356.364746\n",
       "4    2017-09-16 00:00:00   3685.4  4387.985352\n",
       "5    2017-09-17 00:00:00   3666.3  4416.491699\n",
       "6    2017-09-18 00:00:00   4084.1  4442.249023\n",
       "7    2017-09-19 00:00:00     3900  4465.598145\n",
       "8    2017-09-20 00:00:00   3873.2  4486.819336\n",
       "9    2017-09-21 00:00:00   3603.4  4506.140625\n",
       "10   2017-09-22 00:00:00   3598.5  4523.747070\n",
       "11   2017-09-23 00:00:00   3779.6  4539.798340\n",
       "12   2017-09-24 00:00:00   3652.8  4554.431641\n",
       "13   2017-09-25 00:00:00     3930  4567.769531\n",
       "14   2017-09-26 00:00:00   3879.1  4579.923828\n",
       "15   2017-09-27 00:00:00   4205.4  4590.995605\n",
       "16   2017-09-28 00:00:00     4190  4600.951172\n",
       "17   2017-09-29 00:00:00   4169.9  4609.662598\n",
       "18   2017-09-30 00:00:00     4367  4617.125977\n",
       "19   2017-10-01 00:00:00   4404.3  4623.435059\n",
       "20   2017-10-02 00:00:00   4400.1  4628.721191\n",
       "21   2017-10-03 00:00:00   4311.1  4633.126465\n",
       "22   2017-10-04 00:00:00   4215.1  4636.780273\n",
       "23   2017-10-05 00:00:00   4315.4  4639.802734\n",
       "24   2017-10-06 00:00:00     4371  4642.298828\n",
       "25   2017-10-07 00:00:00     4436  4644.356934\n",
       "26   2017-10-08 00:00:00   4613.1  4646.050293\n",
       "27   2017-10-09 00:00:00   4782.3  4647.444336\n",
       "28   2017-10-10 00:00:00     4777  4648.589355\n",
       "29   2017-10-11 00:00:00   4824.9  4649.530762\n",
       "..                   ...      ...          ...\n",
       "90   2017-12-11 00:00:00    16754  4653.829590\n",
       "91   2017-12-12 00:00:00    16967  4653.829590\n",
       "92   2017-12-13 00:00:00    16181  4653.829590\n",
       "93   2017-12-14 00:00:00    16383  4653.829590\n",
       "94   2017-12-15 00:00:00    17522  4653.829590\n",
       "95   2017-12-16 00:00:00    19187  4653.829590\n",
       "96   2017-12-17 00:00:00    18971  4653.829590\n",
       "97   2017-12-18 00:00:00    18934  4653.829590\n",
       "98   2017-12-19 00:00:00    17345  4653.829590\n",
       "99   2017-12-20 00:00:00    16425  4653.829590\n",
       "100  2017-12-21 00:00:00  15666.8  4653.829590\n",
       "101  2017-12-22 00:00:00    13170  4653.829590\n",
       "102  2017-12-23 00:00:00    14035  4653.829590\n",
       "103  2017-12-24 00:00:00    13476  4653.829590\n",
       "104  2017-12-25 00:00:00    13623  4653.829590\n",
       "105  2017-12-26 00:00:00    15679  4653.829590\n",
       "106  2017-12-27 00:00:00    15374  4653.829590\n",
       "107  2017-12-28 00:00:00    14315  4653.829590\n",
       "108  2017-12-29 00:00:00    14317  4653.829590\n",
       "109  2017-12-30 00:00:00    12377  4653.829590\n",
       "110  2017-12-31 00:00:00    13800  4653.829590\n",
       "111  2018-01-01 00:00:00    13354  4653.829590\n",
       "112  2018-01-02 00:00:00  14709.8  4653.829590\n",
       "113  2018-01-03 00:00:00    15155  4653.829590\n",
       "114  2018-01-04 00:00:00    15160  4653.829590\n",
       "115  2018-01-05 00:00:00    16917  4653.829590\n",
       "116  2018-01-06 00:00:00    17161  4653.829590\n",
       "117  2018-01-07 00:00:00    16196  4653.829590\n",
       "118  2018-01-08 00:00:00    14930  4653.829590\n",
       "119  2018-01-09 00:00:00    14423  4653.829590\n",
       "\n",
       "[120 rows x 3 columns]"
      ]
     },
     "execution_count": 48,
     "metadata": {},
     "output_type": "execute_result"
    }
   ],
   "source": [
    "test_data_price_pred"
   ]
  },
  {
   "cell_type": "code",
   "execution_count": null,
   "metadata": {
    "collapsed": true
   },
   "outputs": [],
   "source": []
  }
 ],
 "metadata": {
  "anaconda-cloud": {},
  "kernelspec": {
   "display_name": "Python [conda root]",
   "language": "python",
   "name": "conda-root-py"
  },
  "language_info": {
   "codemirror_mode": {
    "name": "ipython",
    "version": 3
   },
   "file_extension": ".py",
   "mimetype": "text/x-python",
   "name": "python",
   "nbconvert_exporter": "python",
   "pygments_lexer": "ipython3",
   "version": "3.5.2"
  }
 },
 "nbformat": 4,
 "nbformat_minor": 2
}
