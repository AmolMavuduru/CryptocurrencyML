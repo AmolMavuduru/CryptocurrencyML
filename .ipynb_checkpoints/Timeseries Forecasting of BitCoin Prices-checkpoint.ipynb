{
 "cells": [
  {
   "cell_type": "markdown",
   "metadata": {},
   "source": [
    "# Timeseries Forecasting of Bitcoin prices\n",
    "\n",
    "In this exploration, I make an attempt to train recurrent neural networks to predict the price of bitcoin."
   ]
  },
  {
   "cell_type": "markdown",
   "metadata": {},
   "source": [
    "## Importing Libraries and Reading in the Data"
   ]
  },
  {
   "cell_type": "code",
   "execution_count": 1,
   "metadata": {
    "collapsed": false
   },
   "outputs": [],
   "source": [
    "import numpy as np\n",
    "import pandas as pd\n",
    "import matplotlib.pyplot as plt\n",
    "%matplotlib inline"
   ]
  },
  {
   "cell_type": "code",
   "execution_count": 2,
   "metadata": {
    "collapsed": false
   },
   "outputs": [
    {
     "data": {
      "text/html": [
       "<div>\n",
       "<table border=\"1\" class=\"dataframe\">\n",
       "  <thead>\n",
       "    <tr style=\"text-align: right;\">\n",
       "      <th></th>\n",
       "      <th>Date</th>\n",
       "      <th>Price</th>\n",
       "      <th>Open</th>\n",
       "      <th>High</th>\n",
       "      <th>Low</th>\n",
       "      <th>Vol.</th>\n",
       "      <th>Change %</th>\n",
       "    </tr>\n",
       "  </thead>\n",
       "  <tbody>\n",
       "    <tr>\n",
       "      <th>0</th>\n",
       "      <td>Jan 09, 2018</td>\n",
       "      <td>14,423.00</td>\n",
       "      <td>14,902.00</td>\n",
       "      <td>15,355.00</td>\n",
       "      <td>14,122.00</td>\n",
       "      <td>43.44K</td>\n",
       "      <td>-3.40</td>\n",
       "    </tr>\n",
       "    <tr>\n",
       "      <th>1</th>\n",
       "      <td>Jan 08, 2018</td>\n",
       "      <td>14,930.00</td>\n",
       "      <td>16,216.00</td>\n",
       "      <td>16,279.00</td>\n",
       "      <td>13,760.00</td>\n",
       "      <td>64.95K</td>\n",
       "      <td>-7.82</td>\n",
       "    </tr>\n",
       "    <tr>\n",
       "      <th>2</th>\n",
       "      <td>Jan 07, 2018</td>\n",
       "      <td>16,196.00</td>\n",
       "      <td>17,163.00</td>\n",
       "      <td>17,176.00</td>\n",
       "      <td>15,726.00</td>\n",
       "      <td>30.84K</td>\n",
       "      <td>-5.62</td>\n",
       "    </tr>\n",
       "    <tr>\n",
       "      <th>3</th>\n",
       "      <td>Jan 06, 2018</td>\n",
       "      <td>17,161.00</td>\n",
       "      <td>16,911.00</td>\n",
       "      <td>17,252.00</td>\n",
       "      <td>16,251.00</td>\n",
       "      <td>29.61K</td>\n",
       "      <td>1.44</td>\n",
       "    </tr>\n",
       "    <tr>\n",
       "      <th>4</th>\n",
       "      <td>Jan 05, 2018</td>\n",
       "      <td>16,917.00</td>\n",
       "      <td>15,159.00</td>\n",
       "      <td>17,101.00</td>\n",
       "      <td>14,769.00</td>\n",
       "      <td>54.63K</td>\n",
       "      <td>11.59</td>\n",
       "    </tr>\n",
       "  </tbody>\n",
       "</table>\n",
       "</div>"
      ],
      "text/plain": [
       "           Date      Price       Open       High        Low    Vol.  Change %\n",
       "0  Jan 09, 2018  14,423.00  14,902.00  15,355.00  14,122.00  43.44K     -3.40\n",
       "1  Jan 08, 2018  14,930.00  16,216.00  16,279.00  13,760.00  64.95K     -7.82\n",
       "2  Jan 07, 2018  16,196.00  17,163.00  17,176.00  15,726.00  30.84K     -5.62\n",
       "3  Jan 06, 2018  17,161.00  16,911.00  17,252.00  16,251.00  29.61K      1.44\n",
       "4  Jan 05, 2018  16,917.00  15,159.00  17,101.00  14,769.00  54.63K     11.59"
      ]
     },
     "execution_count": 2,
     "metadata": {},
     "output_type": "execute_result"
    }
   ],
   "source": [
    "bitcoin_data = pd.read_csv('BTC USD Historical Data.csv')\n",
    "bitcoin_data.head()"
   ]
  },
  {
   "cell_type": "code",
   "execution_count": 3,
   "metadata": {
    "collapsed": false
   },
   "outputs": [
    {
     "data": {
      "text/html": [
       "<div>\n",
       "<table border=\"1\" class=\"dataframe\">\n",
       "  <thead>\n",
       "    <tr style=\"text-align: right;\">\n",
       "      <th></th>\n",
       "      <th>Date</th>\n",
       "      <th>Price</th>\n",
       "      <th>Open</th>\n",
       "      <th>High</th>\n",
       "      <th>Low</th>\n",
       "      <th>Vol.</th>\n",
       "      <th>Change %</th>\n",
       "    </tr>\n",
       "  </thead>\n",
       "  <tbody>\n",
       "    <tr>\n",
       "      <th>2153</th>\n",
       "      <td>NaN</td>\n",
       "      <td>Highest:19,891.00</td>\n",
       "      <td>Lowest:0.00</td>\n",
       "      <td>Difference:19,891.00</td>\n",
       "      <td>Average:995.73</td>\n",
       "      <td>Change %:237,120.40</td>\n",
       "      <td>NaN</td>\n",
       "    </tr>\n",
       "    <tr>\n",
       "      <th>2152</th>\n",
       "      <td>NaN</td>\n",
       "      <td>NaN</td>\n",
       "      <td>NaN</td>\n",
       "      <td>NaN</td>\n",
       "      <td>NaN</td>\n",
       "      <td>NaN</td>\n",
       "      <td>NaN</td>\n",
       "    </tr>\n",
       "    <tr>\n",
       "      <th>2151</th>\n",
       "      <td>Feb 02, 2012</td>\n",
       "      <td>6.10</td>\n",
       "      <td>6.10</td>\n",
       "      <td>6.10</td>\n",
       "      <td>6.10</td>\n",
       "      <td>0</td>\n",
       "      <td>0.33</td>\n",
       "    </tr>\n",
       "    <tr>\n",
       "      <th>2150</th>\n",
       "      <td>Feb 03, 2012</td>\n",
       "      <td>5.96</td>\n",
       "      <td>5.96</td>\n",
       "      <td>5.96</td>\n",
       "      <td>5.96</td>\n",
       "      <td>0</td>\n",
       "      <td>-2.30</td>\n",
       "    </tr>\n",
       "    <tr>\n",
       "      <th>2149</th>\n",
       "      <td>Feb 04, 2012</td>\n",
       "      <td>5.87</td>\n",
       "      <td>5.87</td>\n",
       "      <td>5.87</td>\n",
       "      <td>5.87</td>\n",
       "      <td>0</td>\n",
       "      <td>-1.51</td>\n",
       "    </tr>\n",
       "  </tbody>\n",
       "</table>\n",
       "</div>"
      ],
      "text/plain": [
       "              Date              Price         Open                  High  \\\n",
       "2153           NaN  Highest:19,891.00  Lowest:0.00  Difference:19,891.00   \n",
       "2152           NaN                NaN          NaN                   NaN   \n",
       "2151  Feb 02, 2012               6.10         6.10                  6.10   \n",
       "2150  Feb 03, 2012               5.96         5.96                  5.96   \n",
       "2149  Feb 04, 2012               5.87         5.87                  5.87   \n",
       "\n",
       "                 Low                 Vol.  Change %  \n",
       "2153  Average:995.73  Change %:237,120.40       NaN  \n",
       "2152             NaN                  NaN       NaN  \n",
       "2151            6.10                    0      0.33  \n",
       "2150            5.96                    0     -2.30  \n",
       "2149            5.87                    0     -1.51  "
      ]
     },
     "execution_count": 3,
     "metadata": {},
     "output_type": "execute_result"
    }
   ],
   "source": [
    "bitcoin_data = bitcoin_data.iloc[::-1]\n",
    "bitcoin_data.head()"
   ]
  },
  {
   "cell_type": "code",
   "execution_count": 4,
   "metadata": {
    "collapsed": false
   },
   "outputs": [
    {
     "name": "stdout",
     "output_type": "stream",
     "text": [
      "<class 'pandas.core.frame.DataFrame'>\n",
      "RangeIndex: 2154 entries, 2153 to 0\n",
      "Data columns (total 7 columns):\n",
      "Date        2152 non-null object\n",
      "Price       2153 non-null object\n",
      "Open        2153 non-null object\n",
      "High        2153 non-null object\n",
      "Low         2153 non-null object\n",
      "Vol.        2153 non-null object\n",
      "Change %    2152 non-null float64\n",
      "dtypes: float64(1), object(6)\n",
      "memory usage: 117.9+ KB\n"
     ]
    }
   ],
   "source": [
    "bitcoin_data.info()"
   ]
  },
  {
   "cell_type": "code",
   "execution_count": 5,
   "metadata": {
    "collapsed": false
   },
   "outputs": [],
   "source": [
    "from pandas import datetime\n",
    "bitcoin_data['Date'] = bitcoin_data['Date'].apply(lambda date: pd.to_datetime(date))"
   ]
  },
  {
   "cell_type": "code",
   "execution_count": 6,
   "metadata": {
    "collapsed": false
   },
   "outputs": [
    {
     "name": "stdout",
     "output_type": "stream",
     "text": [
      "<class 'pandas.core.frame.DataFrame'>\n",
      "RangeIndex: 2154 entries, 2153 to 0\n",
      "Data columns (total 7 columns):\n",
      "Date        2152 non-null datetime64[ns]\n",
      "Price       2153 non-null object\n",
      "Open        2153 non-null object\n",
      "High        2153 non-null object\n",
      "Low         2153 non-null object\n",
      "Vol.        2153 non-null object\n",
      "Change %    2152 non-null float64\n",
      "dtypes: datetime64[ns](1), float64(1), object(5)\n",
      "memory usage: 117.9+ KB\n"
     ]
    }
   ],
   "source": [
    "bitcoin_data.info()"
   ]
  },
  {
   "cell_type": "code",
   "execution_count": 7,
   "metadata": {
    "collapsed": false
   },
   "outputs": [
    {
     "data": {
      "text/html": [
       "<div>\n",
       "<table border=\"1\" class=\"dataframe\">\n",
       "  <thead>\n",
       "    <tr style=\"text-align: right;\">\n",
       "      <th></th>\n",
       "      <th>Date</th>\n",
       "      <th>Price</th>\n",
       "      <th>Open</th>\n",
       "      <th>High</th>\n",
       "      <th>Low</th>\n",
       "      <th>Vol.</th>\n",
       "      <th>Change %</th>\n",
       "    </tr>\n",
       "  </thead>\n",
       "  <tbody>\n",
       "    <tr>\n",
       "      <th>2153</th>\n",
       "      <td>NaT</td>\n",
       "      <td>Highest:19,891.00</td>\n",
       "      <td>Lowest:0.00</td>\n",
       "      <td>Difference:19,891.00</td>\n",
       "      <td>Average:995.73</td>\n",
       "      <td>Change %:237,120.40</td>\n",
       "      <td>NaN</td>\n",
       "    </tr>\n",
       "    <tr>\n",
       "      <th>2152</th>\n",
       "      <td>NaT</td>\n",
       "      <td>NaN</td>\n",
       "      <td>NaN</td>\n",
       "      <td>NaN</td>\n",
       "      <td>NaN</td>\n",
       "      <td>NaN</td>\n",
       "      <td>NaN</td>\n",
       "    </tr>\n",
       "  </tbody>\n",
       "</table>\n",
       "</div>"
      ],
      "text/plain": [
       "     Date              Price         Open                  High  \\\n",
       "2153  NaT  Highest:19,891.00  Lowest:0.00  Difference:19,891.00   \n",
       "2152  NaT                NaN          NaN                   NaN   \n",
       "\n",
       "                 Low                 Vol.  Change %  \n",
       "2153  Average:995.73  Change %:237,120.40       NaN  \n",
       "2152             NaN                  NaN       NaN  "
      ]
     },
     "execution_count": 7,
     "metadata": {},
     "output_type": "execute_result"
    }
   ],
   "source": [
    "bitcoin_data[pd.isnull(bitcoin_data).any(axis=1)]"
   ]
  },
  {
   "cell_type": "code",
   "execution_count": 8,
   "metadata": {
    "collapsed": false
   },
   "outputs": [],
   "source": [
    "bitcoin_data.dropna(axis=0, inplace=True)"
   ]
  },
  {
   "cell_type": "code",
   "execution_count": 9,
   "metadata": {
    "collapsed": false
   },
   "outputs": [
    {
     "data": {
      "text/plain": [
       "Date        0\n",
       "Price       0\n",
       "Open        0\n",
       "High        0\n",
       "Low         0\n",
       "Vol.        0\n",
       "Change %    0\n",
       "dtype: int64"
      ]
     },
     "execution_count": 9,
     "metadata": {},
     "output_type": "execute_result"
    }
   ],
   "source": [
    "bitcoin_data.isnull().sum()"
   ]
  },
  {
   "cell_type": "code",
   "execution_count": 10,
   "metadata": {
    "collapsed": false
   },
   "outputs": [],
   "source": [
    "import locale\n",
    "from locale import *\n",
    "locale.setlocale(locale.LC_NUMERIC, '')\n",
    "bitcoin_data['Price'] = bitcoin_data['Price'].apply(lambda x: atof(x))"
   ]
  },
  {
   "cell_type": "code",
   "execution_count": 11,
   "metadata": {
    "collapsed": false
   },
   "outputs": [],
   "source": [
    "bitcoin_data['Open'] = bitcoin_data['Price'].apply(lambda x: float(x))\n",
    "bitcoin_data['High'] = bitcoin_data['Price'].apply(lambda x: float(x))\n",
    "bitcoin_data['Low'] = bitcoin_data['Price'].apply(lambda x: float(x))"
   ]
  },
  {
   "cell_type": "code",
   "execution_count": 12,
   "metadata": {
    "collapsed": false
   },
   "outputs": [
    {
     "name": "stdout",
     "output_type": "stream",
     "text": [
      "<class 'pandas.core.frame.DataFrame'>\n",
      "Int64Index: 2152 entries, 2151 to 0\n",
      "Data columns (total 7 columns):\n",
      "Date        2152 non-null datetime64[ns]\n",
      "Price       2152 non-null float64\n",
      "Open        2152 non-null float64\n",
      "High        2152 non-null float64\n",
      "Low         2152 non-null float64\n",
      "Vol.        2152 non-null object\n",
      "Change %    2152 non-null float64\n",
      "dtypes: datetime64[ns](1), float64(5), object(1)\n",
      "memory usage: 134.5+ KB\n"
     ]
    }
   ],
   "source": [
    "bitcoin_data.info()"
   ]
  },
  {
   "cell_type": "markdown",
   "metadata": {},
   "source": [
    "## Visualizing Bitcoin prices over a 6-year period"
   ]
  },
  {
   "cell_type": "code",
   "execution_count": 13,
   "metadata": {
    "collapsed": false
   },
   "outputs": [
    {
     "data": {
      "image/png": "[encoded data removed]",
      "text/plain": [
       "<matplotlib.figure.Figure at 0x10f703a58>"
      ]
     },
     "metadata": {},
     "output_type": "display_data"
    }
   ],
   "source": [
    "plt.plot(bitcoin_data['Date'], bitcoin_data['Price'], color = 'orange')\n",
    "plt.plot(bitcoin_data['Date'], bitcoin_data['Open'], color='purple')\n",
    "plt.plot(bitcoin_data['Date'], bitcoin_data['Low'], color='red')\n",
    "plt.plot(bitcoin_data['Date'], bitcoin_data['High'], color='blue')\n",
    "plt.legend()\n",
    "fig = plt.gcf()\n",
    "fig.set_size_inches(15, 10)"
   ]
  },
  {
   "cell_type": "markdown",
   "metadata": {},
   "source": [
    "## Using TensorFlow to Train RNNs"
   ]
  },
  {
   "cell_type": "code",
   "execution_count": 14,
   "metadata": {
    "collapsed": true
   },
   "outputs": [],
   "source": [
    "import tensorflow as tf"
   ]
  },
  {
   "cell_type": "code",
   "execution_count": 15,
   "metadata": {
    "collapsed": false
   },
   "outputs": [],
   "source": [
    "bitcoin_data = bitcoin_data.set_index('Date')"
   ]
  },
  {
   "cell_type": "code",
   "execution_count": 16,
   "metadata": {
    "collapsed": false
   },
   "outputs": [
    {
     "name": "stdout",
     "output_type": "stream",
     "text": [
      "<class 'pandas.core.frame.DataFrame'>\n",
      "DatetimeIndex: 2152 entries, 2012-02-02 to 2018-01-09\n",
      "Data columns (total 6 columns):\n",
      "Price       2152 non-null float64\n",
      "Open        2152 non-null float64\n",
      "High        2152 non-null float64\n",
      "Low         2152 non-null float64\n",
      "Vol.        2152 non-null object\n",
      "Change %    2152 non-null float64\n",
      "dtypes: float64(5), object(1)\n",
      "memory usage: 117.7+ KB\n"
     ]
    }
   ],
   "source": [
    "bitcoin_data.info()"
   ]
  },
  {
   "cell_type": "code",
   "execution_count": 17,
   "metadata": {
    "collapsed": true
   },
   "outputs": [],
   "source": [
    "train_data_price = bitcoin_data['Price'].iloc[:-30] # We give the model about 5 years and 11 months of training data\n",
    "# Everything except the last month of data is used for training\n",
    "test_data_price = bitcoin_data['Price'].tail(30) "
   ]
  },
  {
   "cell_type": "markdown",
   "metadata": {},
   "source": [
    "### Scaling the Data\n",
    "In order to train a neural network on this data, it is a good idea to scale it first."
   ]
  },
  {
   "cell_type": "code",
   "execution_count": 18,
   "metadata": {
    "collapsed": true
   },
   "outputs": [],
   "source": [
    "from sklearn.preprocessing import MinMaxScaler"
   ]
  },
  {
   "cell_type": "code",
   "execution_count": 19,
   "metadata": {
    "collapsed": true
   },
   "outputs": [],
   "source": [
    "scaler = MinMaxScaler()"
   ]
  },
  {
   "cell_type": "code",
   "execution_count": 20,
   "metadata": {
    "collapsed": false
   },
   "outputs": [
    {
     "name": "stderr",
     "output_type": "stream",
     "text": [
      "//anaconda/lib/python3.5/site-packages/sklearn/preprocessing/data.py:321: DeprecationWarning: Passing 1d arrays as data is deprecated in 0.17 and will raise ValueError in 0.19. Reshape your data either using X.reshape(-1, 1) if your data has a single feature or X.reshape(1, -1) if it contains a single sample.\n",
      "  warnings.warn(DEPRECATION_MSG_1D, DeprecationWarning)\n",
      "//anaconda/lib/python3.5/site-packages/sklearn/preprocessing/data.py:356: DeprecationWarning: Passing 1d arrays as data is deprecated in 0.17 and will raise ValueError in 0.19. Reshape your data either using X.reshape(-1, 1) if your data has a single feature or X.reshape(1, -1) if it contains a single sample.\n",
      "  warnings.warn(DEPRECATION_MSG_1D, DeprecationWarning)\n",
      "//anaconda/lib/python3.5/site-packages/sklearn/preprocessing/data.py:356: DeprecationWarning: Passing 1d arrays as data is deprecated in 0.17 and will raise ValueError in 0.19. Reshape your data either using X.reshape(-1, 1) if your data has a single feature or X.reshape(1, -1) if it contains a single sample.\n",
      "  warnings.warn(DEPRECATION_MSG_1D, DeprecationWarning)\n"
     ]
    }
   ],
   "source": [
    "train_data_price_scaled = scaler.fit_transform(train_data_price)\n",
    "test_data_price_scaled = scaler.transform(test_data_price)"
   ]
  },
  {
   "cell_type": "markdown",
   "metadata": {},
   "source": [
    "## Setting Up Our RNN Model"
   ]
  },
  {
   "cell_type": "markdown",
   "metadata": {},
   "source": [
    "### Defining a function for selecting batches"
   ]
  },
  {
   "cell_type": "code",
   "execution_count": 21,
   "metadata": {
    "collapsed": true
   },
   "outputs": [],
   "source": [
    "def next_batch(training_data,batch_size,steps):\n",
    "    \"\"\"\n",
    "    INPUT: Data, Batch Size, Time Steps per batch\n",
    "    OUTPUT: A tuple of y time series results. y[:,:-1] and y[:,1:]\n",
    "    \"\"\"\n",
    "    \n",
    "    # STEP 1: Use np.random.randint to set a random starting point index for the batch.\n",
    "    start = np.random.randint(0, len(training_data)-steps)\n",
    "    \n",
    "    # STEP 2: Now that you have a starting index you'll need to index the data from\n",
    "    # the random start to random start + steps + 1. Then reshape this data to be (1,steps+1)\n",
    "    y_batch = np.array(training_data[start:start + steps + 1]).reshape(1, steps+1)\n",
    "    \n",
    "    # STEP 3: Return the batches. You'll have two batches to return y[:,:-1] and y[:,1:]\n",
    "    # We need to reshape these into tensors for the RNN to .reshape(-1,steps,1)\n",
    "    return y_batch[:,:-1].reshape(-1, steps, 1), y_batch[:,1:].reshape(-1, steps, 1)"
   ]
  },
  {
   "cell_type": "code",
   "execution_count": 28,
   "metadata": {
    "collapsed": true
   },
   "outputs": [],
   "source": [
    "# Constants corresponding to hyperparameters for neural network\n",
    "\n",
    "num_inputs = 1\n",
    "\n",
    "num_time_steps = 30\n",
    "\n",
    "num_neurons = 100\n",
    "\n",
    "num_outputs = 1\n",
    "\n",
    "learning_rate = 0.001\n",
    "\n",
    "num_epochs = 8000\n",
    "\n",
    "batch_size = 1"
   ]
  },
  {
   "cell_type": "code",
   "execution_count": 23,
   "metadata": {
    "collapsed": true
   },
   "outputs": [],
   "source": [
    "X = tf.placeholder(tf.float32, shape=[None, num_time_steps,num_inputs])\n",
    "y = tf.placeholder(tf.float32, shape=[None, num_time_steps,num_outputs])"
   ]
  },
  {
   "cell_type": "code",
   "execution_count": 24,
   "metadata": {
    "collapsed": true
   },
   "outputs": [],
   "source": [
    "cell = tf.contrib.rnn.OutputProjectionWrapper(\n",
    "    tf.contrib.rnn.BasicLSTMCell(num_units=num_neurons, activation=tf.nn.relu),\n",
    "    output_size=num_outputs)  # An RNN cell with 100 neurons"
   ]
  },
  {
   "cell_type": "code",
   "execution_count": 25,
   "metadata": {
    "collapsed": false
   },
   "outputs": [],
   "source": [
    "outputs, states = tf.nn.dynamic_rnn(cell, X, dtype=tf.float32)  # This keeps track of outputs and states for us"
   ]
  },
  {
   "cell_type": "code",
   "execution_count": 26,
   "metadata": {
    "collapsed": true
   },
   "outputs": [],
   "source": [
    "loss = tf.reduce_mean(tf.square(outputs - y))  # MSE Loss Function\n",
    "optimizer = tf.train.AdamOptimizer(learning_rate=learning_rate) # Adam Optimizer that gradually slows learning rate\n",
    "train = optimizer.minimize(loss) # the train operation minimizes the loss function"
   ]
  },
  {
   "cell_type": "code",
   "execution_count": 27,
   "metadata": {
    "collapsed": true
   },
   "outputs": [],
   "source": [
    "init = tf.global_variables_initializer()"
   ]
  },
  {
   "cell_type": "code",
   "execution_count": 29,
   "metadata": {
    "collapsed": true
   },
   "outputs": [],
   "source": [
    "saver = tf.train.Saver()"
   ]
  },
  {
   "cell_type": "code",
   "execution_count": 30,
   "metadata": {
    "collapsed": false
   },
   "outputs": [
    {
     "name": "stdout",
     "output_type": "stream",
     "text": [
      "0 \tMSE: 0.00076324\n",
      "100 \tMSE: 0.00144411\n",
      "200 \tMSE: 0.000473154\n",
      "300 \tMSE: 0.000181088\n",
      "400 \tMSE: 7.39665e-05\n",
      "500 \tMSE: 9.92496e-05\n",
      "600 \tMSE: 0.000100745\n",
      "700 \tMSE: 9.93253e-05\n",
      "800 \tMSE: 2.08438e-05\n",
      "900 \tMSE: 0.000179263\n",
      "1000 \tMSE: 5.98656e-05\n",
      "1100 \tMSE: 5.08271e-05\n",
      "1200 \tMSE: 1.46945e-05\n",
      "1300 \tMSE: 3.00945e-05\n",
      "1400 \tMSE: 0.000760767\n",
      "1500 \tMSE: 3.05419e-05\n",
      "1600 \tMSE: 3.08152e-05\n",
      "1700 \tMSE: 1.3214e-05\n",
      "1800 \tMSE: 5.61715e-06\n",
      "1900 \tMSE: 1.05927e-05\n",
      "2000 \tMSE: 2.93124e-05\n",
      "2100 \tMSE: 1.5545e-05\n",
      "2200 \tMSE: 2.62248e-05\n",
      "2300 \tMSE: 1.46195e-05\n",
      "2400 \tMSE: 8.52934e-06\n",
      "2500 \tMSE: 2.04124e-05\n",
      "2600 \tMSE: 2.55273e-05\n",
      "2700 \tMSE: 2.8347e-06\n",
      "2800 \tMSE: 1.92026e-05\n",
      "2900 \tMSE: 1.54249e-05\n",
      "3000 \tMSE: 6.71476e-06\n",
      "3100 \tMSE: 1.14972e-05\n",
      "3200 \tMSE: 1.03155e-05\n",
      "3300 \tMSE: 3.82096e-06\n",
      "3400 \tMSE: 3.88506e-05\n",
      "3500 \tMSE: 7.15477e-06\n",
      "3600 \tMSE: 1.19931e-05\n",
      "3700 \tMSE: 1.70681e-05\n",
      "3800 \tMSE: 0.000156439\n",
      "3900 \tMSE: 1.46866e-05\n",
      "4000 \tMSE: 4.08804e-06\n",
      "4100 \tMSE: 5.19909e-06\n",
      "4200 \tMSE: 3.98714e-06\n",
      "4300 \tMSE: 0.00260898\n",
      "4400 \tMSE: 1.18364e-06\n",
      "4500 \tMSE: 3.14906e-06\n",
      "4600 \tMSE: 0.000100166\n",
      "4700 \tMSE: 5.22574e-06\n",
      "4800 \tMSE: 9.63432e-06\n",
      "4900 \tMSE: 2.92973e-05\n",
      "5000 \tMSE: 1.86861e-06\n",
      "5100 \tMSE: 4.23104e-06\n",
      "5200 \tMSE: 9.65224e-05\n",
      "5300 \tMSE: 0.00012682\n",
      "5400 \tMSE: 9.69188e-06\n",
      "5500 \tMSE: 0.000181627\n",
      "5600 \tMSE: 7.25245e-06\n",
      "5700 \tMSE: 3.73422e-05\n",
      "5800 \tMSE: 1.57129e-06\n",
      "5900 \tMSE: 4.00425e-07\n",
      "6000 \tMSE: 2.01652e-07\n",
      "6100 \tMSE: 2.35623e-06\n",
      "6200 \tMSE: 3.27012e-07\n",
      "6300 \tMSE: 2.30124e-06\n",
      "6400 \tMSE: 7.82658e-05\n",
      "6500 \tMSE: 2.24657e-06\n",
      "6600 \tMSE: 1.42944e-06\n",
      "6700 \tMSE: 7.31381e-07\n",
      "6800 \tMSE: 1.02649e-06\n",
      "6900 \tMSE: 1.18393e-06\n",
      "7000 \tMSE: 3.43632e-06\n",
      "7100 \tMSE: 5.17105e-05\n",
      "7200 \tMSE: 8.10787e-07\n",
      "7300 \tMSE: 9.5042e-05\n",
      "7400 \tMSE: 1.58966e-05\n",
      "7500 \tMSE: 1.40034e-05\n",
      "7600 \tMSE: 0.000171978\n",
      "7700 \tMSE: 9.78354e-07\n",
      "7800 \tMSE: 6.13564e-08\n",
      "7900 \tMSE: 4.63943e-08\n"
     ]
    }
   ],
   "source": [
    "with tf.Session() as sess:\n",
    "    \n",
    "    sess.run(init) # Initializes variables\n",
    "    \n",
    "    for epoch in range(num_epochs):\n",
    "        \n",
    "        X_batch, y_batch = next_batch(train_data_price_scaled, batch_size, num_time_steps) # Generates a random batch\n",
    "        sess.run(train, feed_dict={X: X_batch, y: y_batch}) # Trains on the data from batch\n",
    "        \n",
    "        if epoch % 100 == 0: # Every 100 epochs \n",
    "            \n",
    "            mse = loss.eval(feed_dict={X: X_batch, y: y_batch})\n",
    "            print(epoch, \"\\tMSE:\", mse)\n",
    "        \n",
    "        saver.save(sess, \"./bitcoin_price_model\")"
   ]
  },
  {
   "cell_type": "code",
   "execution_count": 33,
   "metadata": {
    "collapsed": false
   },
   "outputs": [
    {
     "name": "stdout",
     "output_type": "stream",
     "text": [
      "INFO:tensorflow:Restoring parameters from ./bitcoin_price_model\n",
      "4000 \tMSE: 2.97187e-05\n",
      "4100 \tMSE: 7.11961e-06\n",
      "4200 \tMSE: 3.4838e-05\n",
      "4300 \tMSE: 1.0455e-05\n",
      "4400 \tMSE: 0.000110177\n",
      "4500 \tMSE: 4.49945e-07\n",
      "4600 \tMSE: 0.00104013\n",
      "4700 \tMSE: 0.000771948\n",
      "4800 \tMSE: 5.04017e-07\n",
      "4900 \tMSE: 0.00102343\n",
      "5000 \tMSE: 3.62853e-05\n",
      "5100 \tMSE: 3.93139e-05\n",
      "5200 \tMSE: 3.2841e-05\n",
      "5300 \tMSE: 1.0205e-05\n",
      "5400 \tMSE: 1.01601e-05\n",
      "5500 \tMSE: 2.85234e-05\n",
      "5600 \tMSE: 4.62422e-05\n",
      "5700 \tMSE: 6.73774e-07\n",
      "5800 \tMSE: 3.35812e-05\n",
      "5900 \tMSE: 5.85883e-06\n",
      "6000 \tMSE: 1.1912e-06\n",
      "6100 \tMSE: 1.07122e-06\n",
      "6200 \tMSE: 6.07615e-06\n",
      "6300 \tMSE: 9.56687e-05\n",
      "6400 \tMSE: 1.42599e-05\n",
      "6500 \tMSE: 1.10745e-05\n",
      "6600 \tMSE: 0.000880759\n",
      "6700 \tMSE: 0.000284453\n",
      "6800 \tMSE: 1.11249e-05\n",
      "6900 \tMSE: 7.52368e-07\n",
      "7000 \tMSE: 5.26416e-06\n",
      "7100 \tMSE: 0.000202085\n",
      "7200 \tMSE: 2.30181e-06\n",
      "7300 \tMSE: 5.00633e-06\n",
      "7400 \tMSE: 7.2738e-06\n",
      "7500 \tMSE: 6.09811e-06\n",
      "7600 \tMSE: 3.40994e-06\n",
      "7700 \tMSE: 1.69732e-05\n",
      "7800 \tMSE: 9.13865e-06\n",
      "7900 \tMSE: 3.63896e-06\n",
      "8000 \tMSE: 2.25709e-05\n",
      "8100 \tMSE: 5.51257e-06\n",
      "8200 \tMSE: 4.74764e-06\n",
      "8300 \tMSE: 2.37693e-06\n",
      "8400 \tMSE: 1.38291e-05\n",
      "8500 \tMSE: 4.0657e-07\n",
      "8600 \tMSE: 3.80441e-05\n",
      "8700 \tMSE: 8.45631e-05\n",
      "8800 \tMSE: 2.58963e-05\n",
      "8900 \tMSE: 3.5356e-05\n",
      "9000 \tMSE: 1.83558e-05\n",
      "9100 \tMSE: 2.90557e-05\n",
      "9200 \tMSE: 5.21091e-05\n",
      "9300 \tMSE: 0.000108963\n",
      "9400 \tMSE: 6.47048e-06\n",
      "9500 \tMSE: 1.71967e-05\n",
      "9600 \tMSE: 2.38604e-05\n",
      "9700 \tMSE: 1.33777e-05\n",
      "9800 \tMSE: 5.98441e-05\n",
      "9900 \tMSE: 3.48997e-06\n"
     ]
    }
   ],
   "source": [
    "with tf.Session() as sess:\n",
    "    \n",
    "    saver.restore(sess, \"./bitcoin_price_model\")\n",
    "    \n",
    "    start_epochs = 8000\n",
    "    more_epochs = 10000\n",
    "    \n",
    "    for epoch in range(start_epochs, more_epochs):\n",
    "        \n",
    "        X_batch, y_batch = next_batch(train_data_price_scaled, batch_size, num_time_steps) # Generates a random batch\n",
    "        sess.run(train, feed_dict={X: X_batch, y: y_batch}) # Trains on the data from batch\n",
    "        \n",
    "        if epoch % 100 == 0: # Every 100 epochs \n",
    "        \n",
    "            mse = loss.eval(feed_dict={X: X_batch, y: y_batch})\n",
    "            print(epoch, \"\\tMSE:\", mse)\n",
    "        \n",
    "    saver.save(sess, \"./bitcoin_price_model\")"
   ]
  },
  {
   "cell_type": "markdown",
   "metadata": {},
   "source": [
    "### Generating Predictions for 30 days outside of training data"
   ]
  },
  {
   "cell_type": "code",
   "execution_count": 31,
   "metadata": {
    "collapsed": false
   },
   "outputs": [
    {
     "name": "stdout",
     "output_type": "stream",
     "text": [
      "INFO:tensorflow:Restoring parameters from ./bitcoin_price_model\n"
     ]
    }
   ],
   "source": [
    "with tf.Session() as sess:\n",
    "    \n",
    "    saver.restore(sess, \"./bitcoin_price_model\")\n",
    "    \n",
    "    train_seed = list(train_data_price_scaled[-30:]) # Use the last 30 days of bitcoin price data\n",
    "    \n",
    "    for iteration in range(30):\n",
    "        X_batch = np.array(train_seed[-num_time_steps:]).reshape(1, num_time_steps, 1)\n",
    "        y_pred = sess.run(outputs, feed_dict={X: X_batch})\n",
    "        train_seed.append(y_pred[0, -1, 0])"
   ]
  },
  {
   "cell_type": "code",
   "execution_count": 32,
   "metadata": {
    "collapsed": false
   },
   "outputs": [],
   "source": [
    "results = scaler.inverse_transform(np.array(train_seed[30:]).reshape(30,1))"
   ]
  },
  {
   "cell_type": "code",
   "execution_count": 33,
   "metadata": {
    "collapsed": false
   },
   "outputs": [
    {
     "data": {
      "text/plain": [
       "Date\n",
       "2017-12-11    16754.00\n",
       "2017-12-12    16967.00\n",
       "2017-12-13    16181.00\n",
       "2017-12-14    16383.00\n",
       "2017-12-15    17522.00\n",
       "2017-12-16    19187.00\n",
       "2017-12-17    18971.00\n",
       "2017-12-18    18934.00\n",
       "2017-12-19    17345.00\n",
       "2017-12-20    16425.00\n",
       "2017-12-21    15666.83\n",
       "2017-12-22    13170.00\n",
       "2017-12-23    14035.00\n",
       "2017-12-24    13476.00\n",
       "2017-12-25    13623.00\n",
       "2017-12-26    15679.00\n",
       "2017-12-27    15374.00\n",
       "2017-12-28    14315.00\n",
       "2017-12-29    14317.00\n",
       "2017-12-30    12377.00\n",
       "2017-12-31    13800.00\n",
       "2018-01-01    13354.00\n",
       "2018-01-02    14709.82\n",
       "2018-01-03    15155.00\n",
       "2018-01-04    15160.00\n",
       "2018-01-05    16917.00\n",
       "2018-01-06    17161.00\n",
       "2018-01-07    16196.00\n",
       "2018-01-08    14930.00\n",
       "2018-01-09    14423.00\n",
       "Name: Price, dtype: float64"
      ]
     },
     "execution_count": 33,
     "metadata": {},
     "output_type": "execute_result"
    }
   ],
   "source": [
    "test_data_price"
   ]
  },
  {
   "cell_type": "code",
   "execution_count": 33,
   "metadata": {
    "collapsed": true
   },
   "outputs": [],
   "source": [
    "test_data_price['Predictions'] = results"
   ]
  },
  {
   "cell_type": "code",
   "execution_count": 34,
   "metadata": {
    "collapsed": false
   },
   "outputs": [
    {
     "data": {
      "text/plain": [
       "(120, 1)"
      ]
     },
     "execution_count": 34,
     "metadata": {},
     "output_type": "execute_result"
    }
   ],
   "source": [
    "results.shape"
   ]
  },
  {
   "cell_type": "code",
   "execution_count": 34,
   "metadata": {
    "collapsed": false
   },
   "outputs": [],
   "source": [
    "test_data_price_pred = pd.DataFrame({'Date': test_data_price.index})"
   ]
  },
  {
   "cell_type": "code",
   "execution_count": 35,
   "metadata": {
    "collapsed": false
   },
   "outputs": [],
   "source": [
    "test_data_price_pred['Price'] = test_data_price.values"
   ]
  },
  {
   "cell_type": "code",
   "execution_count": 36,
   "metadata": {
    "collapsed": false
   },
   "outputs": [
    {
     "data": {
      "text/html": [
       "<div>\n",
       "<table border=\"1\" class=\"dataframe\">\n",
       "  <thead>\n",
       "    <tr style=\"text-align: right;\">\n",
       "      <th></th>\n",
       "      <th>Date</th>\n",
       "      <th>Price</th>\n",
       "    </tr>\n",
       "  </thead>\n",
       "  <tbody>\n",
       "    <tr>\n",
       "      <th>0</th>\n",
       "      <td>2017-12-11</td>\n",
       "      <td>16754.00</td>\n",
       "    </tr>\n",
       "    <tr>\n",
       "      <th>1</th>\n",
       "      <td>2017-12-12</td>\n",
       "      <td>16967.00</td>\n",
       "    </tr>\n",
       "    <tr>\n",
       "      <th>2</th>\n",
       "      <td>2017-12-13</td>\n",
       "      <td>16181.00</td>\n",
       "    </tr>\n",
       "    <tr>\n",
       "      <th>3</th>\n",
       "      <td>2017-12-14</td>\n",
       "      <td>16383.00</td>\n",
       "    </tr>\n",
       "    <tr>\n",
       "      <th>4</th>\n",
       "      <td>2017-12-15</td>\n",
       "      <td>17522.00</td>\n",
       "    </tr>\n",
       "    <tr>\n",
       "      <th>5</th>\n",
       "      <td>2017-12-16</td>\n",
       "      <td>19187.00</td>\n",
       "    </tr>\n",
       "    <tr>\n",
       "      <th>6</th>\n",
       "      <td>2017-12-17</td>\n",
       "      <td>18971.00</td>\n",
       "    </tr>\n",
       "    <tr>\n",
       "      <th>7</th>\n",
       "      <td>2017-12-18</td>\n",
       "      <td>18934.00</td>\n",
       "    </tr>\n",
       "    <tr>\n",
       "      <th>8</th>\n",
       "      <td>2017-12-19</td>\n",
       "      <td>17345.00</td>\n",
       "    </tr>\n",
       "    <tr>\n",
       "      <th>9</th>\n",
       "      <td>2017-12-20</td>\n",
       "      <td>16425.00</td>\n",
       "    </tr>\n",
       "    <tr>\n",
       "      <th>10</th>\n",
       "      <td>2017-12-21</td>\n",
       "      <td>15666.83</td>\n",
       "    </tr>\n",
       "    <tr>\n",
       "      <th>11</th>\n",
       "      <td>2017-12-22</td>\n",
       "      <td>13170.00</td>\n",
       "    </tr>\n",
       "    <tr>\n",
       "      <th>12</th>\n",
       "      <td>2017-12-23</td>\n",
       "      <td>14035.00</td>\n",
       "    </tr>\n",
       "    <tr>\n",
       "      <th>13</th>\n",
       "      <td>2017-12-24</td>\n",
       "      <td>13476.00</td>\n",
       "    </tr>\n",
       "    <tr>\n",
       "      <th>14</th>\n",
       "      <td>2017-12-25</td>\n",
       "      <td>13623.00</td>\n",
       "    </tr>\n",
       "    <tr>\n",
       "      <th>15</th>\n",
       "      <td>2017-12-26</td>\n",
       "      <td>15679.00</td>\n",
       "    </tr>\n",
       "    <tr>\n",
       "      <th>16</th>\n",
       "      <td>2017-12-27</td>\n",
       "      <td>15374.00</td>\n",
       "    </tr>\n",
       "    <tr>\n",
       "      <th>17</th>\n",
       "      <td>2017-12-28</td>\n",
       "      <td>14315.00</td>\n",
       "    </tr>\n",
       "    <tr>\n",
       "      <th>18</th>\n",
       "      <td>2017-12-29</td>\n",
       "      <td>14317.00</td>\n",
       "    </tr>\n",
       "    <tr>\n",
       "      <th>19</th>\n",
       "      <td>2017-12-30</td>\n",
       "      <td>12377.00</td>\n",
       "    </tr>\n",
       "    <tr>\n",
       "      <th>20</th>\n",
       "      <td>2017-12-31</td>\n",
       "      <td>13800.00</td>\n",
       "    </tr>\n",
       "    <tr>\n",
       "      <th>21</th>\n",
       "      <td>2018-01-01</td>\n",
       "      <td>13354.00</td>\n",
       "    </tr>\n",
       "    <tr>\n",
       "      <th>22</th>\n",
       "      <td>2018-01-02</td>\n",
       "      <td>14709.82</td>\n",
       "    </tr>\n",
       "    <tr>\n",
       "      <th>23</th>\n",
       "      <td>2018-01-03</td>\n",
       "      <td>15155.00</td>\n",
       "    </tr>\n",
       "    <tr>\n",
       "      <th>24</th>\n",
       "      <td>2018-01-04</td>\n",
       "      <td>15160.00</td>\n",
       "    </tr>\n",
       "    <tr>\n",
       "      <th>25</th>\n",
       "      <td>2018-01-05</td>\n",
       "      <td>16917.00</td>\n",
       "    </tr>\n",
       "    <tr>\n",
       "      <th>26</th>\n",
       "      <td>2018-01-06</td>\n",
       "      <td>17161.00</td>\n",
       "    </tr>\n",
       "    <tr>\n",
       "      <th>27</th>\n",
       "      <td>2018-01-07</td>\n",
       "      <td>16196.00</td>\n",
       "    </tr>\n",
       "    <tr>\n",
       "      <th>28</th>\n",
       "      <td>2018-01-08</td>\n",
       "      <td>14930.00</td>\n",
       "    </tr>\n",
       "    <tr>\n",
       "      <th>29</th>\n",
       "      <td>2018-01-09</td>\n",
       "      <td>14423.00</td>\n",
       "    </tr>\n",
       "  </tbody>\n",
       "</table>\n",
       "</div>"
      ],
      "text/plain": [
       "         Date     Price\n",
       "0  2017-12-11  16754.00\n",
       "1  2017-12-12  16967.00\n",
       "2  2017-12-13  16181.00\n",
       "3  2017-12-14  16383.00\n",
       "4  2017-12-15  17522.00\n",
       "5  2017-12-16  19187.00\n",
       "6  2017-12-17  18971.00\n",
       "7  2017-12-18  18934.00\n",
       "8  2017-12-19  17345.00\n",
       "9  2017-12-20  16425.00\n",
       "10 2017-12-21  15666.83\n",
       "11 2017-12-22  13170.00\n",
       "12 2017-12-23  14035.00\n",
       "13 2017-12-24  13476.00\n",
       "14 2017-12-25  13623.00\n",
       "15 2017-12-26  15679.00\n",
       "16 2017-12-27  15374.00\n",
       "17 2017-12-28  14315.00\n",
       "18 2017-12-29  14317.00\n",
       "19 2017-12-30  12377.00\n",
       "20 2017-12-31  13800.00\n",
       "21 2018-01-01  13354.00\n",
       "22 2018-01-02  14709.82\n",
       "23 2018-01-03  15155.00\n",
       "24 2018-01-04  15160.00\n",
       "25 2018-01-05  16917.00\n",
       "26 2018-01-06  17161.00\n",
       "27 2018-01-07  16196.00\n",
       "28 2018-01-08  14930.00\n",
       "29 2018-01-09  14423.00"
      ]
     },
     "execution_count": 36,
     "metadata": {},
     "output_type": "execute_result"
    }
   ],
   "source": [
    "test_data_price_pred"
   ]
  },
  {
   "cell_type": "code",
   "execution_count": 46,
   "metadata": {
    "collapsed": false
   },
   "outputs": [],
   "source": [
    "test_data_price_pred.drop([120], inplace = True)"
   ]
  },
  {
   "cell_type": "code",
   "execution_count": 37,
   "metadata": {
    "collapsed": false
   },
   "outputs": [],
   "source": [
    "test_data_price_pred['Prediction'] = results"
   ]
  },
  {
   "cell_type": "code",
   "execution_count": 38,
   "metadata": {
    "collapsed": false
   },
   "outputs": [
    {
     "data": {
      "text/html": [
       "<div>\n",
       "<table border=\"1\" class=\"dataframe\">\n",
       "  <thead>\n",
       "    <tr style=\"text-align: right;\">\n",
       "      <th></th>\n",
       "      <th>Date</th>\n",
       "      <th>Price</th>\n",
       "      <th>Prediction</th>\n",
       "    </tr>\n",
       "  </thead>\n",
       "  <tbody>\n",
       "    <tr>\n",
       "      <th>0</th>\n",
       "      <td>2017-12-11</td>\n",
       "      <td>16754.00</td>\n",
       "      <td>14911.989258</td>\n",
       "    </tr>\n",
       "    <tr>\n",
       "      <th>1</th>\n",
       "      <td>2017-12-12</td>\n",
       "      <td>16967.00</td>\n",
       "      <td>14959.208984</td>\n",
       "    </tr>\n",
       "    <tr>\n",
       "      <th>2</th>\n",
       "      <td>2017-12-13</td>\n",
       "      <td>16181.00</td>\n",
       "      <td>14984.668945</td>\n",
       "    </tr>\n",
       "    <tr>\n",
       "      <th>3</th>\n",
       "      <td>2017-12-14</td>\n",
       "      <td>16383.00</td>\n",
       "      <td>14987.231445</td>\n",
       "    </tr>\n",
       "    <tr>\n",
       "      <th>4</th>\n",
       "      <td>2017-12-15</td>\n",
       "      <td>17522.00</td>\n",
       "      <td>14968.836914</td>\n",
       "    </tr>\n",
       "    <tr>\n",
       "      <th>5</th>\n",
       "      <td>2017-12-16</td>\n",
       "      <td>19187.00</td>\n",
       "      <td>14933.914062</td>\n",
       "    </tr>\n",
       "    <tr>\n",
       "      <th>6</th>\n",
       "      <td>2017-12-17</td>\n",
       "      <td>18971.00</td>\n",
       "      <td>14887.027344</td>\n",
       "    </tr>\n",
       "    <tr>\n",
       "      <th>7</th>\n",
       "      <td>2017-12-18</td>\n",
       "      <td>18934.00</td>\n",
       "      <td>14832.079102</td>\n",
       "    </tr>\n",
       "    <tr>\n",
       "      <th>8</th>\n",
       "      <td>2017-12-19</td>\n",
       "      <td>17345.00</td>\n",
       "      <td>14772.169922</td>\n",
       "    </tr>\n",
       "    <tr>\n",
       "      <th>9</th>\n",
       "      <td>2017-12-20</td>\n",
       "      <td>16425.00</td>\n",
       "      <td>14709.693359</td>\n",
       "    </tr>\n",
       "    <tr>\n",
       "      <th>10</th>\n",
       "      <td>2017-12-21</td>\n",
       "      <td>15666.83</td>\n",
       "      <td>14646.451172</td>\n",
       "    </tr>\n",
       "    <tr>\n",
       "      <th>11</th>\n",
       "      <td>2017-12-22</td>\n",
       "      <td>13170.00</td>\n",
       "      <td>14583.795898</td>\n",
       "    </tr>\n",
       "    <tr>\n",
       "      <th>12</th>\n",
       "      <td>2017-12-23</td>\n",
       "      <td>14035.00</td>\n",
       "      <td>14522.734375</td>\n",
       "    </tr>\n",
       "    <tr>\n",
       "      <th>13</th>\n",
       "      <td>2017-12-24</td>\n",
       "      <td>13476.00</td>\n",
       "      <td>14463.982422</td>\n",
       "    </tr>\n",
       "    <tr>\n",
       "      <th>14</th>\n",
       "      <td>2017-12-25</td>\n",
       "      <td>13623.00</td>\n",
       "      <td>14408.042969</td>\n",
       "    </tr>\n",
       "    <tr>\n",
       "      <th>15</th>\n",
       "      <td>2017-12-26</td>\n",
       "      <td>15679.00</td>\n",
       "      <td>14355.259766</td>\n",
       "    </tr>\n",
       "    <tr>\n",
       "      <th>16</th>\n",
       "      <td>2017-12-27</td>\n",
       "      <td>15374.00</td>\n",
       "      <td>14305.824219</td>\n",
       "    </tr>\n",
       "    <tr>\n",
       "      <th>17</th>\n",
       "      <td>2017-12-28</td>\n",
       "      <td>14315.00</td>\n",
       "      <td>14259.847656</td>\n",
       "    </tr>\n",
       "    <tr>\n",
       "      <th>18</th>\n",
       "      <td>2017-12-29</td>\n",
       "      <td>14317.00</td>\n",
       "      <td>14217.359375</td>\n",
       "    </tr>\n",
       "    <tr>\n",
       "      <th>19</th>\n",
       "      <td>2017-12-30</td>\n",
       "      <td>12377.00</td>\n",
       "      <td>14178.311523</td>\n",
       "    </tr>\n",
       "    <tr>\n",
       "      <th>20</th>\n",
       "      <td>2017-12-31</td>\n",
       "      <td>13800.00</td>\n",
       "      <td>14142.597656</td>\n",
       "    </tr>\n",
       "    <tr>\n",
       "      <th>21</th>\n",
       "      <td>2018-01-01</td>\n",
       "      <td>13354.00</td>\n",
       "      <td>14110.049805</td>\n",
       "    </tr>\n",
       "    <tr>\n",
       "      <th>22</th>\n",
       "      <td>2018-01-02</td>\n",
       "      <td>14709.82</td>\n",
       "      <td>14080.449219</td>\n",
       "    </tr>\n",
       "    <tr>\n",
       "      <th>23</th>\n",
       "      <td>2018-01-03</td>\n",
       "      <td>15155.00</td>\n",
       "      <td>14053.590820</td>\n",
       "    </tr>\n",
       "    <tr>\n",
       "      <th>24</th>\n",
       "      <td>2018-01-04</td>\n",
       "      <td>15160.00</td>\n",
       "      <td>14029.297852</td>\n",
       "    </tr>\n",
       "    <tr>\n",
       "      <th>25</th>\n",
       "      <td>2018-01-05</td>\n",
       "      <td>16917.00</td>\n",
       "      <td>14007.343750</td>\n",
       "    </tr>\n",
       "    <tr>\n",
       "      <th>26</th>\n",
       "      <td>2018-01-06</td>\n",
       "      <td>17161.00</td>\n",
       "      <td>13987.583984</td>\n",
       "    </tr>\n",
       "    <tr>\n",
       "      <th>27</th>\n",
       "      <td>2018-01-07</td>\n",
       "      <td>16196.00</td>\n",
       "      <td>13969.883789</td>\n",
       "    </tr>\n",
       "    <tr>\n",
       "      <th>28</th>\n",
       "      <td>2018-01-08</td>\n",
       "      <td>14930.00</td>\n",
       "      <td>13954.096680</td>\n",
       "    </tr>\n",
       "    <tr>\n",
       "      <th>29</th>\n",
       "      <td>2018-01-09</td>\n",
       "      <td>14423.00</td>\n",
       "      <td>13940.023438</td>\n",
       "    </tr>\n",
       "  </tbody>\n",
       "</table>\n",
       "</div>"
      ],
      "text/plain": [
       "         Date     Price    Prediction\n",
       "0  2017-12-11  16754.00  14911.989258\n",
       "1  2017-12-12  16967.00  14959.208984\n",
       "2  2017-12-13  16181.00  14984.668945\n",
       "3  2017-12-14  16383.00  14987.231445\n",
       "4  2017-12-15  17522.00  14968.836914\n",
       "5  2017-12-16  19187.00  14933.914062\n",
       "6  2017-12-17  18971.00  14887.027344\n",
       "7  2017-12-18  18934.00  14832.079102\n",
       "8  2017-12-19  17345.00  14772.169922\n",
       "9  2017-12-20  16425.00  14709.693359\n",
       "10 2017-12-21  15666.83  14646.451172\n",
       "11 2017-12-22  13170.00  14583.795898\n",
       "12 2017-12-23  14035.00  14522.734375\n",
       "13 2017-12-24  13476.00  14463.982422\n",
       "14 2017-12-25  13623.00  14408.042969\n",
       "15 2017-12-26  15679.00  14355.259766\n",
       "16 2017-12-27  15374.00  14305.824219\n",
       "17 2017-12-28  14315.00  14259.847656\n",
       "18 2017-12-29  14317.00  14217.359375\n",
       "19 2017-12-30  12377.00  14178.311523\n",
       "20 2017-12-31  13800.00  14142.597656\n",
       "21 2018-01-01  13354.00  14110.049805\n",
       "22 2018-01-02  14709.82  14080.449219\n",
       "23 2018-01-03  15155.00  14053.590820\n",
       "24 2018-01-04  15160.00  14029.297852\n",
       "25 2018-01-05  16917.00  14007.343750\n",
       "26 2018-01-06  17161.00  13987.583984\n",
       "27 2018-01-07  16196.00  13969.883789\n",
       "28 2018-01-08  14930.00  13954.096680\n",
       "29 2018-01-09  14423.00  13940.023438"
      ]
     },
     "execution_count": 38,
     "metadata": {},
     "output_type": "execute_result"
    }
   ],
   "source": [
    "test_data_price_pred"
   ]
  },
  {
   "cell_type": "code",
   "execution_count": 39,
   "metadata": {
    "collapsed": false
   },
   "outputs": [
    {
     "data": {
      "image/png": "[encoded data removed]",
      "text/plain": [
       "<matplotlib.figure.Figure at 0x11fc8d4a8>"
      ]
     },
     "metadata": {},
     "output_type": "display_data"
    }
   ],
   "source": [
    "plt.plot(test_data_price_pred['Date'], test_data_price_pred['Price'], color='green')\n",
    "plt.plot(test_data_price_pred['Date'], test_data_price_pred['Prediction'], color='orange')\n",
    "plt.legend()\n",
    "fig = plt.gcf()\n",
    "fig.set_size_inches(10, 5)"
   ]
  },
  {
   "cell_type": "markdown",
   "metadata": {},
   "source": [
    "## Looking at Other Cryptocurrencies"
   ]
  },
  {
   "cell_type": "code",
   "execution_count": null,
   "metadata": {
    "collapsed": true
   },
   "outputs": [],
   "source": []
  }
 ],
 "metadata": {
  "anaconda-cloud": {},
  "kernelspec": {
   "display_name": "Python [conda root]",
   "language": "python",
   "name": "conda-root-py"
  },
  "language_info": {
   "codemirror_mode": {
    "name": "ipython",
    "version": 3
   },
   "file_extension": ".py",
   "mimetype": "text/x-python",
   "name": "python",
   "nbconvert_exporter": "python",
   "pygments_lexer": "ipython3",
   "version": "3.5.2"
  }
 },
 "nbformat": 4,
 "nbformat_minor": 2
}
