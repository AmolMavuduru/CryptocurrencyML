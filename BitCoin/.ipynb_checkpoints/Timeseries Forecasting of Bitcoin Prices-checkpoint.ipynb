{
 "cells": [
  {
   "cell_type": "markdown",
   "metadata": {},
   "source": [
    "# Timeseries Forecasting of Cryptocurrency Prices\n",
    "\n",
    "In this exploration, I make an attempt to train recurrent neural networks to predict the price of cryptocurrencies such as bitcoin."
   ]
  },
  {
   "cell_type": "markdown",
   "metadata": {},
   "source": [
    "## Importing Libraries and Reading in the Data"
   ]
  },
  {
   "cell_type": "code",
   "execution_count": 1,
   "metadata": {
    "collapsed": false
   },
   "outputs": [],
   "source": [
    "import numpy as np\n",
    "import pandas as pd\n",
    "import matplotlib.pyplot as plt\n",
    "%matplotlib inline"
   ]
  },
  {
   "cell_type": "code",
   "execution_count": 2,
   "metadata": {
    "collapsed": false
   },
   "outputs": [
    {
     "data": {
      "text/html": [
       "<div>\n",
       "<style scoped>\n",
       "    .dataframe tbody tr th:only-of-type {\n",
       "        vertical-align: middle;\n",
       "    }\n",
       "\n",
       "    .dataframe tbody tr th {\n",
       "        vertical-align: top;\n",
       "    }\n",
       "\n",
       "    .dataframe thead th {\n",
       "        text-align: right;\n",
       "    }\n",
       "</style>\n",
       "<table border=\"1\" class=\"dataframe\">\n",
       "  <thead>\n",
       "    <tr style=\"text-align: right;\">\n",
       "      <th></th>\n",
       "      <th>Date</th>\n",
       "      <th>Price</th>\n",
       "      <th>Open</th>\n",
       "      <th>High</th>\n",
       "      <th>Low</th>\n",
       "      <th>Vol.</th>\n",
       "      <th>Change %</th>\n",
       "    </tr>\n",
       "  </thead>\n",
       "  <tbody>\n",
       "    <tr>\n",
       "      <th>0</th>\n",
       "      <td>Jan 09, 2018</td>\n",
       "      <td>14,423.00</td>\n",
       "      <td>14,902.00</td>\n",
       "      <td>15,355.00</td>\n",
       "      <td>14,122.00</td>\n",
       "      <td>43.44K</td>\n",
       "      <td>-3.40</td>\n",
       "    </tr>\n",
       "    <tr>\n",
       "      <th>1</th>\n",
       "      <td>Jan 08, 2018</td>\n",
       "      <td>14,930.00</td>\n",
       "      <td>16,216.00</td>\n",
       "      <td>16,279.00</td>\n",
       "      <td>13,760.00</td>\n",
       "      <td>64.95K</td>\n",
       "      <td>-7.82</td>\n",
       "    </tr>\n",
       "    <tr>\n",
       "      <th>2</th>\n",
       "      <td>Jan 07, 2018</td>\n",
       "      <td>16,196.00</td>\n",
       "      <td>17,163.00</td>\n",
       "      <td>17,176.00</td>\n",
       "      <td>15,726.00</td>\n",
       "      <td>30.84K</td>\n",
       "      <td>-5.62</td>\n",
       "    </tr>\n",
       "    <tr>\n",
       "      <th>3</th>\n",
       "      <td>Jan 06, 2018</td>\n",
       "      <td>17,161.00</td>\n",
       "      <td>16,911.00</td>\n",
       "      <td>17,252.00</td>\n",
       "      <td>16,251.00</td>\n",
       "      <td>29.61K</td>\n",
       "      <td>1.44</td>\n",
       "    </tr>\n",
       "    <tr>\n",
       "      <th>4</th>\n",
       "      <td>Jan 05, 2018</td>\n",
       "      <td>16,917.00</td>\n",
       "      <td>15,159.00</td>\n",
       "      <td>17,101.00</td>\n",
       "      <td>14,769.00</td>\n",
       "      <td>54.63K</td>\n",
       "      <td>11.59</td>\n",
       "    </tr>\n",
       "  </tbody>\n",
       "</table>\n",
       "</div>"
      ],
      "text/plain": [
       "           Date      Price       Open       High        Low    Vol.  Change %\n",
       "0  Jan 09, 2018  14,423.00  14,902.00  15,355.00  14,122.00  43.44K     -3.40\n",
       "1  Jan 08, 2018  14,930.00  16,216.00  16,279.00  13,760.00  64.95K     -7.82\n",
       "2  Jan 07, 2018  16,196.00  17,163.00  17,176.00  15,726.00  30.84K     -5.62\n",
       "3  Jan 06, 2018  17,161.00  16,911.00  17,252.00  16,251.00  29.61K      1.44\n",
       "4  Jan 05, 2018  16,917.00  15,159.00  17,101.00  14,769.00  54.63K     11.59"
      ]
     },
     "execution_count": 2,
     "metadata": {},
     "output_type": "execute_result"
    }
   ],
   "source": [
    "data = pd.read_csv('./data/BTC USD Historical Data.csv')\n",
    "data.head()"
   ]
  },
  {
   "cell_type": "code",
   "execution_count": 3,
   "metadata": {
    "collapsed": false
   },
   "outputs": [
    {
     "data": {
      "text/html": [
       "<div>\n",
       "<style scoped>\n",
       "    .dataframe tbody tr th:only-of-type {\n",
       "        vertical-align: middle;\n",
       "    }\n",
       "\n",
       "    .dataframe tbody tr th {\n",
       "        vertical-align: top;\n",
       "    }\n",
       "\n",
       "    .dataframe thead th {\n",
       "        text-align: right;\n",
       "    }\n",
       "</style>\n",
       "<table border=\"1\" class=\"dataframe\">\n",
       "  <thead>\n",
       "    <tr style=\"text-align: right;\">\n",
       "      <th></th>\n",
       "      <th>Date</th>\n",
       "      <th>Price</th>\n",
       "      <th>Open</th>\n",
       "      <th>High</th>\n",
       "      <th>Low</th>\n",
       "      <th>Vol.</th>\n",
       "      <th>Change %</th>\n",
       "    </tr>\n",
       "  </thead>\n",
       "  <tbody>\n",
       "    <tr>\n",
       "      <th>2149</th>\n",
       "      <td>Feb 04, 2012</td>\n",
       "      <td>5.87</td>\n",
       "      <td>5.87</td>\n",
       "      <td>5.87</td>\n",
       "      <td>5.87</td>\n",
       "      <td>0</td>\n",
       "      <td>-1.51</td>\n",
       "    </tr>\n",
       "    <tr>\n",
       "      <th>2150</th>\n",
       "      <td>Feb 03, 2012</td>\n",
       "      <td>5.96</td>\n",
       "      <td>5.96</td>\n",
       "      <td>5.96</td>\n",
       "      <td>5.96</td>\n",
       "      <td>0</td>\n",
       "      <td>-2.30</td>\n",
       "    </tr>\n",
       "    <tr>\n",
       "      <th>2151</th>\n",
       "      <td>Feb 02, 2012</td>\n",
       "      <td>6.10</td>\n",
       "      <td>6.10</td>\n",
       "      <td>6.10</td>\n",
       "      <td>6.10</td>\n",
       "      <td>0</td>\n",
       "      <td>0.33</td>\n",
       "    </tr>\n",
       "    <tr>\n",
       "      <th>2152</th>\n",
       "      <td>NaN</td>\n",
       "      <td>NaN</td>\n",
       "      <td>NaN</td>\n",
       "      <td>NaN</td>\n",
       "      <td>NaN</td>\n",
       "      <td>NaN</td>\n",
       "      <td>NaN</td>\n",
       "    </tr>\n",
       "    <tr>\n",
       "      <th>2153</th>\n",
       "      <td>NaN</td>\n",
       "      <td>Highest:19,891.00</td>\n",
       "      <td>Lowest:0.00</td>\n",
       "      <td>Difference:19,891.00</td>\n",
       "      <td>Average:995.73</td>\n",
       "      <td>Change %:237,120.40</td>\n",
       "      <td>NaN</td>\n",
       "    </tr>\n",
       "  </tbody>\n",
       "</table>\n",
       "</div>"
      ],
      "text/plain": [
       "              Date              Price         Open                  High  \\\n",
       "2149  Feb 04, 2012               5.87         5.87                  5.87   \n",
       "2150  Feb 03, 2012               5.96         5.96                  5.96   \n",
       "2151  Feb 02, 2012               6.10         6.10                  6.10   \n",
       "2152           NaN                NaN          NaN                   NaN   \n",
       "2153           NaN  Highest:19,891.00  Lowest:0.00  Difference:19,891.00   \n",
       "\n",
       "                 Low                 Vol.  Change %  \n",
       "2149            5.87                    0     -1.51  \n",
       "2150            5.96                    0     -2.30  \n",
       "2151            6.10                    0      0.33  \n",
       "2152             NaN                  NaN       NaN  \n",
       "2153  Average:995.73  Change %:237,120.40       NaN  "
      ]
     },
     "execution_count": 3,
     "metadata": {},
     "output_type": "execute_result"
    }
   ],
   "source": [
    "data.tail()"
   ]
  },
  {
   "cell_type": "code",
   "execution_count": 4,
   "metadata": {
    "collapsed": false
   },
   "outputs": [],
   "source": [
    "data.dropna(axis=0, inplace=True)\n",
    "data = data.iloc[::-1]"
   ]
  },
  {
   "cell_type": "code",
   "execution_count": 5,
   "metadata": {
    "collapsed": false
   },
   "outputs": [],
   "source": [
    "from pandas import datetime\n",
    "data['Date'] = data['Date'].apply(lambda date: pd.to_datetime(date))"
   ]
  },
  {
   "cell_type": "code",
   "execution_count": 6,
   "metadata": {
    "collapsed": true
   },
   "outputs": [],
   "source": [
    "import locale\n",
    "from locale import *\n",
    "locale.setlocale(locale.LC_NUMERIC, '')\n",
    "data['Price'] = data['Price'].apply(lambda x: atof(x))"
   ]
  },
  {
   "cell_type": "code",
   "execution_count": 7,
   "metadata": {
    "collapsed": true
   },
   "outputs": [],
   "source": [
    "data['Open'] = data['Open'].apply(lambda x: atof(x))\n",
    "data['High'] = data['High'].apply(lambda x: atof(x))\n",
    "data['Low'] = data['Low'].apply(lambda x: atof(x))"
   ]
  },
  {
   "cell_type": "code",
   "execution_count": 8,
   "metadata": {
    "collapsed": false
   },
   "outputs": [
    {
     "name": "stdout",
     "output_type": "stream",
     "text": [
      "<class 'pandas.core.frame.DataFrame'>\n",
      "Int64Index: 2152 entries, 2151 to 0\n",
      "Data columns (total 7 columns):\n",
      "Date        2152 non-null datetime64[ns]\n",
      "Price       2152 non-null float64\n",
      "Open        2152 non-null float64\n",
      "High        2152 non-null float64\n",
      "Low         2152 non-null float64\n",
      "Vol.        2152 non-null object\n",
      "Change %    2152 non-null float64\n",
      "dtypes: datetime64[ns](1), float64(5), object(1)\n",
      "memory usage: 134.5+ KB\n"
     ]
    }
   ],
   "source": [
    "data.info()"
   ]
  },
  {
   "cell_type": "markdown",
   "metadata": {},
   "source": [
    "## Visualizing prices for the whole dataset"
   ]
  },
  {
   "cell_type": "code",
   "execution_count": 9,
   "metadata": {
    "collapsed": false
   },
   "outputs": [
    {
     "data": {
      "image/png": "[encoded data removed]",
      "text/plain": [
       "<matplotlib.figure.Figure at 0x114951860>"
      ]
     },
     "metadata": {},
     "output_type": "display_data"
    }
   ],
   "source": [
    "plt.plot(data['Date'], data['Price'], color = 'orange')\n",
    "plt.plot(data['Date'], data['Open'], color='purple')\n",
    "plt.plot(data['Date'], data['Low'], color='red')\n",
    "plt.plot(data['Date'], data['High'], color='blue')\n",
    "plt.title('Bitcoin Prices')\n",
    "plt.xlabel('Date')\n",
    "plt.ylabel('Price')\n",
    "plt.legend()\n",
    "fig = plt.gcf()\n",
    "fig.set_size_inches(15, 10)\n",
    "plt.savefig('./plots/historical_prices.png')"
   ]
  },
  {
   "cell_type": "markdown",
   "metadata": {},
   "source": [
    "## Using TensorFlow to Train RNNs"
   ]
  },
  {
   "cell_type": "code",
   "execution_count": 10,
   "metadata": {
    "collapsed": false
   },
   "outputs": [
    {
     "name": "stderr",
     "output_type": "stream",
     "text": [
      "//anaconda/lib/python3.5/importlib/_bootstrap.py:222: RuntimeWarning: compiletime version 3.6 of module 'tensorflow.python.framework.fast_tensor_util' does not match runtime version 3.5\n",
      "  return f(*args, **kwds)\n"
     ]
    }
   ],
   "source": [
    "import tensorflow as tf"
   ]
  },
  {
   "cell_type": "code",
   "execution_count": 11,
   "metadata": {
    "collapsed": false
   },
   "outputs": [],
   "source": [
    "data = data.set_index('Date')"
   ]
  },
  {
   "cell_type": "code",
   "execution_count": 12,
   "metadata": {
    "collapsed": false
   },
   "outputs": [
    {
     "name": "stdout",
     "output_type": "stream",
     "text": [
      "<class 'pandas.core.frame.DataFrame'>\n",
      "DatetimeIndex: 2152 entries, 2012-02-02 to 2018-01-09\n",
      "Data columns (total 6 columns):\n",
      "Price       2152 non-null float64\n",
      "Open        2152 non-null float64\n",
      "High        2152 non-null float64\n",
      "Low         2152 non-null float64\n",
      "Vol.        2152 non-null object\n",
      "Change %    2152 non-null float64\n",
      "dtypes: float64(5), object(1)\n",
      "memory usage: 117.7+ KB\n"
     ]
    }
   ],
   "source": [
    "data.info()"
   ]
  },
  {
   "cell_type": "markdown",
   "metadata": {},
   "source": [
    "### Scaling the Data\n",
    "In order to train a neural network on this data, it is a good idea to scale it first."
   ]
  },
  {
   "cell_type": "code",
   "execution_count": 13,
   "metadata": {
    "collapsed": true
   },
   "outputs": [],
   "source": [
    "from sklearn.preprocessing import MinMaxScaler"
   ]
  },
  {
   "cell_type": "code",
   "execution_count": 14,
   "metadata": {
    "collapsed": true
   },
   "outputs": [],
   "source": [
    "scaler = MinMaxScaler()"
   ]
  },
  {
   "cell_type": "code",
   "execution_count": 15,
   "metadata": {
    "collapsed": true
   },
   "outputs": [],
   "source": [
    "price_data_scaled = scaler.fit_transform(data['Price'].values.reshape(-1, 1))"
   ]
  },
  {
   "cell_type": "markdown",
   "metadata": {},
   "source": [
    "### Creating a Dataset with Features"
   ]
  },
  {
   "cell_type": "code",
   "execution_count": 16,
   "metadata": {
    "collapsed": true
   },
   "outputs": [],
   "source": [
    "def create_dataset(timeseries, n_inputs=30):\n",
    "    \n",
    "    features = []\n",
    "    targets = []\n",
    "    \n",
    "    for i in range(len(timeseries) - n_inputs):\n",
    "        \n",
    "        start = i\n",
    "        end = start + n_inputs\n",
    "        \n",
    "        x = timeseries[start:end]\n",
    "        y = timeseries[end]\n",
    "        \n",
    "        features.append(x)\n",
    "        targets.append(y)\n",
    "    \n",
    "    return np.array(features), np.array(targets)"
   ]
  },
  {
   "cell_type": "code",
   "execution_count": 17,
   "metadata": {
    "collapsed": true
   },
   "outputs": [],
   "source": [
    "X, y = create_dataset(price_data_scaled, n_inputs=14)"
   ]
  },
  {
   "cell_type": "code",
   "execution_count": 18,
   "metadata": {
    "collapsed": false
   },
   "outputs": [
    {
     "data": {
      "text/plain": [
       "(2138, 14, 1)"
      ]
     },
     "execution_count": 18,
     "metadata": {},
     "output_type": "execute_result"
    }
   ],
   "source": [
    "X.shape"
   ]
  },
  {
   "cell_type": "code",
   "execution_count": 19,
   "metadata": {
    "collapsed": true
   },
   "outputs": [],
   "source": [
    "percent_training = 0.75\n",
    "num_samples = X.shape[0]\n",
    "num_train = int(percent_training * num_samples)\n",
    "\n",
    "X_train, y_train = X[:num_train], y[:num_train]\n",
    "X_test, y_test = X[num_train:], y[num_train:]"
   ]
  },
  {
   "cell_type": "markdown",
   "metadata": {},
   "source": [
    "## Training the RNN Model"
   ]
  },
  {
   "cell_type": "code",
   "execution_count": 20,
   "metadata": {
    "collapsed": false
   },
   "outputs": [
    {
     "name": "stderr",
     "output_type": "stream",
     "text": [
      "Using TensorFlow backend.\n"
     ]
    }
   ],
   "source": [
    "from keras.models import Sequential, load_model\n",
    "from keras.layers import Dense, LSTM\n",
    "from keras.callbacks import EarlyStopping\n",
    "\n",
    "num_inputs = 14\n",
    "\n",
    "model = Sequential()\n",
    "model.add(LSTM(100, input_shape=(num_inputs, 1)))\n",
    "model.add(Dense(1))\n",
    "model.compile(loss='mse', optimizer='rmsprop', metrics=['mae'])\n",
    "\n",
    "early_stopping = EarlyStopping(monitor='val_loss', mode='min', patience=3)"
   ]
  },
  {
   "cell_type": "code",
   "execution_count": 21,
   "metadata": {
    "collapsed": false
   },
   "outputs": [
    {
     "name": "stdout",
     "output_type": "stream",
     "text": [
      "Train on 1603 samples, validate on 535 samples\n",
      "Epoch 1/100\n",
      "1603/1603 [==============================] - 22s 14ms/step - loss: 1.7869e-05 - mean_absolute_error: 0.0030 - val_loss: 5.6528e-04 - val_mean_absolute_error: 0.0114\n",
      "Epoch 2/100\n",
      "1603/1603 [==============================] - 21s 13ms/step - loss: 6.9626e-06 - mean_absolute_error: 0.0019 - val_loss: 8.4611e-04 - val_mean_absolute_error: 0.0147\n",
      "Epoch 3/100\n",
      "1603/1603 [==============================] - 20s 12ms/step - loss: 5.5730e-06 - mean_absolute_error: 0.0017 - val_loss: 6.6565e-04 - val_mean_absolute_error: 0.0131\n",
      "Epoch 4/100\n",
      "1603/1603 [==============================] - 19s 12ms/step - loss: 4.6971e-06 - mean_absolute_error: 0.0015 - val_loss: 3.5282e-04 - val_mean_absolute_error: 0.0077\n",
      "Epoch 5/100\n",
      "1603/1603 [==============================] - 20s 12ms/step - loss: 4.2464e-06 - mean_absolute_error: 0.0014 - val_loss: 4.6739e-04 - val_mean_absolute_error: 0.0097\n",
      "Epoch 6/100\n",
      "1603/1603 [==============================] - 19s 12ms/step - loss: 4.0093e-06 - mean_absolute_error: 0.0014 - val_loss: 3.9722e-04 - val_mean_absolute_error: 0.0082\n",
      "Epoch 7/100\n",
      "1603/1603 [==============================] - 19s 12ms/step - loss: 3.7434e-06 - mean_absolute_error: 0.0014 - val_loss: 4.5097e-04 - val_mean_absolute_error: 0.0096\n"
     ]
    },
    {
     "data": {
      "text/plain": [
       "<keras.callbacks.History at 0x11f524cc0>"
      ]
     },
     "execution_count": 21,
     "metadata": {},
     "output_type": "execute_result"
    }
   ],
   "source": [
    "model.fit(X_train, y_train, validation_data=(X_test, y_test), \n",
    "          batch_size=1, epochs=100, callbacks=[early_stopping])"
   ]
  },
  {
   "cell_type": "code",
   "execution_count": 22,
   "metadata": {
    "collapsed": true
   },
   "outputs": [],
   "source": [
    "model.save('./models/bitcoin_model.h5')"
   ]
  },
  {
   "cell_type": "markdown",
   "metadata": {},
   "source": [
    "### Comparing Generated Predictions with Prices in Testing Set"
   ]
  },
  {
   "cell_type": "code",
   "execution_count": 23,
   "metadata": {
    "collapsed": false
   },
   "outputs": [],
   "source": [
    "pred = model.predict(X_test)"
   ]
  },
  {
   "cell_type": "code",
   "execution_count": 24,
   "metadata": {
    "collapsed": false
   },
   "outputs": [
    {
     "data": {
      "text/plain": [
       "(535, 1)"
      ]
     },
     "execution_count": 24,
     "metadata": {},
     "output_type": "execute_result"
    }
   ],
   "source": [
    "pred.shape"
   ]
  },
  {
   "cell_type": "code",
   "execution_count": 25,
   "metadata": {
    "collapsed": false
   },
   "outputs": [],
   "source": [
    "results = scaler.inverse_transform(pred)"
   ]
  },
  {
   "cell_type": "code",
   "execution_count": 26,
   "metadata": {
    "collapsed": false
   },
   "outputs": [],
   "source": [
    "num_samples = pred.shape[0]\n",
    "test_data_price = data.iloc[-num_samples:]['Price']"
   ]
  },
  {
   "cell_type": "code",
   "execution_count": 27,
   "metadata": {
    "collapsed": false
   },
   "outputs": [],
   "source": [
    "test_data_price_pred = pd.DataFrame({'Date': test_data_price.index, \n",
    "                                     'Price': test_data_price.values, \n",
    "                                     'Prediction': results[:, 0]})"
   ]
  },
  {
   "cell_type": "code",
   "execution_count": 28,
   "metadata": {
    "collapsed": false
   },
   "outputs": [
    {
     "data": {
      "text/html": [
       "<div>\n",
       "<style scoped>\n",
       "    .dataframe tbody tr th:only-of-type {\n",
       "        vertical-align: middle;\n",
       "    }\n",
       "\n",
       "    .dataframe tbody tr th {\n",
       "        vertical-align: top;\n",
       "    }\n",
       "\n",
       "    .dataframe thead th {\n",
       "        text-align: right;\n",
       "    }\n",
       "</style>\n",
       "<table border=\"1\" class=\"dataframe\">\n",
       "  <thead>\n",
       "    <tr style=\"text-align: right;\">\n",
       "      <th></th>\n",
       "      <th>Date</th>\n",
       "      <th>Prediction</th>\n",
       "      <th>Price</th>\n",
       "    </tr>\n",
       "  </thead>\n",
       "  <tbody>\n",
       "    <tr>\n",
       "      <th>0</th>\n",
       "      <td>2016-07-10</td>\n",
       "      <td>620.903381</td>\n",
       "      <td>649.72</td>\n",
       "    </tr>\n",
       "    <tr>\n",
       "      <th>1</th>\n",
       "      <td>2016-07-11</td>\n",
       "      <td>622.435059</td>\n",
       "      <td>647.95</td>\n",
       "    </tr>\n",
       "    <tr>\n",
       "      <th>2</th>\n",
       "      <td>2016-07-12</td>\n",
       "      <td>620.695862</td>\n",
       "      <td>667.19</td>\n",
       "    </tr>\n",
       "    <tr>\n",
       "      <th>3</th>\n",
       "      <td>2016-07-13</td>\n",
       "      <td>639.120911</td>\n",
       "      <td>653.70</td>\n",
       "    </tr>\n",
       "    <tr>\n",
       "      <th>4</th>\n",
       "      <td>2016-07-14</td>\n",
       "      <td>627.852112</td>\n",
       "      <td>659.78</td>\n",
       "    </tr>\n",
       "    <tr>\n",
       "      <th>5</th>\n",
       "      <td>2016-07-15</td>\n",
       "      <td>634.169373</td>\n",
       "      <td>665.50</td>\n",
       "    </tr>\n",
       "    <tr>\n",
       "      <th>6</th>\n",
       "      <td>2016-07-16</td>\n",
       "      <td>639.760071</td>\n",
       "      <td>665.33</td>\n",
       "    </tr>\n",
       "    <tr>\n",
       "      <th>7</th>\n",
       "      <td>2016-07-17</td>\n",
       "      <td>639.938477</td>\n",
       "      <td>683.20</td>\n",
       "    </tr>\n",
       "    <tr>\n",
       "      <th>8</th>\n",
       "      <td>2016-07-18</td>\n",
       "      <td>657.002502</td>\n",
       "      <td>674.30</td>\n",
       "    </tr>\n",
       "    <tr>\n",
       "      <th>9</th>\n",
       "      <td>2016-07-19</td>\n",
       "      <td>649.368103</td>\n",
       "      <td>675.00</td>\n",
       "    </tr>\n",
       "    <tr>\n",
       "      <th>10</th>\n",
       "      <td>2016-07-20</td>\n",
       "      <td>650.185303</td>\n",
       "      <td>665.85</td>\n",
       "    </tr>\n",
       "    <tr>\n",
       "      <th>11</th>\n",
       "      <td>2016-07-21</td>\n",
       "      <td>641.119995</td>\n",
       "      <td>665.01</td>\n",
       "    </tr>\n",
       "    <tr>\n",
       "      <th>12</th>\n",
       "      <td>2016-07-22</td>\n",
       "      <td>639.545044</td>\n",
       "      <td>648.04</td>\n",
       "    </tr>\n",
       "    <tr>\n",
       "      <th>13</th>\n",
       "      <td>2016-07-23</td>\n",
       "      <td>622.734924</td>\n",
       "      <td>654.03</td>\n",
       "    </tr>\n",
       "    <tr>\n",
       "      <th>14</th>\n",
       "      <td>2016-07-24</td>\n",
       "      <td>627.158203</td>\n",
       "      <td>661.82</td>\n",
       "    </tr>\n",
       "    <tr>\n",
       "      <th>15</th>\n",
       "      <td>2016-07-25</td>\n",
       "      <td>633.910645</td>\n",
       "      <td>654.17</td>\n",
       "    </tr>\n",
       "    <tr>\n",
       "      <th>16</th>\n",
       "      <td>2016-07-26</td>\n",
       "      <td>627.286987</td>\n",
       "      <td>648.47</td>\n",
       "    </tr>\n",
       "    <tr>\n",
       "      <th>17</th>\n",
       "      <td>2016-07-27</td>\n",
       "      <td>622.260132</td>\n",
       "      <td>654.51</td>\n",
       "    </tr>\n",
       "    <tr>\n",
       "      <th>18</th>\n",
       "      <td>2016-07-29</td>\n",
       "      <td>627.877014</td>\n",
       "      <td>658.34</td>\n",
       "    </tr>\n",
       "    <tr>\n",
       "      <th>19</th>\n",
       "      <td>2016-07-30</td>\n",
       "      <td>631.766174</td>\n",
       "      <td>654.99</td>\n",
       "    </tr>\n",
       "    <tr>\n",
       "      <th>20</th>\n",
       "      <td>2016-07-31</td>\n",
       "      <td>629.224182</td>\n",
       "      <td>623.67</td>\n",
       "    </tr>\n",
       "    <tr>\n",
       "      <th>21</th>\n",
       "      <td>2016-08-01</td>\n",
       "      <td>600.084717</td>\n",
       "      <td>607.99</td>\n",
       "    </tr>\n",
       "    <tr>\n",
       "      <th>22</th>\n",
       "      <td>2016-08-02</td>\n",
       "      <td>583.834045</td>\n",
       "      <td>604.00</td>\n",
       "    </tr>\n",
       "    <tr>\n",
       "      <th>23</th>\n",
       "      <td>2016-08-03</td>\n",
       "      <td>577.886902</td>\n",
       "      <td>0.00</td>\n",
       "    </tr>\n",
       "    <tr>\n",
       "      <th>24</th>\n",
       "      <td>2016-08-04</td>\n",
       "      <td>9.472759</td>\n",
       "      <td>0.00</td>\n",
       "    </tr>\n",
       "    <tr>\n",
       "      <th>25</th>\n",
       "      <td>2016-08-05</td>\n",
       "      <td>-19.767004</td>\n",
       "      <td>0.00</td>\n",
       "    </tr>\n",
       "    <tr>\n",
       "      <th>26</th>\n",
       "      <td>2016-08-06</td>\n",
       "      <td>-46.138962</td>\n",
       "      <td>0.00</td>\n",
       "    </tr>\n",
       "    <tr>\n",
       "      <th>27</th>\n",
       "      <td>2016-08-07</td>\n",
       "      <td>-51.813820</td>\n",
       "      <td>604.10</td>\n",
       "    </tr>\n",
       "    <tr>\n",
       "      <th>28</th>\n",
       "      <td>2016-08-08</td>\n",
       "      <td>521.540894</td>\n",
       "      <td>604.10</td>\n",
       "    </tr>\n",
       "    <tr>\n",
       "      <th>29</th>\n",
       "      <td>2016-08-09</td>\n",
       "      <td>561.843384</td>\n",
       "      <td>604.10</td>\n",
       "    </tr>\n",
       "    <tr>\n",
       "      <th>...</th>\n",
       "      <td>...</td>\n",
       "      <td>...</td>\n",
       "      <td>...</td>\n",
       "    </tr>\n",
       "    <tr>\n",
       "      <th>505</th>\n",
       "      <td>2017-12-11</td>\n",
       "      <td>14715.199219</td>\n",
       "      <td>16754.00</td>\n",
       "    </tr>\n",
       "    <tr>\n",
       "      <th>506</th>\n",
       "      <td>2017-12-12</td>\n",
       "      <td>16200.502930</td>\n",
       "      <td>16967.00</td>\n",
       "    </tr>\n",
       "    <tr>\n",
       "      <th>507</th>\n",
       "      <td>2017-12-13</td>\n",
       "      <td>16399.689453</td>\n",
       "      <td>16181.00</td>\n",
       "    </tr>\n",
       "    <tr>\n",
       "      <th>508</th>\n",
       "      <td>2017-12-14</td>\n",
       "      <td>15722.229492</td>\n",
       "      <td>16383.00</td>\n",
       "    </tr>\n",
       "    <tr>\n",
       "      <th>509</th>\n",
       "      <td>2017-12-15</td>\n",
       "      <td>15863.022461</td>\n",
       "      <td>17522.00</td>\n",
       "    </tr>\n",
       "    <tr>\n",
       "      <th>510</th>\n",
       "      <td>2017-12-16</td>\n",
       "      <td>16833.427734</td>\n",
       "      <td>19187.00</td>\n",
       "    </tr>\n",
       "    <tr>\n",
       "      <th>511</th>\n",
       "      <td>2017-12-17</td>\n",
       "      <td>18339.189453</td>\n",
       "      <td>18971.00</td>\n",
       "    </tr>\n",
       "    <tr>\n",
       "      <th>512</th>\n",
       "      <td>2017-12-18</td>\n",
       "      <td>18266.617188</td>\n",
       "      <td>18934.00</td>\n",
       "    </tr>\n",
       "    <tr>\n",
       "      <th>513</th>\n",
       "      <td>2017-12-19</td>\n",
       "      <td>18310.843750</td>\n",
       "      <td>17345.00</td>\n",
       "    </tr>\n",
       "    <tr>\n",
       "      <th>514</th>\n",
       "      <td>2017-12-20</td>\n",
       "      <td>16897.361328</td>\n",
       "      <td>16425.00</td>\n",
       "    </tr>\n",
       "    <tr>\n",
       "      <th>515</th>\n",
       "      <td>2017-12-21</td>\n",
       "      <td>15963.386719</td>\n",
       "      <td>15666.83</td>\n",
       "    </tr>\n",
       "    <tr>\n",
       "      <th>516</th>\n",
       "      <td>2017-12-22</td>\n",
       "      <td>15107.442383</td>\n",
       "      <td>13170.00</td>\n",
       "    </tr>\n",
       "    <tr>\n",
       "      <th>517</th>\n",
       "      <td>2017-12-23</td>\n",
       "      <td>12665.950195</td>\n",
       "      <td>14035.00</td>\n",
       "    </tr>\n",
       "    <tr>\n",
       "      <th>518</th>\n",
       "      <td>2017-12-24</td>\n",
       "      <td>13266.974609</td>\n",
       "      <td>13476.00</td>\n",
       "    </tr>\n",
       "    <tr>\n",
       "      <th>519</th>\n",
       "      <td>2017-12-25</td>\n",
       "      <td>12660.860352</td>\n",
       "      <td>13623.00</td>\n",
       "    </tr>\n",
       "    <tr>\n",
       "      <th>520</th>\n",
       "      <td>2017-12-26</td>\n",
       "      <td>12801.209961</td>\n",
       "      <td>15679.00</td>\n",
       "    </tr>\n",
       "    <tr>\n",
       "      <th>521</th>\n",
       "      <td>2017-12-27</td>\n",
       "      <td>14720.308594</td>\n",
       "      <td>15374.00</td>\n",
       "    </tr>\n",
       "    <tr>\n",
       "      <th>522</th>\n",
       "      <td>2017-12-28</td>\n",
       "      <td>14619.019531</td>\n",
       "      <td>14315.00</td>\n",
       "    </tr>\n",
       "    <tr>\n",
       "      <th>523</th>\n",
       "      <td>2017-12-29</td>\n",
       "      <td>13811.821289</td>\n",
       "      <td>14317.00</td>\n",
       "    </tr>\n",
       "    <tr>\n",
       "      <th>524</th>\n",
       "      <td>2017-12-30</td>\n",
       "      <td>13838.530273</td>\n",
       "      <td>12377.00</td>\n",
       "    </tr>\n",
       "    <tr>\n",
       "      <th>525</th>\n",
       "      <td>2017-12-31</td>\n",
       "      <td>12024.080078</td>\n",
       "      <td>13800.00</td>\n",
       "    </tr>\n",
       "    <tr>\n",
       "      <th>526</th>\n",
       "      <td>2018-01-01</td>\n",
       "      <td>13220.561523</td>\n",
       "      <td>13354.00</td>\n",
       "    </tr>\n",
       "    <tr>\n",
       "      <th>527</th>\n",
       "      <td>2018-01-02</td>\n",
       "      <td>12761.118164</td>\n",
       "      <td>14709.82</td>\n",
       "    </tr>\n",
       "    <tr>\n",
       "      <th>528</th>\n",
       "      <td>2018-01-03</td>\n",
       "      <td>14009.212891</td>\n",
       "      <td>15155.00</td>\n",
       "    </tr>\n",
       "    <tr>\n",
       "      <th>529</th>\n",
       "      <td>2018-01-04</td>\n",
       "      <td>14479.433594</td>\n",
       "      <td>15160.00</td>\n",
       "    </tr>\n",
       "    <tr>\n",
       "      <th>530</th>\n",
       "      <td>2018-01-05</td>\n",
       "      <td>14585.004883</td>\n",
       "      <td>16917.00</td>\n",
       "    </tr>\n",
       "    <tr>\n",
       "      <th>531</th>\n",
       "      <td>2018-01-06</td>\n",
       "      <td>16236.125000</td>\n",
       "      <td>17161.00</td>\n",
       "    </tr>\n",
       "    <tr>\n",
       "      <th>532</th>\n",
       "      <td>2018-01-07</td>\n",
       "      <td>16563.357422</td>\n",
       "      <td>16196.00</td>\n",
       "    </tr>\n",
       "    <tr>\n",
       "      <th>533</th>\n",
       "      <td>2018-01-08</td>\n",
       "      <td>15786.441406</td>\n",
       "      <td>14930.00</td>\n",
       "    </tr>\n",
       "    <tr>\n",
       "      <th>534</th>\n",
       "      <td>2018-01-09</td>\n",
       "      <td>14609.812500</td>\n",
       "      <td>14423.00</td>\n",
       "    </tr>\n",
       "  </tbody>\n",
       "</table>\n",
       "<p>535 rows × 3 columns</p>\n",
       "</div>"
      ],
      "text/plain": [
       "          Date    Prediction     Price\n",
       "0   2016-07-10    620.903381    649.72\n",
       "1   2016-07-11    622.435059    647.95\n",
       "2   2016-07-12    620.695862    667.19\n",
       "3   2016-07-13    639.120911    653.70\n",
       "4   2016-07-14    627.852112    659.78\n",
       "5   2016-07-15    634.169373    665.50\n",
       "6   2016-07-16    639.760071    665.33\n",
       "7   2016-07-17    639.938477    683.20\n",
       "8   2016-07-18    657.002502    674.30\n",
       "9   2016-07-19    649.368103    675.00\n",
       "10  2016-07-20    650.185303    665.85\n",
       "11  2016-07-21    641.119995    665.01\n",
       "12  2016-07-22    639.545044    648.04\n",
       "13  2016-07-23    622.734924    654.03\n",
       "14  2016-07-24    627.158203    661.82\n",
       "15  2016-07-25    633.910645    654.17\n",
       "16  2016-07-26    627.286987    648.47\n",
       "17  2016-07-27    622.260132    654.51\n",
       "18  2016-07-29    627.877014    658.34\n",
       "19  2016-07-30    631.766174    654.99\n",
       "20  2016-07-31    629.224182    623.67\n",
       "21  2016-08-01    600.084717    607.99\n",
       "22  2016-08-02    583.834045    604.00\n",
       "23  2016-08-03    577.886902      0.00\n",
       "24  2016-08-04      9.472759      0.00\n",
       "25  2016-08-05    -19.767004      0.00\n",
       "26  2016-08-06    -46.138962      0.00\n",
       "27  2016-08-07    -51.813820    604.10\n",
       "28  2016-08-08    521.540894    604.10\n",
       "29  2016-08-09    561.843384    604.10\n",
       "..         ...           ...       ...\n",
       "505 2017-12-11  14715.199219  16754.00\n",
       "506 2017-12-12  16200.502930  16967.00\n",
       "507 2017-12-13  16399.689453  16181.00\n",
       "508 2017-12-14  15722.229492  16383.00\n",
       "509 2017-12-15  15863.022461  17522.00\n",
       "510 2017-12-16  16833.427734  19187.00\n",
       "511 2017-12-17  18339.189453  18971.00\n",
       "512 2017-12-18  18266.617188  18934.00\n",
       "513 2017-12-19  18310.843750  17345.00\n",
       "514 2017-12-20  16897.361328  16425.00\n",
       "515 2017-12-21  15963.386719  15666.83\n",
       "516 2017-12-22  15107.442383  13170.00\n",
       "517 2017-12-23  12665.950195  14035.00\n",
       "518 2017-12-24  13266.974609  13476.00\n",
       "519 2017-12-25  12660.860352  13623.00\n",
       "520 2017-12-26  12801.209961  15679.00\n",
       "521 2017-12-27  14720.308594  15374.00\n",
       "522 2017-12-28  14619.019531  14315.00\n",
       "523 2017-12-29  13811.821289  14317.00\n",
       "524 2017-12-30  13838.530273  12377.00\n",
       "525 2017-12-31  12024.080078  13800.00\n",
       "526 2018-01-01  13220.561523  13354.00\n",
       "527 2018-01-02  12761.118164  14709.82\n",
       "528 2018-01-03  14009.212891  15155.00\n",
       "529 2018-01-04  14479.433594  15160.00\n",
       "530 2018-01-05  14585.004883  16917.00\n",
       "531 2018-01-06  16236.125000  17161.00\n",
       "532 2018-01-07  16563.357422  16196.00\n",
       "533 2018-01-08  15786.441406  14930.00\n",
       "534 2018-01-09  14609.812500  14423.00\n",
       "\n",
       "[535 rows x 3 columns]"
      ]
     },
     "execution_count": 28,
     "metadata": {},
     "output_type": "execute_result"
    }
   ],
   "source": [
    "test_data_price_pred"
   ]
  },
  {
   "cell_type": "code",
   "execution_count": 30,
   "metadata": {
    "collapsed": false
   },
   "outputs": [
    {
     "data": {
      "image/png": "[encoded data removed]",
      "text/plain": [
       "<matplotlib.figure.Figure at 0x1a2f2532b0>"
      ]
     },
     "metadata": {},
     "output_type": "display_data"
    }
   ],
   "source": [
    "plt.plot(test_data_price_pred['Date'], test_data_price_pred['Price'], color='green')\n",
    "plt.plot(test_data_price_pred['Date'], test_data_price_pred['Prediction'], color='orange')\n",
    "plt.legend()\n",
    "plt.title('Predicted vs. Actual Prices')\n",
    "plt.xlabel('Date')\n",
    "plt.ylabel('Price')\n",
    "fig = plt.gcf()\n",
    "fig.set_size_inches(15, 10)\n",
    "plt.savefig('./plots/predictions.png')"
   ]
  }
 ],
 "metadata": {
  "anaconda-cloud": {},
  "kernelspec": {
   "display_name": "Python [conda root]",
   "language": "python",
   "name": "conda-root-py"
  },
  "language_info": {
   "codemirror_mode": {
    "name": "ipython",
    "version": 3
   },
   "file_extension": ".py",
   "mimetype": "text/x-python",
   "name": "python",
   "nbconvert_exporter": "python",
   "pygments_lexer": "ipython3",
   "version": "3.5.2"
  }
 },
 "nbformat": 4,
 "nbformat_minor": 2
}
