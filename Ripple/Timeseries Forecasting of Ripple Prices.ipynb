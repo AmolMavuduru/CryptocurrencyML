{
 "cells": [
  {
   "cell_type": "markdown",
   "metadata": {},
   "source": [
    "# Timeseries Forecasting of Cryptocurrency Prices\n",
    "\n",
    "In this exploration, I make an attempt to train recurrent neural networks to predict the price of cryptocurrencies such as bitcoin."
   ]
  },
  {
   "cell_type": "markdown",
   "metadata": {},
   "source": [
    "## Importing Libraries and Reading in the Data"
   ]
  },
  {
   "cell_type": "code",
   "execution_count": 1,
   "metadata": {
    "collapsed": false
   },
   "outputs": [],
   "source": [
    "import numpy as np\n",
    "import pandas as pd\n",
    "import matplotlib.pyplot as plt\n",
    "%matplotlib inline"
   ]
  },
  {
   "cell_type": "code",
   "execution_count": 2,
   "metadata": {
    "collapsed": false
   },
   "outputs": [
    {
     "data": {
      "text/html": [
       "<div>\n",
       "<style scoped>\n",
       "    .dataframe tbody tr th:only-of-type {\n",
       "        vertical-align: middle;\n",
       "    }\n",
       "\n",
       "    .dataframe tbody tr th {\n",
       "        vertical-align: top;\n",
       "    }\n",
       "\n",
       "    .dataframe thead th {\n",
       "        text-align: right;\n",
       "    }\n",
       "</style>\n",
       "<table border=\"1\" class=\"dataframe\">\n",
       "  <thead>\n",
       "    <tr style=\"text-align: right;\">\n",
       "      <th></th>\n",
       "      <th>Date</th>\n",
       "      <th>Price</th>\n",
       "      <th>Open</th>\n",
       "      <th>High</th>\n",
       "      <th>Low</th>\n",
       "      <th>Vol.</th>\n",
       "      <th>Change %</th>\n",
       "    </tr>\n",
       "  </thead>\n",
       "  <tbody>\n",
       "    <tr>\n",
       "      <th>0</th>\n",
       "      <td>Jan 11, 2018</td>\n",
       "      <td>2.09436</td>\n",
       "      <td>1.94415</td>\n",
       "      <td>2.26700</td>\n",
       "      <td>1.54000</td>\n",
       "      <td>40.02M</td>\n",
       "      <td>9.08</td>\n",
       "    </tr>\n",
       "    <tr>\n",
       "      <th>1</th>\n",
       "      <td>Jan 10, 2018</td>\n",
       "      <td>1.92000</td>\n",
       "      <td>2.05000</td>\n",
       "      <td>2.11800</td>\n",
       "      <td>1.61320</td>\n",
       "      <td>30.46M</td>\n",
       "      <td>-5.91</td>\n",
       "    </tr>\n",
       "    <tr>\n",
       "      <th>2</th>\n",
       "      <td>Jan 09, 2018</td>\n",
       "      <td>2.04055</td>\n",
       "      <td>2.40000</td>\n",
       "      <td>2.48100</td>\n",
       "      <td>1.90000</td>\n",
       "      <td>18.91M</td>\n",
       "      <td>-14.98</td>\n",
       "    </tr>\n",
       "    <tr>\n",
       "      <th>3</th>\n",
       "      <td>Jan 08, 2018</td>\n",
       "      <td>2.40000</td>\n",
       "      <td>2.77067</td>\n",
       "      <td>2.77067</td>\n",
       "      <td>1.91111</td>\n",
       "      <td>20.76M</td>\n",
       "      <td>-13.36</td>\n",
       "    </tr>\n",
       "    <tr>\n",
       "      <th>4</th>\n",
       "      <td>Jan 07, 2018</td>\n",
       "      <td>2.77000</td>\n",
       "      <td>2.65000</td>\n",
       "      <td>2.81000</td>\n",
       "      <td>2.56000</td>\n",
       "      <td>9.10M</td>\n",
       "      <td>4.53</td>\n",
       "    </tr>\n",
       "  </tbody>\n",
       "</table>\n",
       "</div>"
      ],
      "text/plain": [
       "           Date    Price     Open     High      Low    Vol.  Change %\n",
       "0  Jan 11, 2018  2.09436  1.94415  2.26700  1.54000  40.02M      9.08\n",
       "1  Jan 10, 2018  1.92000  2.05000  2.11800  1.61320  30.46M     -5.91\n",
       "2  Jan 09, 2018  2.04055  2.40000  2.48100  1.90000  18.91M    -14.98\n",
       "3  Jan 08, 2018  2.40000  2.77067  2.77067  1.91111  20.76M    -13.36\n",
       "4  Jan 07, 2018  2.77000  2.65000  2.81000  2.56000   9.10M      4.53"
      ]
     },
     "execution_count": 2,
     "metadata": {},
     "output_type": "execute_result"
    }
   ],
   "source": [
    "data = pd.read_csv('./data/XRP USD Historical Data.csv')\n",
    "data.head()"
   ]
  },
  {
   "cell_type": "code",
   "execution_count": 3,
   "metadata": {
    "collapsed": false
   },
   "outputs": [
    {
     "data": {
      "text/html": [
       "<div>\n",
       "<style scoped>\n",
       "    .dataframe tbody tr th:only-of-type {\n",
       "        vertical-align: middle;\n",
       "    }\n",
       "\n",
       "    .dataframe tbody tr th {\n",
       "        vertical-align: top;\n",
       "    }\n",
       "\n",
       "    .dataframe thead th {\n",
       "        text-align: right;\n",
       "    }\n",
       "</style>\n",
       "<table border=\"1\" class=\"dataframe\">\n",
       "  <thead>\n",
       "    <tr style=\"text-align: right;\">\n",
       "      <th></th>\n",
       "      <th>Date</th>\n",
       "      <th>Price</th>\n",
       "      <th>Open</th>\n",
       "      <th>High</th>\n",
       "      <th>Low</th>\n",
       "      <th>Vol.</th>\n",
       "      <th>Change %</th>\n",
       "    </tr>\n",
       "  </thead>\n",
       "  <tbody>\n",
       "    <tr>\n",
       "      <th>1074</th>\n",
       "      <td>Feb 02, 2015</td>\n",
       "      <td>0.01424</td>\n",
       "      <td>0.01424</td>\n",
       "      <td>0.01424</td>\n",
       "      <td>0.01424</td>\n",
       "      <td>0</td>\n",
       "      <td>0.00</td>\n",
       "    </tr>\n",
       "    <tr>\n",
       "      <th>1075</th>\n",
       "      <td>Feb 01, 2015</td>\n",
       "      <td>0.01424</td>\n",
       "      <td>0.01455</td>\n",
       "      <td>0.01455</td>\n",
       "      <td>0.01419</td>\n",
       "      <td>0.10K</td>\n",
       "      <td>-2.13</td>\n",
       "    </tr>\n",
       "    <tr>\n",
       "      <th>1076</th>\n",
       "      <td>Jan 31, 2015</td>\n",
       "      <td>0.01455</td>\n",
       "      <td>0.01649</td>\n",
       "      <td>0.01649</td>\n",
       "      <td>0.01448</td>\n",
       "      <td>1.22K</td>\n",
       "      <td>-11.76</td>\n",
       "    </tr>\n",
       "    <tr>\n",
       "      <th>1077</th>\n",
       "      <td>NaN</td>\n",
       "      <td>NaN</td>\n",
       "      <td>NaN</td>\n",
       "      <td>NaN</td>\n",
       "      <td>NaN</td>\n",
       "      <td>NaN</td>\n",
       "      <td>NaN</td>\n",
       "    </tr>\n",
       "    <tr>\n",
       "      <th>1078</th>\n",
       "      <td>NaN</td>\n",
       "      <td>Highest:3.28000</td>\n",
       "      <td>Lowest:0.00211</td>\n",
       "      <td>Difference:3.27789</td>\n",
       "      <td>Average:0.09488</td>\n",
       "      <td>Change %:12,600.78085</td>\n",
       "      <td>NaN</td>\n",
       "    </tr>\n",
       "  </tbody>\n",
       "</table>\n",
       "</div>"
      ],
      "text/plain": [
       "              Date            Price            Open                High  \\\n",
       "1074  Feb 02, 2015          0.01424         0.01424             0.01424   \n",
       "1075  Feb 01, 2015          0.01424         0.01455             0.01455   \n",
       "1076  Jan 31, 2015          0.01455         0.01649             0.01649   \n",
       "1077           NaN              NaN             NaN                 NaN   \n",
       "1078           NaN  Highest:3.28000  Lowest:0.00211  Difference:3.27789   \n",
       "\n",
       "                  Low                   Vol.  Change %  \n",
       "1074          0.01424                      0      0.00  \n",
       "1075          0.01419                  0.10K     -2.13  \n",
       "1076          0.01448                  1.22K    -11.76  \n",
       "1077              NaN                    NaN       NaN  \n",
       "1078  Average:0.09488  Change %:12,600.78085       NaN  "
      ]
     },
     "execution_count": 3,
     "metadata": {},
     "output_type": "execute_result"
    }
   ],
   "source": [
    "data.tail()"
   ]
  },
  {
   "cell_type": "code",
   "execution_count": 4,
   "metadata": {
    "collapsed": false
   },
   "outputs": [],
   "source": [
    "data.dropna(axis=0, inplace=True)\n",
    "data = data.iloc[::-1]"
   ]
  },
  {
   "cell_type": "code",
   "execution_count": 5,
   "metadata": {
    "collapsed": false
   },
   "outputs": [],
   "source": [
    "from pandas import datetime\n",
    "data['Date'] = data['Date'].apply(lambda date: pd.to_datetime(date))"
   ]
  },
  {
   "cell_type": "code",
   "execution_count": 6,
   "metadata": {
    "collapsed": true
   },
   "outputs": [],
   "source": [
    "import locale\n",
    "from locale import *\n",
    "locale.setlocale(locale.LC_NUMERIC, '')\n",
    "data['Price'] = data['Price'].apply(lambda x: atof(x))"
   ]
  },
  {
   "cell_type": "code",
   "execution_count": 7,
   "metadata": {
    "collapsed": true
   },
   "outputs": [],
   "source": [
    "data['Open'] = data['Open'].apply(lambda x: atof(x))\n",
    "data['High'] = data['High'].apply(lambda x: atof(x))\n",
    "data['Low'] = data['Low'].apply(lambda x: atof(x))"
   ]
  },
  {
   "cell_type": "code",
   "execution_count": 8,
   "metadata": {
    "collapsed": false
   },
   "outputs": [
    {
     "name": "stdout",
     "output_type": "stream",
     "text": [
      "<class 'pandas.core.frame.DataFrame'>\n",
      "Int64Index: 1077 entries, 1076 to 0\n",
      "Data columns (total 7 columns):\n",
      "Date        1077 non-null datetime64[ns]\n",
      "Price       1077 non-null float64\n",
      "Open        1077 non-null float64\n",
      "High        1077 non-null float64\n",
      "Low         1077 non-null float64\n",
      "Vol.        1077 non-null object\n",
      "Change %    1077 non-null float64\n",
      "dtypes: datetime64[ns](1), float64(5), object(1)\n",
      "memory usage: 67.3+ KB\n"
     ]
    }
   ],
   "source": [
    "data.info()"
   ]
  },
  {
   "cell_type": "markdown",
   "metadata": {},
   "source": [
    "## Visualizing prices for the whole dataset"
   ]
  },
  {
   "cell_type": "code",
   "execution_count": 9,
   "metadata": {
    "collapsed": false
   },
   "outputs": [
    {
     "data": {
      "image/png": "[encoded data removed]",
      "text/plain": [
       "<matplotlib.figure.Figure at 0x1146d5780>"
      ]
     },
     "metadata": {},
     "output_type": "display_data"
    }
   ],
   "source": [
    "plt.plot(data['Date'], data['Price'], color = 'orange')\n",
    "plt.plot(data['Date'], data['Open'], color='purple')\n",
    "plt.plot(data['Date'], data['Low'], color='red')\n",
    "plt.plot(data['Date'], data['High'], color='blue')\n",
    "plt.title('DogeCoin Prices')\n",
    "plt.xlabel('Date')\n",
    "plt.ylabel('Price')\n",
    "plt.legend()\n",
    "fig = plt.gcf()\n",
    "fig.set_size_inches(15, 10)"
   ]
  },
  {
   "cell_type": "markdown",
   "metadata": {},
   "source": [
    "## Using TensorFlow to Train RNNs"
   ]
  },
  {
   "cell_type": "code",
   "execution_count": 10,
   "metadata": {
    "collapsed": false
   },
   "outputs": [
    {
     "name": "stderr",
     "output_type": "stream",
     "text": [
      "//anaconda/lib/python3.5/importlib/_bootstrap.py:222: RuntimeWarning: compiletime version 3.6 of module 'tensorflow.python.framework.fast_tensor_util' does not match runtime version 3.5\n",
      "  return f(*args, **kwds)\n"
     ]
    }
   ],
   "source": [
    "import tensorflow as tf"
   ]
  },
  {
   "cell_type": "code",
   "execution_count": 11,
   "metadata": {
    "collapsed": false
   },
   "outputs": [],
   "source": [
    "data = data.set_index('Date')"
   ]
  },
  {
   "cell_type": "code",
   "execution_count": 12,
   "metadata": {
    "collapsed": false
   },
   "outputs": [
    {
     "name": "stdout",
     "output_type": "stream",
     "text": [
      "<class 'pandas.core.frame.DataFrame'>\n",
      "DatetimeIndex: 1077 entries, 2015-01-31 to 2018-01-11\n",
      "Data columns (total 6 columns):\n",
      "Price       1077 non-null float64\n",
      "Open        1077 non-null float64\n",
      "High        1077 non-null float64\n",
      "Low         1077 non-null float64\n",
      "Vol.        1077 non-null object\n",
      "Change %    1077 non-null float64\n",
      "dtypes: float64(5), object(1)\n",
      "memory usage: 58.9+ KB\n"
     ]
    }
   ],
   "source": [
    "data.info()"
   ]
  },
  {
   "cell_type": "markdown",
   "metadata": {},
   "source": [
    "### Scaling the Data\n",
    "In order to train a neural network on this data, it is a good idea to scale it first."
   ]
  },
  {
   "cell_type": "code",
   "execution_count": 13,
   "metadata": {
    "collapsed": true
   },
   "outputs": [],
   "source": [
    "from sklearn.preprocessing import MinMaxScaler"
   ]
  },
  {
   "cell_type": "code",
   "execution_count": 14,
   "metadata": {
    "collapsed": true
   },
   "outputs": [],
   "source": [
    "scaler = MinMaxScaler()"
   ]
  },
  {
   "cell_type": "code",
   "execution_count": 15,
   "metadata": {
    "collapsed": true
   },
   "outputs": [],
   "source": [
    "price_data_scaled = scaler.fit_transform(data['Price'].values.reshape(-1, 1))"
   ]
  },
  {
   "cell_type": "markdown",
   "metadata": {},
   "source": [
    "### Creating a Dataset with Features"
   ]
  },
  {
   "cell_type": "code",
   "execution_count": 16,
   "metadata": {
    "collapsed": true
   },
   "outputs": [],
   "source": [
    "def create_dataset(timeseries, n_inputs=30):\n",
    "    \n",
    "    features = []\n",
    "    targets = []\n",
    "    \n",
    "    for i in range(len(timeseries) - n_inputs):\n",
    "        \n",
    "        start = i\n",
    "        end = start + n_inputs\n",
    "        \n",
    "        x = timeseries[start:end]\n",
    "        y = timeseries[end]\n",
    "        \n",
    "        features.append(x)\n",
    "        targets.append(y)\n",
    "    \n",
    "    return np.array(features), np.array(targets)"
   ]
  },
  {
   "cell_type": "code",
   "execution_count": 17,
   "metadata": {
    "collapsed": true
   },
   "outputs": [],
   "source": [
    "X, y = create_dataset(price_data_scaled, n_inputs=14)"
   ]
  },
  {
   "cell_type": "code",
   "execution_count": 18,
   "metadata": {
    "collapsed": false
   },
   "outputs": [
    {
     "data": {
      "text/plain": [
       "(1063, 14, 1)"
      ]
     },
     "execution_count": 18,
     "metadata": {},
     "output_type": "execute_result"
    }
   ],
   "source": [
    "X.shape"
   ]
  },
  {
   "cell_type": "code",
   "execution_count": 19,
   "metadata": {
    "collapsed": true
   },
   "outputs": [],
   "source": [
    "percent_training = 0.75\n",
    "num_samples = X.shape[0]\n",
    "num_train = int(percent_training * num_samples)\n",
    "\n",
    "X_train, y_train = X[:num_train], y[:num_train]\n",
    "X_test, y_test = X[num_train:], y[num_train:]"
   ]
  },
  {
   "cell_type": "markdown",
   "metadata": {},
   "source": [
    "## Training the RNN Model"
   ]
  },
  {
   "cell_type": "code",
   "execution_count": 20,
   "metadata": {
    "collapsed": false
   },
   "outputs": [
    {
     "name": "stderr",
     "output_type": "stream",
     "text": [
      "Using TensorFlow backend.\n"
     ]
    }
   ],
   "source": [
    "from keras.models import Sequential, load_model\n",
    "from keras.layers import Dense, LSTM\n",
    "from keras.callbacks import EarlyStopping\n",
    "\n",
    "num_inputs = 14\n",
    "\n",
    "model = Sequential()\n",
    "model.add(LSTM(100, input_shape=(num_inputs, 1)))\n",
    "model.add(Dense(1))\n",
    "model.compile(loss='mse', optimizer='rmsprop', metrics=['mae'])\n",
    "\n",
    "early_stopping = EarlyStopping(monitor='val_loss', mode='min', patience=3)"
   ]
  },
  {
   "cell_type": "code",
   "execution_count": 21,
   "metadata": {
    "collapsed": false
   },
   "outputs": [
    {
     "name": "stdout",
     "output_type": "stream",
     "text": [
      "Train on 797 samples, validate on 266 samples\n",
      "Epoch 1/100\n",
      "797/797 [==============================] - 7s 9ms/step - loss: 9.5244e-06 - mean_absolute_error: 0.0017 - val_loss: 0.0356 - val_mean_absolute_error: 0.1102\n",
      "Epoch 2/100\n",
      "797/797 [==============================] - 7s 8ms/step - loss: 4.3962e-06 - mean_absolute_error: 0.0012 - val_loss: 0.0384 - val_mean_absolute_error: 0.1153\n",
      "Epoch 3/100\n",
      "797/797 [==============================] - 7s 8ms/step - loss: 4.3673e-06 - mean_absolute_error: 0.0012 - val_loss: 0.0372 - val_mean_absolute_error: 0.1130\n",
      "Epoch 4/100\n",
      "797/797 [==============================] - 7s 8ms/step - loss: 4.2130e-06 - mean_absolute_error: 0.0012 - val_loss: 0.0361 - val_mean_absolute_error: 0.1113\n"
     ]
    },
    {
     "data": {
      "text/plain": [
       "<keras.callbacks.History at 0x11f39a668>"
      ]
     },
     "execution_count": 21,
     "metadata": {},
     "output_type": "execute_result"
    }
   ],
   "source": [
    "model.fit(X_train, y_train, validation_data=(X_test, y_test), \n",
    "          batch_size=1, epochs=100, callbacks=[early_stopping])"
   ]
  },
  {
   "cell_type": "code",
   "execution_count": 22,
   "metadata": {
    "collapsed": true
   },
   "outputs": [],
   "source": [
    "model.save('./models/ripple_model.h5')"
   ]
  },
  {
   "cell_type": "markdown",
   "metadata": {},
   "source": [
    "### Comparing Generated Predictions with Prices in Testing Set"
   ]
  },
  {
   "cell_type": "code",
   "execution_count": 23,
   "metadata": {
    "collapsed": false
   },
   "outputs": [],
   "source": [
    "pred = model.predict(X_test)"
   ]
  },
  {
   "cell_type": "code",
   "execution_count": 24,
   "metadata": {
    "collapsed": false
   },
   "outputs": [
    {
     "data": {
      "text/plain": [
       "(266, 1)"
      ]
     },
     "execution_count": 24,
     "metadata": {},
     "output_type": "execute_result"
    }
   ],
   "source": [
    "pred.shape"
   ]
  },
  {
   "cell_type": "code",
   "execution_count": 25,
   "metadata": {
    "collapsed": false
   },
   "outputs": [],
   "source": [
    "results = scaler.inverse_transform(pred)"
   ]
  },
  {
   "cell_type": "code",
   "execution_count": 26,
   "metadata": {
    "collapsed": false
   },
   "outputs": [],
   "source": [
    "num_samples = results.shape[0]\n",
    "test_data_price = data.iloc[-num_samples:]['Price']"
   ]
  },
  {
   "cell_type": "code",
   "execution_count": 27,
   "metadata": {
    "collapsed": false
   },
   "outputs": [],
   "source": [
    "test_data_price_pred = pd.DataFrame({'Date': test_data_price.index, \n",
    "                                     'Price': test_data_price.values, \n",
    "                                     'Prediction': results[:, 0]})"
   ]
  },
  {
   "cell_type": "code",
   "execution_count": 28,
   "metadata": {
    "collapsed": false
   },
   "outputs": [
    {
     "data": {
      "text/html": [
       "<div>\n",
       "<style scoped>\n",
       "    .dataframe tbody tr th:only-of-type {\n",
       "        vertical-align: middle;\n",
       "    }\n",
       "\n",
       "    .dataframe tbody tr th {\n",
       "        vertical-align: top;\n",
       "    }\n",
       "\n",
       "    .dataframe thead th {\n",
       "        text-align: right;\n",
       "    }\n",
       "</style>\n",
       "<table border=\"1\" class=\"dataframe\">\n",
       "  <thead>\n",
       "    <tr style=\"text-align: right;\">\n",
       "      <th></th>\n",
       "      <th>Date</th>\n",
       "      <th>Prediction</th>\n",
       "      <th>Price</th>\n",
       "    </tr>\n",
       "  </thead>\n",
       "  <tbody>\n",
       "    <tr>\n",
       "      <th>0</th>\n",
       "      <td>2017-04-21</td>\n",
       "      <td>0.009814</td>\n",
       "      <td>0.03531</td>\n",
       "    </tr>\n",
       "    <tr>\n",
       "      <th>1</th>\n",
       "      <td>2017-04-22</td>\n",
       "      <td>0.010292</td>\n",
       "      <td>0.03477</td>\n",
       "    </tr>\n",
       "    <tr>\n",
       "      <th>2</th>\n",
       "      <td>2017-04-23</td>\n",
       "      <td>0.010382</td>\n",
       "      <td>0.03475</td>\n",
       "    </tr>\n",
       "    <tr>\n",
       "      <th>3</th>\n",
       "      <td>2017-04-24</td>\n",
       "      <td>0.010400</td>\n",
       "      <td>0.03376</td>\n",
       "    </tr>\n",
       "    <tr>\n",
       "      <th>4</th>\n",
       "      <td>2017-04-25</td>\n",
       "      <td>0.010266</td>\n",
       "      <td>0.03504</td>\n",
       "    </tr>\n",
       "    <tr>\n",
       "      <th>5</th>\n",
       "      <td>2017-04-26</td>\n",
       "      <td>0.010383</td>\n",
       "      <td>0.03582</td>\n",
       "    </tr>\n",
       "    <tr>\n",
       "      <th>6</th>\n",
       "      <td>2017-04-27</td>\n",
       "      <td>0.010516</td>\n",
       "      <td>0.03806</td>\n",
       "    </tr>\n",
       "    <tr>\n",
       "      <th>7</th>\n",
       "      <td>2017-04-28</td>\n",
       "      <td>0.010839</td>\n",
       "      <td>0.04784</td>\n",
       "    </tr>\n",
       "    <tr>\n",
       "      <th>8</th>\n",
       "      <td>2017-04-29</td>\n",
       "      <td>0.012194</td>\n",
       "      <td>0.05700</td>\n",
       "    </tr>\n",
       "    <tr>\n",
       "      <th>9</th>\n",
       "      <td>2017-04-30</td>\n",
       "      <td>0.013745</td>\n",
       "      <td>0.05500</td>\n",
       "    </tr>\n",
       "    <tr>\n",
       "      <th>10</th>\n",
       "      <td>2017-05-01</td>\n",
       "      <td>0.013824</td>\n",
       "      <td>0.05941</td>\n",
       "    </tr>\n",
       "    <tr>\n",
       "      <th>11</th>\n",
       "      <td>2017-05-02</td>\n",
       "      <td>0.014248</td>\n",
       "      <td>0.05800</td>\n",
       "    </tr>\n",
       "    <tr>\n",
       "      <th>12</th>\n",
       "      <td>2017-05-03</td>\n",
       "      <td>0.014026</td>\n",
       "      <td>0.06614</td>\n",
       "    </tr>\n",
       "    <tr>\n",
       "      <th>13</th>\n",
       "      <td>2017-05-04</td>\n",
       "      <td>0.014868</td>\n",
       "      <td>0.08300</td>\n",
       "    </tr>\n",
       "    <tr>\n",
       "      <th>14</th>\n",
       "      <td>2017-05-05</td>\n",
       "      <td>0.017191</td>\n",
       "      <td>0.09353</td>\n",
       "    </tr>\n",
       "    <tr>\n",
       "      <th>15</th>\n",
       "      <td>2017-05-06</td>\n",
       "      <td>0.019083</td>\n",
       "      <td>0.10340</td>\n",
       "    </tr>\n",
       "    <tr>\n",
       "      <th>16</th>\n",
       "      <td>2017-05-07</td>\n",
       "      <td>0.020663</td>\n",
       "      <td>0.14490</td>\n",
       "    </tr>\n",
       "    <tr>\n",
       "      <th>17</th>\n",
       "      <td>2017-05-08</td>\n",
       "      <td>0.026216</td>\n",
       "      <td>0.19640</td>\n",
       "    </tr>\n",
       "    <tr>\n",
       "      <th>18</th>\n",
       "      <td>2017-05-09</td>\n",
       "      <td>0.034160</td>\n",
       "      <td>0.16000</td>\n",
       "    </tr>\n",
       "    <tr>\n",
       "      <th>19</th>\n",
       "      <td>2017-05-10</td>\n",
       "      <td>0.031045</td>\n",
       "      <td>0.18990</td>\n",
       "    </tr>\n",
       "    <tr>\n",
       "      <th>20</th>\n",
       "      <td>2017-05-11</td>\n",
       "      <td>0.033100</td>\n",
       "      <td>0.18680</td>\n",
       "    </tr>\n",
       "    <tr>\n",
       "      <th>21</th>\n",
       "      <td>2017-05-12</td>\n",
       "      <td>0.032601</td>\n",
       "      <td>0.21290</td>\n",
       "    </tr>\n",
       "    <tr>\n",
       "      <th>22</th>\n",
       "      <td>2017-05-13</td>\n",
       "      <td>0.035203</td>\n",
       "      <td>0.21880</td>\n",
       "    </tr>\n",
       "    <tr>\n",
       "      <th>23</th>\n",
       "      <td>2017-05-14</td>\n",
       "      <td>0.036187</td>\n",
       "      <td>0.22170</td>\n",
       "    </tr>\n",
       "    <tr>\n",
       "      <th>24</th>\n",
       "      <td>2017-05-15</td>\n",
       "      <td>0.036277</td>\n",
       "      <td>0.27600</td>\n",
       "    </tr>\n",
       "    <tr>\n",
       "      <th>25</th>\n",
       "      <td>2017-05-16</td>\n",
       "      <td>0.042868</td>\n",
       "      <td>0.35540</td>\n",
       "    </tr>\n",
       "    <tr>\n",
       "      <th>26</th>\n",
       "      <td>2017-05-17</td>\n",
       "      <td>0.054667</td>\n",
       "      <td>0.39200</td>\n",
       "    </tr>\n",
       "    <tr>\n",
       "      <th>27</th>\n",
       "      <td>2017-05-18</td>\n",
       "      <td>0.062067</td>\n",
       "      <td>0.36800</td>\n",
       "    </tr>\n",
       "    <tr>\n",
       "      <th>28</th>\n",
       "      <td>2017-05-19</td>\n",
       "      <td>0.059760</td>\n",
       "      <td>0.32100</td>\n",
       "    </tr>\n",
       "    <tr>\n",
       "      <th>29</th>\n",
       "      <td>2017-05-20</td>\n",
       "      <td>0.051456</td>\n",
       "      <td>0.34850</td>\n",
       "    </tr>\n",
       "    <tr>\n",
       "      <th>...</th>\n",
       "      <td>...</td>\n",
       "      <td>...</td>\n",
       "      <td>...</td>\n",
       "    </tr>\n",
       "    <tr>\n",
       "      <th>236</th>\n",
       "      <td>2017-12-13</td>\n",
       "      <td>0.050705</td>\n",
       "      <td>0.45100</td>\n",
       "    </tr>\n",
       "    <tr>\n",
       "      <th>237</th>\n",
       "      <td>2017-12-14</td>\n",
       "      <td>0.068062</td>\n",
       "      <td>0.81700</td>\n",
       "    </tr>\n",
       "    <tr>\n",
       "      <th>238</th>\n",
       "      <td>2017-12-15</td>\n",
       "      <td>0.119873</td>\n",
       "      <td>0.73740</td>\n",
       "    </tr>\n",
       "    <tr>\n",
       "      <th>239</th>\n",
       "      <td>2017-12-16</td>\n",
       "      <td>0.122348</td>\n",
       "      <td>0.74000</td>\n",
       "    </tr>\n",
       "    <tr>\n",
       "      <th>240</th>\n",
       "      <td>2017-12-17</td>\n",
       "      <td>0.118939</td>\n",
       "      <td>0.71200</td>\n",
       "    </tr>\n",
       "    <tr>\n",
       "      <th>241</th>\n",
       "      <td>2017-12-18</td>\n",
       "      <td>0.110240</td>\n",
       "      <td>0.75680</td>\n",
       "    </tr>\n",
       "    <tr>\n",
       "      <th>242</th>\n",
       "      <td>2017-12-19</td>\n",
       "      <td>0.110315</td>\n",
       "      <td>0.73160</td>\n",
       "    </tr>\n",
       "    <tr>\n",
       "      <th>243</th>\n",
       "      <td>2017-12-20</td>\n",
       "      <td>0.104841</td>\n",
       "      <td>0.71490</td>\n",
       "    </tr>\n",
       "    <tr>\n",
       "      <th>244</th>\n",
       "      <td>2017-12-21</td>\n",
       "      <td>0.099359</td>\n",
       "      <td>1.09000</td>\n",
       "    </tr>\n",
       "    <tr>\n",
       "      <th>245</th>\n",
       "      <td>2017-12-22</td>\n",
       "      <td>0.145467</td>\n",
       "      <td>0.98800</td>\n",
       "    </tr>\n",
       "    <tr>\n",
       "      <th>246</th>\n",
       "      <td>2017-12-23</td>\n",
       "      <td>0.144741</td>\n",
       "      <td>0.98560</td>\n",
       "    </tr>\n",
       "    <tr>\n",
       "      <th>247</th>\n",
       "      <td>2017-12-24</td>\n",
       "      <td>0.141285</td>\n",
       "      <td>0.97180</td>\n",
       "    </tr>\n",
       "    <tr>\n",
       "      <th>248</th>\n",
       "      <td>2017-12-25</td>\n",
       "      <td>0.135974</td>\n",
       "      <td>0.97200</td>\n",
       "    </tr>\n",
       "    <tr>\n",
       "      <th>249</th>\n",
       "      <td>2017-12-26</td>\n",
       "      <td>0.132539</td>\n",
       "      <td>1.07000</td>\n",
       "    </tr>\n",
       "    <tr>\n",
       "      <th>250</th>\n",
       "      <td>2017-12-27</td>\n",
       "      <td>0.142952</td>\n",
       "      <td>1.21000</td>\n",
       "    </tr>\n",
       "    <tr>\n",
       "      <th>251</th>\n",
       "      <td>2017-12-28</td>\n",
       "      <td>0.163191</td>\n",
       "      <td>1.24000</td>\n",
       "    </tr>\n",
       "    <tr>\n",
       "      <th>252</th>\n",
       "      <td>2017-12-29</td>\n",
       "      <td>0.171603</td>\n",
       "      <td>1.92000</td>\n",
       "    </tr>\n",
       "    <tr>\n",
       "      <th>253</th>\n",
       "      <td>2017-12-30</td>\n",
       "      <td>0.259423</td>\n",
       "      <td>1.83000</td>\n",
       "    </tr>\n",
       "    <tr>\n",
       "      <th>254</th>\n",
       "      <td>2017-12-31</td>\n",
       "      <td>0.270370</td>\n",
       "      <td>1.97000</td>\n",
       "    </tr>\n",
       "    <tr>\n",
       "      <th>255</th>\n",
       "      <td>2018-01-01</td>\n",
       "      <td>0.284412</td>\n",
       "      <td>2.03000</td>\n",
       "    </tr>\n",
       "    <tr>\n",
       "      <th>256</th>\n",
       "      <td>2018-01-02</td>\n",
       "      <td>0.289421</td>\n",
       "      <td>2.19000</td>\n",
       "    </tr>\n",
       "    <tr>\n",
       "      <th>257</th>\n",
       "      <td>2018-01-03</td>\n",
       "      <td>0.304744</td>\n",
       "      <td>2.72000</td>\n",
       "    </tr>\n",
       "    <tr>\n",
       "      <th>258</th>\n",
       "      <td>2018-01-04</td>\n",
       "      <td>0.370174</td>\n",
       "      <td>2.73000</td>\n",
       "    </tr>\n",
       "    <tr>\n",
       "      <th>259</th>\n",
       "      <td>2018-01-05</td>\n",
       "      <td>0.384800</td>\n",
       "      <td>2.50000</td>\n",
       "    </tr>\n",
       "    <tr>\n",
       "      <th>260</th>\n",
       "      <td>2018-01-06</td>\n",
       "      <td>0.352764</td>\n",
       "      <td>2.65000</td>\n",
       "    </tr>\n",
       "    <tr>\n",
       "      <th>261</th>\n",
       "      <td>2018-01-07</td>\n",
       "      <td>0.354679</td>\n",
       "      <td>2.77000</td>\n",
       "    </tr>\n",
       "    <tr>\n",
       "      <th>262</th>\n",
       "      <td>2018-01-08</td>\n",
       "      <td>0.365699</td>\n",
       "      <td>2.40000</td>\n",
       "    </tr>\n",
       "    <tr>\n",
       "      <th>263</th>\n",
       "      <td>2018-01-09</td>\n",
       "      <td>0.320205</td>\n",
       "      <td>2.04055</td>\n",
       "    </tr>\n",
       "    <tr>\n",
       "      <th>264</th>\n",
       "      <td>2018-01-10</td>\n",
       "      <td>0.259431</td>\n",
       "      <td>1.92000</td>\n",
       "    </tr>\n",
       "    <tr>\n",
       "      <th>265</th>\n",
       "      <td>2018-01-11</td>\n",
       "      <td>0.225970</td>\n",
       "      <td>2.09436</td>\n",
       "    </tr>\n",
       "  </tbody>\n",
       "</table>\n",
       "<p>266 rows × 3 columns</p>\n",
       "</div>"
      ],
      "text/plain": [
       "          Date  Prediction    Price\n",
       "0   2017-04-21    0.009814  0.03531\n",
       "1   2017-04-22    0.010292  0.03477\n",
       "2   2017-04-23    0.010382  0.03475\n",
       "3   2017-04-24    0.010400  0.03376\n",
       "4   2017-04-25    0.010266  0.03504\n",
       "5   2017-04-26    0.010383  0.03582\n",
       "6   2017-04-27    0.010516  0.03806\n",
       "7   2017-04-28    0.010839  0.04784\n",
       "8   2017-04-29    0.012194  0.05700\n",
       "9   2017-04-30    0.013745  0.05500\n",
       "10  2017-05-01    0.013824  0.05941\n",
       "11  2017-05-02    0.014248  0.05800\n",
       "12  2017-05-03    0.014026  0.06614\n",
       "13  2017-05-04    0.014868  0.08300\n",
       "14  2017-05-05    0.017191  0.09353\n",
       "15  2017-05-06    0.019083  0.10340\n",
       "16  2017-05-07    0.020663  0.14490\n",
       "17  2017-05-08    0.026216  0.19640\n",
       "18  2017-05-09    0.034160  0.16000\n",
       "19  2017-05-10    0.031045  0.18990\n",
       "20  2017-05-11    0.033100  0.18680\n",
       "21  2017-05-12    0.032601  0.21290\n",
       "22  2017-05-13    0.035203  0.21880\n",
       "23  2017-05-14    0.036187  0.22170\n",
       "24  2017-05-15    0.036277  0.27600\n",
       "25  2017-05-16    0.042868  0.35540\n",
       "26  2017-05-17    0.054667  0.39200\n",
       "27  2017-05-18    0.062067  0.36800\n",
       "28  2017-05-19    0.059760  0.32100\n",
       "29  2017-05-20    0.051456  0.34850\n",
       "..         ...         ...      ...\n",
       "236 2017-12-13    0.050705  0.45100\n",
       "237 2017-12-14    0.068062  0.81700\n",
       "238 2017-12-15    0.119873  0.73740\n",
       "239 2017-12-16    0.122348  0.74000\n",
       "240 2017-12-17    0.118939  0.71200\n",
       "241 2017-12-18    0.110240  0.75680\n",
       "242 2017-12-19    0.110315  0.73160\n",
       "243 2017-12-20    0.104841  0.71490\n",
       "244 2017-12-21    0.099359  1.09000\n",
       "245 2017-12-22    0.145467  0.98800\n",
       "246 2017-12-23    0.144741  0.98560\n",
       "247 2017-12-24    0.141285  0.97180\n",
       "248 2017-12-25    0.135974  0.97200\n",
       "249 2017-12-26    0.132539  1.07000\n",
       "250 2017-12-27    0.142952  1.21000\n",
       "251 2017-12-28    0.163191  1.24000\n",
       "252 2017-12-29    0.171603  1.92000\n",
       "253 2017-12-30    0.259423  1.83000\n",
       "254 2017-12-31    0.270370  1.97000\n",
       "255 2018-01-01    0.284412  2.03000\n",
       "256 2018-01-02    0.289421  2.19000\n",
       "257 2018-01-03    0.304744  2.72000\n",
       "258 2018-01-04    0.370174  2.73000\n",
       "259 2018-01-05    0.384800  2.50000\n",
       "260 2018-01-06    0.352764  2.65000\n",
       "261 2018-01-07    0.354679  2.77000\n",
       "262 2018-01-08    0.365699  2.40000\n",
       "263 2018-01-09    0.320205  2.04055\n",
       "264 2018-01-10    0.259431  1.92000\n",
       "265 2018-01-11    0.225970  2.09436\n",
       "\n",
       "[266 rows x 3 columns]"
      ]
     },
     "execution_count": 28,
     "metadata": {},
     "output_type": "execute_result"
    }
   ],
   "source": [
    "test_data_price_pred"
   ]
  },
  {
   "cell_type": "code",
   "execution_count": 29,
   "metadata": {
    "collapsed": false
   },
   "outputs": [
    {
     "data": {
      "image/png": "[encoded data removed]",
      "text/plain": [
       "<matplotlib.figure.Figure at 0x1a3054c1d0>"
      ]
     },
     "metadata": {},
     "output_type": "display_data"
    }
   ],
   "source": [
    "plt.plot(test_data_price_pred['Date'], test_data_price_pred['Price'], color='green')\n",
    "plt.plot(test_data_price_pred['Date'], test_data_price_pred['Prediction'], color='orange')\n",
    "plt.legend()\n",
    "plt.title('Predicted vs. Actual Prices')\n",
    "plt.xlabel('Date')\n",
    "plt.ylabel('Price')\n",
    "fig = plt.gcf()\n",
    "fig.set_size_inches(15, 8)"
   ]
  }
 ],
 "metadata": {
  "anaconda-cloud": {},
  "kernelspec": {
   "display_name": "Python [conda root]",
   "language": "python",
   "name": "conda-root-py"
  },
  "language_info": {
   "codemirror_mode": {
    "name": "ipython",
    "version": 3
   },
   "file_extension": ".py",
   "mimetype": "text/x-python",
   "name": "python",
   "nbconvert_exporter": "python",
   "pygments_lexer": "ipython3",
   "version": "3.5.2"
  }
 },
 "nbformat": 4,
 "nbformat_minor": 2
}
